{
  "nbformat": 4,
  "nbformat_minor": 0,
  "metadata": {
    "colab": {
      "name": "방과후10_21217.ipynb",
      "provenance": [],
      "toc_visible": true,
      "authorship_tag": "ABX9TyO0PHfXbpPH1nTue3YcmVg7",
      "include_colab_link": true
    },
    "kernelspec": {
      "name": "python3",
      "display_name": "Python 3"
    }
  },
  "cells": [
    {
      "cell_type": "markdown",
      "metadata": {
        "id": "view-in-github",
        "colab_type": "text"
      },
      "source": [
        "<a href=\"https://colab.research.google.com/github/woo6244/1324/blob/master/%EB%B0%A9%EA%B3%BC%ED%9B%8410_21217.ipynb\" target=\"_parent\"><img src=\"https://colab.research.google.com/assets/colab-badge.svg\" alt=\"Open In Colab\"/></a>"
      ]
    },
    {
      "cell_type": "markdown",
      "metadata": {
        "id": "e_zLjtXKEGkV",
        "colab_type": "text"
      },
      "source": [
        "#Keras Al"
      ]
    },
    {
      "cell_type": "code",
      "metadata": {
        "id": "mPz0ROBuEKJ8",
        "colab_type": "code",
        "colab": {
          "base_uri": "https://localhost:8080/",
          "height": 35
        },
        "outputId": "2d85ebee-e9de-4bb5-8258-a5615009f45e"
      },
      "source": [
        "print(\"Hello Github\")"
      ],
      "execution_count": 1,
      "outputs": [
        {
          "output_type": "stream",
          "text": [
            "Hello Github\n"
          ],
          "name": "stdout"
        }
      ]
    }
  ]
}