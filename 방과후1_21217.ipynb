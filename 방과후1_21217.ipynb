{
  "nbformat": 4,
  "nbformat_minor": 0,
  "metadata": {
    "colab": {
      "name": "방과후1_21217",
      "provenance": [],
      "authorship_tag": "ABX9TyMrmxSwNJHc1bPR5IDdsRcS",
      "include_colab_link": true
    },
    "kernelspec": {
      "name": "python3",
      "display_name": "Python 3"
    }
  },
  "cells": [
    {
      "cell_type": "markdown",
      "metadata": {
        "id": "view-in-github",
        "colab_type": "text"
      },
      "source": [
        "<a href=\"https://colab.research.google.com/github/woo6244/1324/blob/master/%EB%B0%A9%EA%B3%BC%ED%9B%841_21217.ipynb\" target=\"_parent\"><img src=\"https://colab.research.google.com/assets/colab-badge.svg\" alt=\"Open In Colab\"/></a>"
      ]
    },
    {
      "cell_type": "markdown",
      "metadata": {
        "id": "ymZD9q2l2Fu9",
        "colab_type": "text"
      },
      "source": [
        "###숫자형은 어떻게 만들고 사용할까?"
      ]
    },
    {
      "cell_type": "markdown",
      "metadata": {
        "id": "n7Tez2M82IId",
        "colab_type": "text"
      },
      "source": [
        "####정수형"
      ]
    },
    {
      "cell_type": "code",
      "metadata": {
        "id": "DUDGGMR12J_Y",
        "colab_type": "code",
        "outputId": "0371f608-106b-4c0c-d5c1-71e27f435eda",
        "colab": {
          "base_uri": "https://localhost:8080/",
          "height": 35
        }
      },
      "source": [
        "a=123\n",
        "a"
      ],
      "execution_count": 0,
      "outputs": [
        {
          "output_type": "execute_result",
          "data": {
            "text/plain": [
              "123"
            ]
          },
          "metadata": {
            "tags": []
          },
          "execution_count": 2
        }
      ]
    },
    {
      "cell_type": "code",
      "metadata": {
        "id": "4xE8iMfx2O05",
        "colab_type": "code",
        "outputId": "3e87daa8-afa2-4dbe-c076-33c25184c55b",
        "colab": {
          "base_uri": "https://localhost:8080/",
          "height": 35
        }
      },
      "source": [
        "a=-178\n",
        "a"
      ],
      "execution_count": 0,
      "outputs": [
        {
          "output_type": "execute_result",
          "data": {
            "text/plain": [
              "-178"
            ]
          },
          "metadata": {
            "tags": []
          },
          "execution_count": 4
        }
      ]
    },
    {
      "cell_type": "code",
      "metadata": {
        "id": "wMywClkE2Qt6",
        "colab_type": "code",
        "outputId": "ba111b85-3b5b-47c9-d8fe-d404d0793b27",
        "colab": {
          "base_uri": "https://localhost:8080/",
          "height": 35
        }
      },
      "source": [
        "a=0\n",
        "a"
      ],
      "execution_count": 0,
      "outputs": [
        {
          "output_type": "execute_result",
          "data": {
            "text/plain": [
              "0"
            ]
          },
          "metadata": {
            "tags": []
          },
          "execution_count": 5
        }
      ]
    },
    {
      "cell_type": "markdown",
      "metadata": {
        "id": "N_YE6L6H2Sp9",
        "colab_type": "text"
      },
      "source": [
        "####실수형"
      ]
    },
    {
      "cell_type": "code",
      "metadata": {
        "id": "91mbcUMU2Tpq",
        "colab_type": "code",
        "outputId": "b9d6d48e-485d-4a2d-e18b-702fea0366ca",
        "colab": {
          "base_uri": "https://localhost:8080/",
          "height": 35
        }
      },
      "source": [
        "a =1.2\n",
        "a"
      ],
      "execution_count": 0,
      "outputs": [
        {
          "output_type": "execute_result",
          "data": {
            "text/plain": [
              "1.2"
            ]
          },
          "metadata": {
            "tags": []
          },
          "execution_count": 6
        }
      ]
    },
    {
      "cell_type": "code",
      "metadata": {
        "id": "HKz57ybC2Whe",
        "colab_type": "code",
        "outputId": "f77aa984-0f2f-41fc-b51b-538ad237a274",
        "colab": {
          "base_uri": "https://localhost:8080/",
          "height": 35
        }
      },
      "source": [
        "a=-3.42\n",
        "a"
      ],
      "execution_count": 0,
      "outputs": [
        {
          "output_type": "execute_result",
          "data": {
            "text/plain": [
              "-3.42"
            ]
          },
          "metadata": {
            "tags": []
          },
          "execution_count": 7
        }
      ]
    },
    {
      "cell_type": "markdown",
      "metadata": {
        "id": "zNOAM3xS2Y19",
        "colab_type": "text"
      },
      "source": [
        "####8진수와 16진수"
      ]
    },
    {
      "cell_type": "code",
      "metadata": {
        "id": "bJLtNjrF2a1i",
        "colab_type": "code",
        "outputId": "5232342c-2939-4d28-feb8-b7422eb282e0",
        "colab": {
          "base_uri": "https://localhost:8080/",
          "height": 35
        }
      },
      "source": [
        "a=0o234\n",
        "a"
      ],
      "execution_count": 0,
      "outputs": [
        {
          "output_type": "execute_result",
          "data": {
            "text/plain": [
              "156"
            ]
          },
          "metadata": {
            "tags": []
          },
          "execution_count": 8
        }
      ]
    },
    {
      "cell_type": "code",
      "metadata": {
        "id": "SzLDXJFZ2nyG",
        "colab_type": "code",
        "colab": {}
      },
      "source": [
        ""
      ],
      "execution_count": 0,
      "outputs": []
    },
    {
      "cell_type": "code",
      "metadata": {
        "id": "3tzRE-du2nzD",
        "colab_type": "code",
        "outputId": "a41779d9-a993-4d55-b747-138e5dec5a6f",
        "colab": {
          "base_uri": "https://localhost:8080/",
          "height": 35
        }
      },
      "source": [
        "a=0x82f\n",
        "a"
      ],
      "execution_count": 0,
      "outputs": [
        {
          "output_type": "execute_result",
          "data": {
            "text/plain": [
              "2095"
            ]
          },
          "metadata": {
            "tags": []
          },
          "execution_count": 9
        }
      ]
    },
    {
      "cell_type": "markdown",
      "metadata": {
        "id": "gfrv3_kR2tTd",
        "colab_type": "text"
      },
      "source": [
        "###숫자형을 활용하기 위한 연산자"
      ]
    },
    {
      "cell_type": "markdown",
      "metadata": {
        "id": "6t2xkka726IW",
        "colab_type": "text"
      },
      "source": [
        "####사칙연산"
      ]
    },
    {
      "cell_type": "code",
      "metadata": {
        "id": "22f3Qhi_2ubD",
        "colab_type": "code",
        "outputId": "22e6758a-91eb-412a-b711-8e394256d5f1",
        "colab": {
          "base_uri": "https://localhost:8080/",
          "height": 35
        }
      },
      "source": [
        "a=3\n",
        "b=5\n",
        "a+b"
      ],
      "execution_count": 0,
      "outputs": [
        {
          "output_type": "execute_result",
          "data": {
            "text/plain": [
              "8"
            ]
          },
          "metadata": {
            "tags": []
          },
          "execution_count": 10
        }
      ]
    },
    {
      "cell_type": "code",
      "metadata": {
        "id": "2U5LIBvS2y7I",
        "colab_type": "code",
        "outputId": "3e994dd9-5d9e-4bd1-aec4-9e90ce3b41de",
        "colab": {
          "base_uri": "https://localhost:8080/",
          "height": 35
        }
      },
      "source": [
        "a*b"
      ],
      "execution_count": 0,
      "outputs": [
        {
          "output_type": "execute_result",
          "data": {
            "text/plain": [
              "15"
            ]
          },
          "metadata": {
            "tags": []
          },
          "execution_count": 11
        }
      ]
    },
    {
      "cell_type": "code",
      "metadata": {
        "id": "L0pt_hcA20lN",
        "colab_type": "code",
        "outputId": "51099b20-1fac-4117-c8f5-69f92872f307",
        "colab": {
          "base_uri": "https://localhost:8080/",
          "height": 35
        }
      },
      "source": [
        "a/b"
      ],
      "execution_count": 0,
      "outputs": [
        {
          "output_type": "execute_result",
          "data": {
            "text/plain": [
              "0.6"
            ]
          },
          "metadata": {
            "tags": []
          },
          "execution_count": 12
        }
      ]
    },
    {
      "cell_type": "markdown",
      "metadata": {
        "id": "GeTozLnC29Su",
        "colab_type": "text"
      },
      "source": [
        "####x의 y제곱을 나타내는 ** 연산자"
      ]
    },
    {
      "cell_type": "code",
      "metadata": {
        "id": "VQMAX5qE2_n5",
        "colab_type": "code",
        "outputId": "99a23619-3a35-405c-bce3-a6f57b8a45e3",
        "colab": {
          "base_uri": "https://localhost:8080/",
          "height": 35
        }
      },
      "source": [
        "a=3\n",
        "b=4\n",
        "a**b"
      ],
      "execution_count": 0,
      "outputs": [
        {
          "output_type": "execute_result",
          "data": {
            "text/plain": [
              "81"
            ]
          },
          "metadata": {
            "tags": []
          },
          "execution_count": 14
        }
      ]
    },
    {
      "cell_type": "markdown",
      "metadata": {
        "id": "8B0lLNxb3GCy",
        "colab_type": "text"
      },
      "source": [
        "####나눗셈 후 나머지를 반환하는 % 연산자"
      ]
    },
    {
      "cell_type": "code",
      "metadata": {
        "id": "ax8V1AT33HHV",
        "colab_type": "code",
        "outputId": "25b91d76-c709-4e34-ce00-001e9742cffb",
        "colab": {
          "base_uri": "https://localhost:8080/",
          "height": 35
        }
      },
      "source": [
        "7%3"
      ],
      "execution_count": 0,
      "outputs": [
        {
          "output_type": "execute_result",
          "data": {
            "text/plain": [
              "1"
            ]
          },
          "metadata": {
            "tags": []
          },
          "execution_count": 15
        }
      ]
    },
    {
      "cell_type": "code",
      "metadata": {
        "id": "0j5yo63C3Nfa",
        "colab_type": "code",
        "outputId": "ab70640f-abd5-4cdc-ec52-f11c801a8955",
        "colab": {
          "base_uri": "https://localhost:8080/",
          "height": 35
        }
      },
      "source": [
        "3%7"
      ],
      "execution_count": 0,
      "outputs": [
        {
          "output_type": "execute_result",
          "data": {
            "text/plain": [
              "3"
            ]
          },
          "metadata": {
            "tags": []
          },
          "execution_count": 16
        }
      ]
    },
    {
      "cell_type": "markdown",
      "metadata": {
        "id": "RIq7YTMq3Ozt",
        "colab_type": "text"
      },
      "source": [
        "####나눗셈 후 몫을 반환하는 // 연산자"
      ]
    },
    {
      "cell_type": "code",
      "metadata": {
        "id": "ZFtL6n5z3SoE",
        "colab_type": "code",
        "outputId": "cc41c26b-2058-444f-ffcc-0683dae3c7b8",
        "colab": {
          "base_uri": "https://localhost:8080/",
          "height": 35
        }
      },
      "source": [
        "6/5\n"
      ],
      "execution_count": 0,
      "outputs": [
        {
          "output_type": "execute_result",
          "data": {
            "text/plain": [
              "1.2"
            ]
          },
          "metadata": {
            "tags": []
          },
          "execution_count": 17
        }
      ]
    },
    {
      "cell_type": "code",
      "metadata": {
        "id": "UEeT0kcr3WBl",
        "colab_type": "code",
        "outputId": "7cc04330-3763-47e9-bd95-b991c1c4a2bb",
        "colab": {
          "base_uri": "https://localhost:8080/",
          "height": 35
        }
      },
      "source": [
        "5//3"
      ],
      "execution_count": 0,
      "outputs": [
        {
          "output_type": "execute_result",
          "data": {
            "text/plain": [
              "1"
            ]
          },
          "metadata": {
            "tags": []
          },
          "execution_count": 18
        }
      ]
    }
  ]
}