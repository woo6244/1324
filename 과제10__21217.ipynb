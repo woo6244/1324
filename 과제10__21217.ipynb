{
  "nbformat": 4,
  "nbformat_minor": 0,
  "metadata": {
    "colab": {
      "name": "과제10__21217.ipynb",
      "provenance": [],
      "authorship_tag": "ABX9TyNJ6ahyWNyqK75xXwWCDJ5C",
      "include_colab_link": true
    },
    "kernelspec": {
      "name": "python3",
      "display_name": "Python 3"
    },
    "accelerator": "GPU"
  },
  "cells": [
    {
      "cell_type": "markdown",
      "metadata": {
        "id": "view-in-github",
        "colab_type": "text"
      },
      "source": [
        "<a href=\"https://colab.research.google.com/github/woo6244/1324/blob/master/%EA%B3%BC%EC%A0%9C10__21217.ipynb\" target=\"_parent\"><img src=\"https://colab.research.google.com/assets/colab-badge.svg\" alt=\"Open In Colab\"/></a>"
      ]
    },
    {
      "cell_type": "code",
      "metadata": {
        "id": "Z0K4tk1vLRT9",
        "colab_type": "code",
        "colab": {
          "base_uri": "https://localhost:8080/",
          "height": 90
        },
        "outputId": "20118621-6bdb-4be3-8489-6eb80be12205"
      },
      "source": [
        "import warnings\n",
        "warnings.simplefilter(action='ignore', category=FutureWarning)\n",
        "\n",
        "import sys\n",
        "import tensorflow as tf\n",
        "import keras\n",
        "from keras.models import Sequential\n",
        "from keras.layers import Dense, Dropout, Flatten\n",
        "from keras.layers.convolutional import Conv2D, MaxPooling2D\n",
        "import numpy as np\n",
        "\n",
        "np.random.seed(7)\n",
        "\n",
        "print('Python version : ', sys.version)\n",
        "print('TensorFlow version : ', tf.__version__)\n",
        "print('Keras version : ', keras.__version__)"
      ],
      "execution_count": 4,
      "outputs": [
        {
          "output_type": "stream",
          "text": [
            "Python version :  3.6.9 (default, Apr 18 2020, 01:56:04) \n",
            "[GCC 8.4.0]\n",
            "TensorFlow version :  2.2.0\n",
            "Keras version :  2.3.1\n"
          ],
          "name": "stdout"
        }
      ]
    },
    {
      "cell_type": "code",
      "metadata": {
        "id": "LskVCEN3M6ce",
        "colab_type": "code",
        "colab": {
          "base_uri": "https://localhost:8080/",
          "height": 54
        },
        "outputId": "80a01e79-5898-4bec-8d94-818a3d2548f9"
      },
      "source": [
        "img_rows = 28\n",
        "img_cols = 28\n",
        "\n",
        "(x_train, y_train), (x_test, y_test) = keras.datasets.mnist.load_data()"
      ],
      "execution_count": 5,
      "outputs": [
        {
          "output_type": "stream",
          "text": [
            "Downloading data from https://s3.amazonaws.com/img-datasets/mnist.npz\n",
            "11493376/11490434 [==============================] - 0s 0us/step\n"
          ],
          "name": "stdout"
        }
      ]
    },
    {
      "cell_type": "code",
      "metadata": {
        "id": "2BHwTLVTNkhd",
        "colab_type": "code",
        "colab": {
          "base_uri": "https://localhost:8080/",
          "height": 908
        },
        "outputId": "ff284f28-243c-4bdf-ecd5-b1f676c09f32"
      },
      "source": [
        "print(x_train)"
      ],
      "execution_count": 6,
      "outputs": [
        {
          "output_type": "stream",
          "text": [
            "[[[0 0 0 ... 0 0 0]\n",
            "  [0 0 0 ... 0 0 0]\n",
            "  [0 0 0 ... 0 0 0]\n",
            "  ...\n",
            "  [0 0 0 ... 0 0 0]\n",
            "  [0 0 0 ... 0 0 0]\n",
            "  [0 0 0 ... 0 0 0]]\n",
            "\n",
            " [[0 0 0 ... 0 0 0]\n",
            "  [0 0 0 ... 0 0 0]\n",
            "  [0 0 0 ... 0 0 0]\n",
            "  ...\n",
            "  [0 0 0 ... 0 0 0]\n",
            "  [0 0 0 ... 0 0 0]\n",
            "  [0 0 0 ... 0 0 0]]\n",
            "\n",
            " [[0 0 0 ... 0 0 0]\n",
            "  [0 0 0 ... 0 0 0]\n",
            "  [0 0 0 ... 0 0 0]\n",
            "  ...\n",
            "  [0 0 0 ... 0 0 0]\n",
            "  [0 0 0 ... 0 0 0]\n",
            "  [0 0 0 ... 0 0 0]]\n",
            "\n",
            " ...\n",
            "\n",
            " [[0 0 0 ... 0 0 0]\n",
            "  [0 0 0 ... 0 0 0]\n",
            "  [0 0 0 ... 0 0 0]\n",
            "  ...\n",
            "  [0 0 0 ... 0 0 0]\n",
            "  [0 0 0 ... 0 0 0]\n",
            "  [0 0 0 ... 0 0 0]]\n",
            "\n",
            " [[0 0 0 ... 0 0 0]\n",
            "  [0 0 0 ... 0 0 0]\n",
            "  [0 0 0 ... 0 0 0]\n",
            "  ...\n",
            "  [0 0 0 ... 0 0 0]\n",
            "  [0 0 0 ... 0 0 0]\n",
            "  [0 0 0 ... 0 0 0]]\n",
            "\n",
            " [[0 0 0 ... 0 0 0]\n",
            "  [0 0 0 ... 0 0 0]\n",
            "  [0 0 0 ... 0 0 0]\n",
            "  ...\n",
            "  [0 0 0 ... 0 0 0]\n",
            "  [0 0 0 ... 0 0 0]\n",
            "  [0 0 0 ... 0 0 0]]]\n"
          ],
          "name": "stdout"
        }
      ]
    },
    {
      "cell_type": "code",
      "metadata": {
        "id": "tfg_uow3Nqir",
        "colab_type": "code",
        "colab": {
          "base_uri": "https://localhost:8080/",
          "height": 90
        },
        "outputId": "0c34761d-5cee-442b-ff31-1a6a6ee17aa9"
      },
      "source": [
        "input_shape = (img_rows, img_cols, 1)\n",
        "\n",
        "x_train = x_train.reshape(x_train.shape[0], img_rows, img_cols, 1)\n",
        "x_test = x_test.reshape(x_test.shape[0], img_rows, img_cols, 1)\n",
        "\n",
        "x_train = x_train.astype('float32') / 255.\n",
        "x_test = x_test.astype('float32') / 255.\n",
        "\n",
        "print('x_train shape:', x_train.shape)\n",
        "print('x_test shape : ' , x_test.shape)\n",
        "print(x_train.shape[0], 'train samples')\n",
        "print(x_test.shape[0], 'test samples')"
      ],
      "execution_count": 7,
      "outputs": [
        {
          "output_type": "stream",
          "text": [
            "x_train shape: (60000, 28, 28, 1)\n",
            "x_test shape :  (10000, 28, 28, 1)\n",
            "60000 train samples\n",
            "10000 test samples\n"
          ],
          "name": "stdout"
        }
      ]
    },
    {
      "cell_type": "code",
      "metadata": {
        "id": "9NebaFGfP2Ly",
        "colab_type": "code",
        "colab": {}
      },
      "source": [
        "batch_size = 128\n",
        "num_classes = 10\n",
        "epochs = 12\n",
        "\n",
        "y_train = keras.utils.to_categorical(y_train, num_classes)\n",
        "y_test = keras.utils.to_categorical(y_test, num_classes)"
      ],
      "execution_count": 0,
      "outputs": []
    },
    {
      "cell_type": "code",
      "metadata": {
        "id": "pFVtCaClRN5T",
        "colab_type": "code",
        "colab": {
          "base_uri": "https://localhost:8080/",
          "height": 490
        },
        "outputId": "9901dd26-4a82-48f0-91f3-d73092401010"
      },
      "source": [
        "model = Sequential()\n",
        "model.add(Conv2D(32, kernel_size=(5, 5), strides=(1, 1), padding='same',\n",
        "                 activation='relu',\n",
        "                 input_shape=input_shape))\n",
        "model.add(MaxPooling2D(pool_size=(2, 2), strides=(2, 2)))\n",
        "model.add(Conv2D(64, (2, 2), activation='relu', padding='same'))\n",
        "model.add(MaxPooling2D(pool_size=(2, 2)))\n",
        "model.add(Dropout(0.25))\n",
        "model.add(Flatten())\n",
        "model.add(Dense(1000, activation='relu'))\n",
        "model.add(Dropout(0.5))\n",
        "model.add(Dense(num_classes, activation='softmax'))\n",
        "model.summary()"
      ],
      "execution_count": 9,
      "outputs": [
        {
          "output_type": "stream",
          "text": [
            "Model: \"sequential_1\"\n",
            "_________________________________________________________________\n",
            "Layer (type)                 Output Shape              Param #   \n",
            "=================================================================\n",
            "conv2d_1 (Conv2D)            (None, 28, 28, 32)        832       \n",
            "_________________________________________________________________\n",
            "max_pooling2d_1 (MaxPooling2 (None, 14, 14, 32)        0         \n",
            "_________________________________________________________________\n",
            "conv2d_2 (Conv2D)            (None, 14, 14, 64)        8256      \n",
            "_________________________________________________________________\n",
            "max_pooling2d_2 (MaxPooling2 (None, 7, 7, 64)          0         \n",
            "_________________________________________________________________\n",
            "dropout_1 (Dropout)          (None, 7, 7, 64)          0         \n",
            "_________________________________________________________________\n",
            "flatten_1 (Flatten)          (None, 3136)              0         \n",
            "_________________________________________________________________\n",
            "dense_1 (Dense)              (None, 1000)              3137000   \n",
            "_________________________________________________________________\n",
            "dropout_2 (Dropout)          (None, 1000)              0         \n",
            "_________________________________________________________________\n",
            "dense_2 (Dense)              (None, 10)                10010     \n",
            "=================================================================\n",
            "Total params: 3,156,098\n",
            "Trainable params: 3,156,098\n",
            "Non-trainable params: 0\n",
            "_________________________________________________________________\n"
          ],
          "name": "stdout"
        }
      ]
    },
    {
      "cell_type": "code",
      "metadata": {
        "id": "RYcrbErIRT8V",
        "colab_type": "code",
        "colab": {
          "base_uri": "https://localhost:8080/",
          "height": 1000
        },
        "outputId": "fb7acc1e-ffa2-43c7-f8a3-df1769a8a83e"
      },
      "source": [
        "from IPython.display import SVG\n",
        "from keras.utils.vis_utils import model_to_dot\n",
        "%matplotlib inline\n",
        "\n",
        "SVG(model_to_dot(model, show_shapes=True).create(prog='dot', format='svg'))"
      ],
      "execution_count": 10,
      "outputs": [
        {
          "output_type": "execute_result",
          "data": {
            "text/plain": [
              "<IPython.core.display.SVG object>"
            ],
            "image/svg+xml": "<svg height=\"1069pt\" viewBox=\"0.00 0.00 412.00 802.00\" width=\"549pt\" xmlns=\"http://www.w3.org/2000/svg\" xmlns:xlink=\"http://www.w3.org/1999/xlink\">\n<g class=\"graph\" id=\"graph0\" transform=\"scale(1.3333 1.3333) rotate(0) translate(4 798)\">\n<title>G</title>\n<polygon fill=\"#ffffff\" points=\"-4,4 -4,-798 408,-798 408,4 -4,4\" stroke=\"transparent\"/>\n<!-- 140716539656232 -->\n<g class=\"node\" id=\"node1\">\n<title>140716539656232</title>\n<polygon fill=\"none\" points=\"22.5,-747.5 22.5,-793.5 381.5,-793.5 381.5,-747.5 22.5,-747.5\" stroke=\"#000000\"/>\n<text fill=\"#000000\" font-family=\"Times,serif\" font-size=\"14.00\" text-anchor=\"middle\" x=\"114.5\" y=\"-766.8\">conv2d_1_input: InputLayer</text>\n<polyline fill=\"none\" points=\"206.5,-747.5 206.5,-793.5 \" stroke=\"#000000\"/>\n<text fill=\"#000000\" font-family=\"Times,serif\" font-size=\"14.00\" text-anchor=\"middle\" x=\"235.5\" y=\"-778.3\">input:</text>\n<polyline fill=\"none\" points=\"206.5,-770.5 264.5,-770.5 \" stroke=\"#000000\"/>\n<text fill=\"#000000\" font-family=\"Times,serif\" font-size=\"14.00\" text-anchor=\"middle\" x=\"235.5\" y=\"-755.3\">output:</text>\n<polyline fill=\"none\" points=\"264.5,-747.5 264.5,-793.5 \" stroke=\"#000000\"/>\n<text fill=\"#000000\" font-family=\"Times,serif\" font-size=\"14.00\" text-anchor=\"middle\" x=\"323\" y=\"-778.3\">(None, 28, 28, 1)</text>\n<polyline fill=\"none\" points=\"264.5,-770.5 381.5,-770.5 \" stroke=\"#000000\"/>\n<text fill=\"#000000\" font-family=\"Times,serif\" font-size=\"14.00\" text-anchor=\"middle\" x=\"323\" y=\"-755.3\">(None, 28, 28, 1)</text>\n</g>\n<!-- 140716544131648 -->\n<g class=\"node\" id=\"node2\">\n<title>140716544131648</title>\n<polygon fill=\"none\" points=\"44,-664.5 44,-710.5 360,-710.5 360,-664.5 44,-664.5\" stroke=\"#000000\"/>\n<text fill=\"#000000\" font-family=\"Times,serif\" font-size=\"14.00\" text-anchor=\"middle\" x=\"110.5\" y=\"-683.8\">conv2d_1: Conv2D</text>\n<polyline fill=\"none\" points=\"177,-664.5 177,-710.5 \" stroke=\"#000000\"/>\n<text fill=\"#000000\" font-family=\"Times,serif\" font-size=\"14.00\" text-anchor=\"middle\" x=\"206\" y=\"-695.3\">input:</text>\n<polyline fill=\"none\" points=\"177,-687.5 235,-687.5 \" stroke=\"#000000\"/>\n<text fill=\"#000000\" font-family=\"Times,serif\" font-size=\"14.00\" text-anchor=\"middle\" x=\"206\" y=\"-672.3\">output:</text>\n<polyline fill=\"none\" points=\"235,-664.5 235,-710.5 \" stroke=\"#000000\"/>\n<text fill=\"#000000\" font-family=\"Times,serif\" font-size=\"14.00\" text-anchor=\"middle\" x=\"297.5\" y=\"-695.3\">(None, 28, 28, 1)</text>\n<polyline fill=\"none\" points=\"235,-687.5 360,-687.5 \" stroke=\"#000000\"/>\n<text fill=\"#000000\" font-family=\"Times,serif\" font-size=\"14.00\" text-anchor=\"middle\" x=\"297.5\" y=\"-672.3\">(None, 28, 28, 32)</text>\n</g>\n<!-- 140716539656232&#45;&gt;140716544131648 -->\n<g class=\"edge\" id=\"edge1\">\n<title>140716539656232-&gt;140716544131648</title>\n<path d=\"M202,-747.3799C202,-739.1745 202,-729.7679 202,-720.8786\" fill=\"none\" stroke=\"#000000\"/>\n<polygon fill=\"#000000\" points=\"205.5001,-720.784 202,-710.784 198.5001,-720.784 205.5001,-720.784\" stroke=\"#000000\"/>\n</g>\n<!-- 140716539656456 -->\n<g class=\"node\" id=\"node3\">\n<title>140716539656456</title>\n<polygon fill=\"none\" points=\"0,-581.5 0,-627.5 404,-627.5 404,-581.5 0,-581.5\" stroke=\"#000000\"/>\n<text fill=\"#000000\" font-family=\"Times,serif\" font-size=\"14.00\" text-anchor=\"middle\" x=\"110.5\" y=\"-600.8\">max_pooling2d_1: MaxPooling2D</text>\n<polyline fill=\"none\" points=\"221,-581.5 221,-627.5 \" stroke=\"#000000\"/>\n<text fill=\"#000000\" font-family=\"Times,serif\" font-size=\"14.00\" text-anchor=\"middle\" x=\"250\" y=\"-612.3\">input:</text>\n<polyline fill=\"none\" points=\"221,-604.5 279,-604.5 \" stroke=\"#000000\"/>\n<text fill=\"#000000\" font-family=\"Times,serif\" font-size=\"14.00\" text-anchor=\"middle\" x=\"250\" y=\"-589.3\">output:</text>\n<polyline fill=\"none\" points=\"279,-581.5 279,-627.5 \" stroke=\"#000000\"/>\n<text fill=\"#000000\" font-family=\"Times,serif\" font-size=\"14.00\" text-anchor=\"middle\" x=\"341.5\" y=\"-612.3\">(None, 28, 28, 32)</text>\n<polyline fill=\"none\" points=\"279,-604.5 404,-604.5 \" stroke=\"#000000\"/>\n<text fill=\"#000000\" font-family=\"Times,serif\" font-size=\"14.00\" text-anchor=\"middle\" x=\"341.5\" y=\"-589.3\">(None, 14, 14, 32)</text>\n</g>\n<!-- 140716544131648&#45;&gt;140716539656456 -->\n<g class=\"edge\" id=\"edge2\">\n<title>140716544131648-&gt;140716539656456</title>\n<path d=\"M202,-664.3799C202,-656.1745 202,-646.7679 202,-637.8786\" fill=\"none\" stroke=\"#000000\"/>\n<polygon fill=\"#000000\" points=\"205.5001,-637.784 202,-627.784 198.5001,-637.784 205.5001,-637.784\" stroke=\"#000000\"/>\n</g>\n<!-- 140716544131256 -->\n<g class=\"node\" id=\"node4\">\n<title>140716544131256</title>\n<polygon fill=\"none\" points=\"44,-498.5 44,-544.5 360,-544.5 360,-498.5 44,-498.5\" stroke=\"#000000\"/>\n<text fill=\"#000000\" font-family=\"Times,serif\" font-size=\"14.00\" text-anchor=\"middle\" x=\"110.5\" y=\"-517.8\">conv2d_2: Conv2D</text>\n<polyline fill=\"none\" points=\"177,-498.5 177,-544.5 \" stroke=\"#000000\"/>\n<text fill=\"#000000\" font-family=\"Times,serif\" font-size=\"14.00\" text-anchor=\"middle\" x=\"206\" y=\"-529.3\">input:</text>\n<polyline fill=\"none\" points=\"177,-521.5 235,-521.5 \" stroke=\"#000000\"/>\n<text fill=\"#000000\" font-family=\"Times,serif\" font-size=\"14.00\" text-anchor=\"middle\" x=\"206\" y=\"-506.3\">output:</text>\n<polyline fill=\"none\" points=\"235,-498.5 235,-544.5 \" stroke=\"#000000\"/>\n<text fill=\"#000000\" font-family=\"Times,serif\" font-size=\"14.00\" text-anchor=\"middle\" x=\"297.5\" y=\"-529.3\">(None, 14, 14, 32)</text>\n<polyline fill=\"none\" points=\"235,-521.5 360,-521.5 \" stroke=\"#000000\"/>\n<text fill=\"#000000\" font-family=\"Times,serif\" font-size=\"14.00\" text-anchor=\"middle\" x=\"297.5\" y=\"-506.3\">(None, 14, 14, 64)</text>\n</g>\n<!-- 140716539656456&#45;&gt;140716544131256 -->\n<g class=\"edge\" id=\"edge3\">\n<title>140716539656456-&gt;140716544131256</title>\n<path d=\"M202,-581.3799C202,-573.1745 202,-563.7679 202,-554.8786\" fill=\"none\" stroke=\"#000000\"/>\n<polygon fill=\"#000000\" points=\"205.5001,-554.784 202,-544.784 198.5001,-554.784 205.5001,-554.784\" stroke=\"#000000\"/>\n</g>\n<!-- 140716539415184 -->\n<g class=\"node\" id=\"node5\">\n<title>140716539415184</title>\n<polygon fill=\"none\" points=\"0,-415.5 0,-461.5 404,-461.5 404,-415.5 0,-415.5\" stroke=\"#000000\"/>\n<text fill=\"#000000\" font-family=\"Times,serif\" font-size=\"14.00\" text-anchor=\"middle\" x=\"110.5\" y=\"-434.8\">max_pooling2d_2: MaxPooling2D</text>\n<polyline fill=\"none\" points=\"221,-415.5 221,-461.5 \" stroke=\"#000000\"/>\n<text fill=\"#000000\" font-family=\"Times,serif\" font-size=\"14.00\" text-anchor=\"middle\" x=\"250\" y=\"-446.3\">input:</text>\n<polyline fill=\"none\" points=\"221,-438.5 279,-438.5 \" stroke=\"#000000\"/>\n<text fill=\"#000000\" font-family=\"Times,serif\" font-size=\"14.00\" text-anchor=\"middle\" x=\"250\" y=\"-423.3\">output:</text>\n<polyline fill=\"none\" points=\"279,-415.5 279,-461.5 \" stroke=\"#000000\"/>\n<text fill=\"#000000\" font-family=\"Times,serif\" font-size=\"14.00\" text-anchor=\"middle\" x=\"341.5\" y=\"-446.3\">(None, 14, 14, 64)</text>\n<polyline fill=\"none\" points=\"279,-438.5 404,-438.5 \" stroke=\"#000000\"/>\n<text fill=\"#000000\" font-family=\"Times,serif\" font-size=\"14.00\" text-anchor=\"middle\" x=\"341.5\" y=\"-423.3\">(None, 7, 7, 64)</text>\n</g>\n<!-- 140716544131256&#45;&gt;140716539415184 -->\n<g class=\"edge\" id=\"edge4\">\n<title>140716544131256-&gt;140716539415184</title>\n<path d=\"M202,-498.3799C202,-490.1745 202,-480.7679 202,-471.8786\" fill=\"none\" stroke=\"#000000\"/>\n<polygon fill=\"#000000\" points=\"205.5001,-471.784 202,-461.784 198.5001,-471.784 205.5001,-471.784\" stroke=\"#000000\"/>\n</g>\n<!-- 140716539656176 -->\n<g class=\"node\" id=\"node6\">\n<title>140716539656176</title>\n<polygon fill=\"none\" points=\"51,-332.5 51,-378.5 353,-378.5 353,-332.5 51,-332.5\" stroke=\"#000000\"/>\n<text fill=\"#000000\" font-family=\"Times,serif\" font-size=\"14.00\" text-anchor=\"middle\" x=\"118\" y=\"-351.8\">dropout_1: Dropout</text>\n<polyline fill=\"none\" points=\"185,-332.5 185,-378.5 \" stroke=\"#000000\"/>\n<text fill=\"#000000\" font-family=\"Times,serif\" font-size=\"14.00\" text-anchor=\"middle\" x=\"214\" y=\"-363.3\">input:</text>\n<polyline fill=\"none\" points=\"185,-355.5 243,-355.5 \" stroke=\"#000000\"/>\n<text fill=\"#000000\" font-family=\"Times,serif\" font-size=\"14.00\" text-anchor=\"middle\" x=\"214\" y=\"-340.3\">output:</text>\n<polyline fill=\"none\" points=\"243,-332.5 243,-378.5 \" stroke=\"#000000\"/>\n<text fill=\"#000000\" font-family=\"Times,serif\" font-size=\"14.00\" text-anchor=\"middle\" x=\"298\" y=\"-363.3\">(None, 7, 7, 64)</text>\n<polyline fill=\"none\" points=\"243,-355.5 353,-355.5 \" stroke=\"#000000\"/>\n<text fill=\"#000000\" font-family=\"Times,serif\" font-size=\"14.00\" text-anchor=\"middle\" x=\"298\" y=\"-340.3\">(None, 7, 7, 64)</text>\n</g>\n<!-- 140716539415184&#45;&gt;140716539656176 -->\n<g class=\"edge\" id=\"edge5\">\n<title>140716539415184-&gt;140716539656176</title>\n<path d=\"M202,-415.3799C202,-407.1745 202,-397.7679 202,-388.8786\" fill=\"none\" stroke=\"#000000\"/>\n<polygon fill=\"#000000\" points=\"205.5001,-388.784 202,-378.784 198.5001,-388.784 205.5001,-388.784\" stroke=\"#000000\"/>\n</g>\n<!-- 140716539414904 -->\n<g class=\"node\" id=\"node7\">\n<title>140716539414904</title>\n<polygon fill=\"none\" points=\"61.5,-249.5 61.5,-295.5 342.5,-295.5 342.5,-249.5 61.5,-249.5\" stroke=\"#000000\"/>\n<text fill=\"#000000\" font-family=\"Times,serif\" font-size=\"14.00\" text-anchor=\"middle\" x=\"118\" y=\"-268.8\">flatten_1: Flatten</text>\n<polyline fill=\"none\" points=\"174.5,-249.5 174.5,-295.5 \" stroke=\"#000000\"/>\n<text fill=\"#000000\" font-family=\"Times,serif\" font-size=\"14.00\" text-anchor=\"middle\" x=\"203.5\" y=\"-280.3\">input:</text>\n<polyline fill=\"none\" points=\"174.5,-272.5 232.5,-272.5 \" stroke=\"#000000\"/>\n<text fill=\"#000000\" font-family=\"Times,serif\" font-size=\"14.00\" text-anchor=\"middle\" x=\"203.5\" y=\"-257.3\">output:</text>\n<polyline fill=\"none\" points=\"232.5,-249.5 232.5,-295.5 \" stroke=\"#000000\"/>\n<text fill=\"#000000\" font-family=\"Times,serif\" font-size=\"14.00\" text-anchor=\"middle\" x=\"287.5\" y=\"-280.3\">(None, 7, 7, 64)</text>\n<polyline fill=\"none\" points=\"232.5,-272.5 342.5,-272.5 \" stroke=\"#000000\"/>\n<text fill=\"#000000\" font-family=\"Times,serif\" font-size=\"14.00\" text-anchor=\"middle\" x=\"287.5\" y=\"-257.3\">(None, 3136)</text>\n</g>\n<!-- 140716539656176&#45;&gt;140716539414904 -->\n<g class=\"edge\" id=\"edge6\">\n<title>140716539656176-&gt;140716539414904</title>\n<path d=\"M202,-332.3799C202,-324.1745 202,-314.7679 202,-305.8786\" fill=\"none\" stroke=\"#000000\"/>\n<polygon fill=\"#000000\" points=\"205.5001,-305.784 202,-295.784 198.5001,-305.784 205.5001,-305.784\" stroke=\"#000000\"/>\n</g>\n<!-- 140716539656288 -->\n<g class=\"node\" id=\"node8\">\n<title>140716539656288</title>\n<polygon fill=\"none\" points=\"72,-166.5 72,-212.5 332,-212.5 332,-166.5 72,-166.5\" stroke=\"#000000\"/>\n<text fill=\"#000000\" font-family=\"Times,serif\" font-size=\"14.00\" text-anchor=\"middle\" x=\"125.5\" y=\"-185.8\">dense_1: Dense</text>\n<polyline fill=\"none\" points=\"179,-166.5 179,-212.5 \" stroke=\"#000000\"/>\n<text fill=\"#000000\" font-family=\"Times,serif\" font-size=\"14.00\" text-anchor=\"middle\" x=\"208\" y=\"-197.3\">input:</text>\n<polyline fill=\"none\" points=\"179,-189.5 237,-189.5 \" stroke=\"#000000\"/>\n<text fill=\"#000000\" font-family=\"Times,serif\" font-size=\"14.00\" text-anchor=\"middle\" x=\"208\" y=\"-174.3\">output:</text>\n<polyline fill=\"none\" points=\"237,-166.5 237,-212.5 \" stroke=\"#000000\"/>\n<text fill=\"#000000\" font-family=\"Times,serif\" font-size=\"14.00\" text-anchor=\"middle\" x=\"284.5\" y=\"-197.3\">(None, 3136)</text>\n<polyline fill=\"none\" points=\"237,-189.5 332,-189.5 \" stroke=\"#000000\"/>\n<text fill=\"#000000\" font-family=\"Times,serif\" font-size=\"14.00\" text-anchor=\"middle\" x=\"284.5\" y=\"-174.3\">(None, 1000)</text>\n</g>\n<!-- 140716539414904&#45;&gt;140716539656288 -->\n<g class=\"edge\" id=\"edge7\">\n<title>140716539414904-&gt;140716539656288</title>\n<path d=\"M202,-249.3799C202,-241.1745 202,-231.7679 202,-222.8786\" fill=\"none\" stroke=\"#000000\"/>\n<polygon fill=\"#000000\" points=\"205.5001,-222.784 202,-212.784 198.5001,-222.784 205.5001,-222.784\" stroke=\"#000000\"/>\n</g>\n<!-- 140716539415632 -->\n<g class=\"node\" id=\"node9\">\n<title>140716539415632</title>\n<polygon fill=\"none\" points=\"58.5,-83.5 58.5,-129.5 345.5,-129.5 345.5,-83.5 58.5,-83.5\" stroke=\"#000000\"/>\n<text fill=\"#000000\" font-family=\"Times,serif\" font-size=\"14.00\" text-anchor=\"middle\" x=\"125.5\" y=\"-102.8\">dropout_2: Dropout</text>\n<polyline fill=\"none\" points=\"192.5,-83.5 192.5,-129.5 \" stroke=\"#000000\"/>\n<text fill=\"#000000\" font-family=\"Times,serif\" font-size=\"14.00\" text-anchor=\"middle\" x=\"221.5\" y=\"-114.3\">input:</text>\n<polyline fill=\"none\" points=\"192.5,-106.5 250.5,-106.5 \" stroke=\"#000000\"/>\n<text fill=\"#000000\" font-family=\"Times,serif\" font-size=\"14.00\" text-anchor=\"middle\" x=\"221.5\" y=\"-91.3\">output:</text>\n<polyline fill=\"none\" points=\"250.5,-83.5 250.5,-129.5 \" stroke=\"#000000\"/>\n<text fill=\"#000000\" font-family=\"Times,serif\" font-size=\"14.00\" text-anchor=\"middle\" x=\"298\" y=\"-114.3\">(None, 1000)</text>\n<polyline fill=\"none\" points=\"250.5,-106.5 345.5,-106.5 \" stroke=\"#000000\"/>\n<text fill=\"#000000\" font-family=\"Times,serif\" font-size=\"14.00\" text-anchor=\"middle\" x=\"298\" y=\"-91.3\">(None, 1000)</text>\n</g>\n<!-- 140716539656288&#45;&gt;140716539415632 -->\n<g class=\"edge\" id=\"edge8\">\n<title>140716539656288-&gt;140716539415632</title>\n<path d=\"M202,-166.3799C202,-158.1745 202,-148.7679 202,-139.8786\" fill=\"none\" stroke=\"#000000\"/>\n<polygon fill=\"#000000\" points=\"205.5001,-139.784 202,-129.784 198.5001,-139.784 205.5001,-139.784\" stroke=\"#000000\"/>\n</g>\n<!-- 140716287122736 -->\n<g class=\"node\" id=\"node10\">\n<title>140716287122736</title>\n<polygon fill=\"none\" points=\"72,-.5 72,-46.5 332,-46.5 332,-.5 72,-.5\" stroke=\"#000000\"/>\n<text fill=\"#000000\" font-family=\"Times,serif\" font-size=\"14.00\" text-anchor=\"middle\" x=\"125.5\" y=\"-19.8\">dense_2: Dense</text>\n<polyline fill=\"none\" points=\"179,-.5 179,-46.5 \" stroke=\"#000000\"/>\n<text fill=\"#000000\" font-family=\"Times,serif\" font-size=\"14.00\" text-anchor=\"middle\" x=\"208\" y=\"-31.3\">input:</text>\n<polyline fill=\"none\" points=\"179,-23.5 237,-23.5 \" stroke=\"#000000\"/>\n<text fill=\"#000000\" font-family=\"Times,serif\" font-size=\"14.00\" text-anchor=\"middle\" x=\"208\" y=\"-8.3\">output:</text>\n<polyline fill=\"none\" points=\"237,-.5 237,-46.5 \" stroke=\"#000000\"/>\n<text fill=\"#000000\" font-family=\"Times,serif\" font-size=\"14.00\" text-anchor=\"middle\" x=\"284.5\" y=\"-31.3\">(None, 1000)</text>\n<polyline fill=\"none\" points=\"237,-23.5 332,-23.5 \" stroke=\"#000000\"/>\n<text fill=\"#000000\" font-family=\"Times,serif\" font-size=\"14.00\" text-anchor=\"middle\" x=\"284.5\" y=\"-8.3\">(None, 10)</text>\n</g>\n<!-- 140716539415632&#45;&gt;140716287122736 -->\n<g class=\"edge\" id=\"edge9\">\n<title>140716539415632-&gt;140716287122736</title>\n<path d=\"M202,-83.3799C202,-75.1745 202,-65.7679 202,-56.8786\" fill=\"none\" stroke=\"#000000\"/>\n<polygon fill=\"#000000\" points=\"205.5001,-56.784 202,-46.784 198.5001,-56.784 205.5001,-56.784\" stroke=\"#000000\"/>\n</g>\n</g>\n</svg>"
          },
          "metadata": {
            "tags": []
          },
          "execution_count": 10
        }
      ]
    },
    {
      "cell_type": "code",
      "metadata": {
        "id": "hSlsQk8dRoyC",
        "colab_type": "code",
        "colab": {
          "base_uri": "https://localhost:8080/",
          "height": 472
        },
        "outputId": "f8d71006-b9d6-4ba5-93b8-51022398b2c6"
      },
      "source": [
        "model.compile(loss='categorical_crossentropy', optimizer='adam', metrics=['accuracy'])\n",
        "hist = model.fit(x_train, y_train,\n",
        "                 batch_size=batch_size,\n",
        "                 epochs=epochs,\n",
        "                 verbose=1, \n",
        "                 validation_data=(x_test, y_test))"
      ],
      "execution_count": 11,
      "outputs": [
        {
          "output_type": "stream",
          "text": [
            "Train on 60000 samples, validate on 10000 samples\n",
            "Epoch 1/12\n",
            "60000/60000 [==============================] - 14s 228us/step - loss: 0.1934 - accuracy: 0.9397 - val_loss: 0.0536 - val_accuracy: 0.9829\n",
            "Epoch 2/12\n",
            "60000/60000 [==============================] - 7s 123us/step - loss: 0.0602 - accuracy: 0.9816 - val_loss: 0.0312 - val_accuracy: 0.9897\n",
            "Epoch 3/12\n",
            "60000/60000 [==============================] - 7s 124us/step - loss: 0.0478 - accuracy: 0.9853 - val_loss: 0.0275 - val_accuracy: 0.9912\n",
            "Epoch 4/12\n",
            "60000/60000 [==============================] - 7s 124us/step - loss: 0.0386 - accuracy: 0.9877 - val_loss: 0.0283 - val_accuracy: 0.9908\n",
            "Epoch 5/12\n",
            "60000/60000 [==============================] - 7s 124us/step - loss: 0.0324 - accuracy: 0.9896 - val_loss: 0.0230 - val_accuracy: 0.9920\n",
            "Epoch 6/12\n",
            "60000/60000 [==============================] - 7s 124us/step - loss: 0.0276 - accuracy: 0.9908 - val_loss: 0.0248 - val_accuracy: 0.9917\n",
            "Epoch 7/12\n",
            "60000/60000 [==============================] - 7s 124us/step - loss: 0.0231 - accuracy: 0.9927 - val_loss: 0.0219 - val_accuracy: 0.9930\n",
            "Epoch 8/12\n",
            "60000/60000 [==============================] - 7s 124us/step - loss: 0.0200 - accuracy: 0.9934 - val_loss: 0.0232 - val_accuracy: 0.9927\n",
            "Epoch 9/12\n",
            "60000/60000 [==============================] - 7s 124us/step - loss: 0.0203 - accuracy: 0.9935 - val_loss: 0.0195 - val_accuracy: 0.9941\n",
            "Epoch 10/12\n",
            "60000/60000 [==============================] - 7s 124us/step - loss: 0.0180 - accuracy: 0.9938 - val_loss: 0.0237 - val_accuracy: 0.9923\n",
            "Epoch 11/12\n",
            "60000/60000 [==============================] - 7s 124us/step - loss: 0.0158 - accuracy: 0.9947 - val_loss: 0.0246 - val_accuracy: 0.9923\n",
            "Epoch 12/12\n",
            "60000/60000 [==============================] - 7s 124us/step - loss: 0.0149 - accuracy: 0.9945 - val_loss: 0.0237 - val_accuracy: 0.9929\n"
          ],
          "name": "stdout"
        }
      ]
    },
    {
      "cell_type": "code",
      "metadata": {
        "id": "_4yNIK3fTZeS",
        "colab_type": "code",
        "colab": {
          "base_uri": "https://localhost:8080/",
          "height": 54
        },
        "outputId": "e59e3440-755a-45c8-f4ca-6e60fff4c2cd"
      },
      "source": [
        "score = model.evaluate(x_test, y_test, verbose=0)\n",
        "print('Test loss:', score[0])\n",
        "print('Test accuracy:', score[1])"
      ],
      "execution_count": 15,
      "outputs": [
        {
          "output_type": "stream",
          "text": [
            "Test loss: 0.023731742809603155\n",
            "Test accuracy: 0.992900013923645\n"
          ],
          "name": "stdout"
        }
      ]
    },
    {
      "cell_type": "code",
      "metadata": {
        "id": "rh8lUjdfTdBC",
        "colab_type": "code",
        "colab": {
          "base_uri": "https://localhost:8080/",
          "height": 283
        },
        "outputId": "34dbf7df-6111-4af1-d80d-62f35d5cc5c1"
      },
      "source": [
        "%matplotlib inline\n",
        "import matplotlib.pyplot as plt\n",
        "n = 0\n",
        "plt.imshow(x_test[n].reshape(28, 28), cmap='Greys', interpolation='nearest')\n",
        "plt.show()\n",
        "\n",
        "print('The Answer is ', model.predict_classes(x_test[n].reshape((1, 28, 28, 1))))"
      ],
      "execution_count": 19,
      "outputs": [
        {
          "output_type": "display_data",
          "data": {
            "image/png": "[encoded data removed]",
            "text/plain": [
              "<Figure size 432x288 with 1 Axes>"
            ]
          },
          "metadata": {
            "tags": [],
            "needs_background": "light"
          }
        },
        {
          "output_type": "stream",
          "text": [
            "The Answer is  [7]\n"
          ],
          "name": "stdout"
        }
      ]
    },
    {
      "cell_type": "code",
      "metadata": {
        "id": "psGtKAq0Xc2_",
        "colab_type": "code",
        "colab": {
          "base_uri": "https://localhost:8080/",
          "height": 585
        },
        "outputId": "36475e24-a97e-44ca-8b35-1da1b7f52c51"
      },
      "source": [
        "import random\n",
        "\n",
        "predicted_result = model.predict(x_test)\n",
        "predicted_labels = np.argmax(predicted_result, axis=1)\n",
        "\n",
        "test_labels = np.argmax(y_test, axis=1)\n",
        "\n",
        "wrong_result = []\n",
        "\n",
        "for n in range(0, len(test_labels)):\n",
        "    if predicted_labels[n] != test_labels[n]:\n",
        "        wrong_result.append(n)\n",
        "\n",
        "samples = random.choices(population=wrong_result, k=16)\n",
        "\n",
        "count = 0\n",
        "nrows = ncols = 4\n",
        "\n",
        "plt.figure(figsize=(12,8))\n",
        "\n",
        "for n in samples:\n",
        "    count += 1\n",
        "    plt.subplot(nrows, ncols, count)\n",
        "    plt.imshow(x_test[n].reshape(28, 28), cmap='Greys', interpolation='nearest')\n",
        "    tmp = \"Label:\" + str(test_labels[n]) + \", Prediction:\" + str(predicted_labels[n])\n",
        "    plt.title(tmp)\n",
        "\n",
        "plt.tight_layout()\n",
        "plt.show()"
      ],
      "execution_count": 20,
      "outputs": [
        {
          "output_type": "display_data",
          "data": {
            "image/png": "[encoded data removed]",
            "text/plain": [
              "<Figure size 864x576 with 16 Axes>"
            ]
          },
          "metadata": {
            "tags": [],
            "needs_background": "light"
          }
        }
      ]
    }
  ]
}