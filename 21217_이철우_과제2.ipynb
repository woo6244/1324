{
  "nbformat": 4,
  "nbformat_minor": 0,
  "metadata": {
    "colab": {
      "name": "21217 이철우 과제2",
      "provenance": [],
      "collapsed_sections": [],
      "toc_visible": true,
      "authorship_tag": "ABX9TyN8J1yeS4GwhFdaQJviFmI6",
      "include_colab_link": true
    },
    "kernelspec": {
      "name": "python3",
      "display_name": "Python 3"
    }
  },
  "cells": [
    {
      "cell_type": "markdown",
      "metadata": {
        "id": "view-in-github",
        "colab_type": "text"
      },
      "source": [
        "<a href=\"https://colab.research.google.com/github/woo6244/1324/blob/master/21217_%EC%9D%B4%EC%B2%A0%EC%9A%B0_%EA%B3%BC%EC%A0%9C2.ipynb\" target=\"_parent\"><img src=\"https://colab.research.google.com/assets/colab-badge.svg\" alt=\"Open In Colab\"/></a>"
      ]
    },
    {
      "cell_type": "markdown",
      "metadata": {
        "id": "94HaiD-f2p6T",
        "colab_type": "text"
      },
      "source": [
        "###문자열인덱싱이란?"
      ]
    },
    {
      "cell_type": "code",
      "metadata": {
        "id": "I6CV1GGa3aFh",
        "colab_type": "code",
        "outputId": "341d0123-362c-4eae-e842-d161bb6c72b7",
        "colab": {
          "base_uri": "https://localhost:8080/",
          "height": 35
        }
      },
      "source": [
        "a = \"Life is too short. You need Pythun\"\n",
        "print(a)"
      ],
      "execution_count": 0,
      "outputs": [
        {
          "output_type": "stream",
          "text": [
            "Life is too short. You need Pythun\n"
          ],
          "name": "stdout"
        }
      ]
    },
    {
      "cell_type": "code",
      "metadata": {
        "id": "-Kp2KLnD3ddk",
        "colab_type": "code",
        "outputId": "90af92d8-1226-43f8-c5d8-67ffa9ae3974",
        "colab": {
          "base_uri": "https://localhost:8080/",
          "height": 35
        }
      },
      "source": [
        "a[-3]"
      ],
      "execution_count": 0,
      "outputs": [
        {
          "output_type": "execute_result",
          "data": {
            "text/plain": [
              "'h'"
            ]
          },
          "metadata": {
            "tags": []
          },
          "execution_count": 37
        }
      ]
    },
    {
      "cell_type": "markdown",
      "metadata": {
        "id": "jUP1ZhPK1O47",
        "colab_type": "text"
      },
      "source": [
        "###문자열 슬라이싱 이란\n",
        "\n"
      ]
    },
    {
      "cell_type": "code",
      "metadata": {
        "id": "eQqJltmw4L-n",
        "colab_type": "code",
        "outputId": "89663478-94f1-4c55-ec7e-8593d027bd33",
        "colab": {
          "base_uri": "https://localhost:8080/",
          "height": 35
        }
      },
      "source": [
        "a = \"Life is too short, You need Pythun\"\n",
        "b = a[0] + a[1] + a[2] + a[3]\n",
        "b"
      ],
      "execution_count": 0,
      "outputs": [
        {
          "output_type": "execute_result",
          "data": {
            "text/plain": [
              "'Life'"
            ]
          },
          "metadata": {
            "tags": []
          },
          "execution_count": 43
        }
      ]
    },
    {
      "cell_type": "code",
      "metadata": {
        "id": "HAN3P-Nw4Oy3",
        "colab_type": "code",
        "outputId": "0900294b-a72b-4024-f220-db77aa4d2cd1",
        "colab": {
          "base_uri": "https://localhost:8080/",
          "height": 35
        }
      },
      "source": [
        "b = a[0:5]\n",
        "b "
      ],
      "execution_count": 0,
      "outputs": [
        {
          "output_type": "execute_result",
          "data": {
            "text/plain": [
              "'Life '"
            ]
          },
          "metadata": {
            "tags": []
          },
          "execution_count": 44
        }
      ]
    },
    {
      "cell_type": "code",
      "metadata": {
        "id": "aVn48rqo4Qod",
        "colab_type": "code",
        "outputId": "5c4f4360-ae1e-411c-864f-f5a14db1ea18",
        "colab": {
          "base_uri": "https://localhost:8080/",
          "height": 35
        }
      },
      "source": [
        "b= a[12:17]\n",
        "b"
      ],
      "execution_count": 0,
      "outputs": [
        {
          "output_type": "execute_result",
          "data": {
            "text/plain": [
              "'short'"
            ]
          },
          "metadata": {
            "tags": []
          },
          "execution_count": 45
        }
      ]
    },
    {
      "cell_type": "code",
      "metadata": {
        "id": "b8JRIBbP4Toq",
        "colab_type": "code",
        "outputId": "e8e6ba8f-cb6d-416b-a372-1d411228df46",
        "colab": {
          "base_uri": "https://localhost:8080/",
          "height": 35
        }
      },
      "source": [
        "b= a[19:]\n",
        "b"
      ],
      "execution_count": 0,
      "outputs": [
        {
          "output_type": "execute_result",
          "data": {
            "text/plain": [
              "'You need Pythun'"
            ]
          },
          "metadata": {
            "tags": []
          },
          "execution_count": 47
        }
      ]
    },
    {
      "cell_type": "code",
      "metadata": {
        "id": "9ZfGUKu64mxR",
        "colab_type": "code",
        "outputId": "8242bbf9-82cd-4acd-b581-5933ace198ec",
        "colab": {
          "base_uri": "https://localhost:8080/",
          "height": 35
        }
      },
      "source": [
        "b= a[:17]\n",
        "b"
      ],
      "execution_count": 0,
      "outputs": [
        {
          "output_type": "execute_result",
          "data": {
            "text/plain": [
              "'Life is too short'"
            ]
          },
          "metadata": {
            "tags": []
          },
          "execution_count": 48
        }
      ]
    },
    {
      "cell_type": "code",
      "metadata": {
        "id": "iJyjL7tR4oer",
        "colab_type": "code",
        "outputId": "b8674236-763a-4ba8-84c5-d2a34feb6436",
        "colab": {
          "base_uri": "https://localhost:8080/",
          "height": 35
        }
      },
      "source": [
        "b= a[:]\n",
        "b"
      ],
      "execution_count": 0,
      "outputs": [
        {
          "output_type": "execute_result",
          "data": {
            "text/plain": [
              "'Life is too short, You need Pythun'"
            ]
          },
          "metadata": {
            "tags": []
          },
          "execution_count": 49
        }
      ]
    },
    {
      "cell_type": "markdown",
      "metadata": {
        "id": "t9yLbA1C2Ics",
        "colab_type": "text"
      },
      "source": [
        "### 슬라이딩으로 문자열을 나누기"
      ]
    },
    {
      "cell_type": "code",
      "metadata": {
        "id": "eoYCZI2M2RFW",
        "colab_type": "code",
        "outputId": "74f08372-d935-4a6a-a6db-8f39a60dde14",
        "colab": {
          "base_uri": "https://localhost:8080/",
          "height": 35
        }
      },
      "source": [
        "a = \"20010331Rainy\"\n",
        "year=a[:4]\n",
        "date = a[4:8]\n",
        "weather = a[8:]\n",
        "date"
      ],
      "execution_count": 0,
      "outputs": [
        {
          "output_type": "execute_result",
          "data": {
            "text/plain": [
              "'0331'"
            ]
          },
          "metadata": {
            "tags": []
          },
          "execution_count": 29
        }
      ]
    },
    {
      "cell_type": "code",
      "metadata": {
        "id": "8z82j1MJ2jAK",
        "colab_type": "code",
        "outputId": "6141beb8-543b-4cce-ff12-1f17ee1272ab",
        "colab": {
          "base_uri": "https://localhost:8080/",
          "height": 35
        }
      },
      "source": [
        "weather"
      ],
      "execution_count": 0,
      "outputs": [
        {
          "output_type": "execute_result",
          "data": {
            "text/plain": [
              "'Rainy'"
            ]
          },
          "metadata": {
            "tags": []
          },
          "execution_count": 30
        }
      ]
    },
    {
      "cell_type": "code",
      "metadata": {
        "id": "Q9knO-zW20ti",
        "colab_type": "code",
        "outputId": "bd0c6d52-3c5e-4e77-aeed-2d1e4b5387d8",
        "colab": {
          "base_uri": "https://localhost:8080/",
          "height": 35
        }
      },
      "source": [
        "year"
      ],
      "execution_count": 0,
      "outputs": [
        {
          "output_type": "execute_result",
          "data": {
            "text/plain": [
              "'2001'"
            ]
          },
          "metadata": {
            "tags": []
          },
          "execution_count": 31
        }
      ]
    },
    {
      "cell_type": "markdown",
      "metadata": {
        "id": "WKJAzh_b2-l6",
        "colab_type": "text"
      },
      "source": [
        "###[\"Pithon\"이라는 문자열을 \"Python\"으로 바꾸려면?]\n"
      ]
    },
    {
      "cell_type": "code",
      "metadata": {
        "id": "2rD5RVFI3Ela",
        "colab_type": "code",
        "outputId": "80e78d33-fca3-4def-bee2-0cee1caa9b96",
        "colab": {
          "base_uri": "https://localhost:8080/",
          "height": 35
        }
      },
      "source": [
        " a = \"Pithon\"\n",
        " a[1]"
      ],
      "execution_count": 0,
      "outputs": [
        {
          "output_type": "execute_result",
          "data": {
            "text/plain": [
              "'i'"
            ]
          },
          "metadata": {
            "tags": []
          },
          "execution_count": 39
        }
      ]
    },
    {
      "cell_type": "code",
      "metadata": {
        "id": "uQT3kSPr3M9x",
        "colab_type": "code",
        "outputId": "6c97002e-b97c-470a-e549-f5bafcf0f594",
        "colab": {
          "base_uri": "https://localhost:8080/",
          "height": 35
        }
      },
      "source": [
        "  a[:1] +'y' + a[2:]"
      ],
      "execution_count": 0,
      "outputs": [
        {
          "output_type": "execute_result",
          "data": {
            "text/plain": [
              "'Python'"
            ]
          },
          "metadata": {
            "tags": []
          },
          "execution_count": 40
        }
      ]
    },
    {
      "cell_type": "markdown",
      "metadata": {
        "id": "RtbV2cH03yLc",
        "colab_type": "text"
      },
      "source": [
        "###문자열 포메팅"
      ]
    },
    {
      "cell_type": "markdown",
      "metadata": {
        "id": "M8Z3g30n32fy",
        "colab_type": "text"
      },
      "source": [
        "###문자열 포메팅 따라하기"
      ]
    },
    {
      "cell_type": "markdown",
      "metadata": {
        "id": "tCwJaI36344i",
        "colab_type": "text"
      },
      "source": [
        "####1.순자바로대입"
      ]
    },
    {
      "cell_type": "code",
      "metadata": {
        "id": "a6nZMysC37k1",
        "colab_type": "code",
        "outputId": "26a0769f-0e11-4212-ac29-9e3d62923f6a",
        "colab": {
          "base_uri": "https://localhost:8080/",
          "height": 35
        }
      },
      "source": [
        "\"I eat %d apples. \" %3"
      ],
      "execution_count": 0,
      "outputs": [
        {
          "output_type": "execute_result",
          "data": {
            "text/plain": [
              "'I eat 3 apples. '"
            ]
          },
          "metadata": {
            "tags": []
          },
          "execution_count": 42
        }
      ]
    },
    {
      "cell_type": "markdown",
      "metadata": {
        "id": "CVEnyDWu4YLk",
        "colab_type": "text"
      },
      "source": [
        "####2.문자열 바로 대입"
      ]
    },
    {
      "cell_type": "code",
      "metadata": {
        "id": "MwFigj9z4aWB",
        "colab_type": "code",
        "outputId": "26513c62-89c5-4f92-d577-dfb160bda90d",
        "colab": {
          "base_uri": "https://localhost:8080/",
          "height": 35
        }
      },
      "source": [
        "\"I eat %s apples.\" \"five\""
      ],
      "execution_count": 0,
      "outputs": [
        {
          "output_type": "execute_result",
          "data": {
            "text/plain": [
              "'I eat %s apples.five'"
            ]
          },
          "metadata": {
            "tags": []
          },
          "execution_count": 50
        }
      ]
    },
    {
      "cell_type": "markdown",
      "metadata": {
        "id": "YM1g-Vpw42Vr",
        "colab_type": "text"
      },
      "source": [
        "####3.순자 값을 나타내는 변수로 대입"
      ]
    },
    {
      "cell_type": "code",
      "metadata": {
        "id": "hJffZg_C4-WR",
        "colab_type": "code",
        "outputId": "6298b201-0fdc-48b1-df65-684b0b8c2aa6",
        "colab": {
          "base_uri": "https://localhost:8080/",
          "height": 35
        }
      },
      "source": [
        "number=3\n",
        "\"I eat %d apples\" % number"
      ],
      "execution_count": 0,
      "outputs": [
        {
          "output_type": "execute_result",
          "data": {
            "text/plain": [
              "'I eat 3 apples'"
            ]
          },
          "metadata": {
            "tags": []
          },
          "execution_count": 51
        }
      ]
    },
    {
      "cell_type": "markdown",
      "metadata": {
        "id": "Ccs2cTwL5Hvr",
        "colab_type": "text"
      },
      "source": [
        "####. 2개이상의 값 넣기"
      ]
    },
    {
      "cell_type": "code",
      "metadata": {
        "id": "GJ-H_bC-5LqA",
        "colab_type": "code",
        "outputId": "7f772e42-952e-40b5-8159-68713b5d4f42",
        "colab": {
          "base_uri": "https://localhost:8080/",
          "height": 35
        }
      },
      "source": [
        "number = 10 \n",
        "day = \"three\"\n",
        "\"I ate %d apples. so I was sick for %s days.\" % (number, day)"
      ],
      "execution_count": 0,
      "outputs": [
        {
          "output_type": "execute_result",
          "data": {
            "text/plain": [
              "'I ate 10 apples. so I was sick for three days.'"
            ]
          },
          "metadata": {
            "tags": []
          },
          "execution_count": 56
        }
      ]
    },
    {
      "cell_type": "markdown",
      "metadata": {
        "id": "miVU9ykx5_2j",
        "colab_type": "text"
      },
      "source": [
        "###문자열  포멧 코드"
      ]
    },
    {
      "cell_type": "code",
      "metadata": {
        "id": "fLLbytNO6Cl6",
        "colab_type": "code",
        "colab": {}
      },
      "source": [
        ""
      ],
      "execution_count": 0,
      "outputs": []
    },
    {
      "cell_type": "markdown",
      "metadata": {
        "id": "u37oafRo6VZs",
        "colab_type": "text"
      },
      "source": [
        "###포멧 코드와 숫사 함께 사용하기"
      ]
    },
    {
      "cell_type": "markdown",
      "metadata": {
        "id": "iMRkmCrK6YBd",
        "colab_type": "text"
      },
      "source": [
        "#### 1.정렬과 공백"
      ]
    },
    {
      "cell_type": "code",
      "metadata": {
        "id": "Ygb5wH236brI",
        "colab_type": "code",
        "outputId": "9d564b5e-e9ce-4ec2-a75d-a2dafdc2913f",
        "colab": {
          "base_uri": "https://localhost:8080/",
          "height": 35
        }
      },
      "source": [
        "\"%10s\" % \"Hi\""
      ],
      "execution_count": 0,
      "outputs": [
        {
          "output_type": "execute_result",
          "data": {
            "text/plain": [
              "'        Hi'"
            ]
          },
          "metadata": {
            "tags": []
          },
          "execution_count": 58
        }
      ]
    },
    {
      "cell_type": "code",
      "metadata": {
        "id": "rUBZYbCa67Ph",
        "colab_type": "code",
        "outputId": "5e3d4678-a07f-4aad-ac89-928a58a70c22",
        "colab": {
          "base_uri": "https://localhost:8080/",
          "height": 35
        }
      },
      "source": [
        "\"%-10s\" % \"Hi\""
      ],
      "execution_count": 0,
      "outputs": [
        {
          "output_type": "execute_result",
          "data": {
            "text/plain": [
              "'Hi        '"
            ]
          },
          "metadata": {
            "tags": []
          },
          "execution_count": 59
        }
      ]
    },
    {
      "cell_type": "markdown",
      "metadata": {
        "id": "kfkMZMtR7Ha8",
        "colab_type": "text"
      },
      "source": [
        "####2.소수점 표현하기"
      ]
    },
    {
      "cell_type": "code",
      "metadata": {
        "id": "RZ7VWPCb7K3O",
        "colab_type": "code",
        "outputId": "bdd93bb0-57c1-4b6b-99b7-c523f081ac57",
        "colab": {
          "base_uri": "https://localhost:8080/",
          "height": 35
        }
      },
      "source": [
        "\"%0.4f\" % 3.42134234"
      ],
      "execution_count": 0,
      "outputs": [
        {
          "output_type": "execute_result",
          "data": {
            "text/plain": [
              "'3.4213'"
            ]
          },
          "metadata": {
            "tags": []
          },
          "execution_count": 61
        }
      ]
    },
    {
      "cell_type": "markdown",
      "metadata": {
        "id": "lqAidOVy7c3b",
        "colab_type": "text"
      },
      "source": [
        "###format 함수를 사용한 포매팅"
      ]
    },
    {
      "cell_type": "code",
      "metadata": {
        "id": "fKu-4qHy7eNz",
        "colab_type": "code",
        "outputId": "f6b4cc03-f2a8-4d7c-9763-731afae90850",
        "colab": {
          "base_uri": "https://localhost:8080/",
          "height": 35
        }
      },
      "source": [
        "\"I eat {0} apples\" .format(3)"
      ],
      "execution_count": 0,
      "outputs": [
        {
          "output_type": "execute_result",
          "data": {
            "text/plain": [
              "'I eat 3 apples'"
            ]
          },
          "metadata": {
            "tags": []
          },
          "execution_count": 63
        }
      ]
    },
    {
      "cell_type": "code",
      "metadata": {
        "id": "9Yw_hRJw71bC",
        "colab_type": "code",
        "outputId": "5592f296-b0e8-4925-9adb-c99a5863df9f",
        "colab": {
          "base_uri": "https://localhost:8080/",
          "height": 35
        }
      },
      "source": [
        "\"I eat {0} apples\" .format('five')"
      ],
      "execution_count": 0,
      "outputs": [
        {
          "output_type": "execute_result",
          "data": {
            "text/plain": [
              "'I eat five apples'"
            ]
          },
          "metadata": {
            "tags": []
          },
          "execution_count": 64
        }
      ]
    },
    {
      "cell_type": "code",
      "metadata": {
        "id": "dWmozzms76d9",
        "colab_type": "code",
        "outputId": "85c3308c-2b8b-4e14-c570-a2efc2537047",
        "colab": {
          "base_uri": "https://localhost:8080/",
          "height": 35
        }
      },
      "source": [
        "number =3\n",
        "\"I eat {0} apples\" .format(number)"
      ],
      "execution_count": 0,
      "outputs": [
        {
          "output_type": "execute_result",
          "data": {
            "text/plain": [
              "'I eat 3 apples'"
            ]
          },
          "metadata": {
            "tags": []
          },
          "execution_count": 66
        }
      ]
    },
    {
      "cell_type": "code",
      "metadata": {
        "id": "QauYPHwA8NQb",
        "colab_type": "code",
        "outputId": "aa6264ad-910a-40cc-f6d1-546ce51edfe1",
        "colab": {
          "base_uri": "https://localhost:8080/",
          "height": 35
        }
      },
      "source": [
        "number=10\n",
        "day=\"three\"\n",
        "test =\"asdglkjalkgs\"\n",
        "\"I ate {0} apples. so I was sick for {1} days. {2}\".format(number, day, test)"
      ],
      "execution_count": 0,
      "outputs": [
        {
          "output_type": "execute_result",
          "data": {
            "text/plain": [
              "'I ate 10 apples. so I was sick for three days. asdglkjalkgs'"
            ]
          },
          "metadata": {
            "tags": []
          },
          "execution_count": 68
        }
      ]
    },
    {
      "cell_type": "code",
      "metadata": {
        "id": "r28ZAHoN8uyU",
        "colab_type": "code",
        "outputId": "ecb84957-9373-476b-e6e8-851c16d3f13b",
        "colab": {
          "base_uri": "https://localhost:8080/",
          "height": 35
        }
      },
      "source": [
        "\"I ate {number} apples, so i was so sick for {day} days\" .format(number =3, day=10)"
      ],
      "execution_count": 0,
      "outputs": [
        {
          "output_type": "execute_result",
          "data": {
            "text/plain": [
              "'I ate 3 apples, so i was so sick for 10 days'"
            ]
          },
          "metadata": {
            "tags": []
          },
          "execution_count": 70
        }
      ]
    },
    {
      "cell_type": "code",
      "metadata": {
        "id": "nLA4sCi39AMC",
        "colab_type": "code",
        "outputId": "3a81c25e-9dcc-4669-e336-59cd748999c1",
        "colab": {
          "base_uri": "https://localhost:8080/",
          "height": 35
        }
      },
      "source": [
        "\"{0:<10}\" .format(\"hi\")"
      ],
      "execution_count": 0,
      "outputs": [
        {
          "output_type": "execute_result",
          "data": {
            "text/plain": [
              "'hi        '"
            ]
          },
          "metadata": {
            "tags": []
          },
          "execution_count": 74
        }
      ]
    },
    {
      "cell_type": "code",
      "metadata": {
        "id": "d8m6OsZN9X-Q",
        "colab_type": "code",
        "outputId": "94a808a1-38e8-4772-d9b0-b64174bf8552",
        "colab": {
          "base_uri": "https://localhost:8080/",
          "height": 35
        }
      },
      "source": [
        "\"{0:>10}\" .format(\"hi\")"
      ],
      "execution_count": 0,
      "outputs": [
        {
          "output_type": "execute_result",
          "data": {
            "text/plain": [
              "'        hi'"
            ]
          },
          "metadata": {
            "tags": []
          },
          "execution_count": 75
        }
      ]
    },
    {
      "cell_type": "code",
      "metadata": {
        "id": "hixkAfuJ9a79",
        "colab_type": "code",
        "outputId": "f0ddd377-d6dd-47fc-a7ba-39bc04993f50",
        "colab": {
          "base_uri": "https://localhost:8080/",
          "height": 35
        }
      },
      "source": [
        "\"{0:^10}\" .format(\"hi\")"
      ],
      "execution_count": 0,
      "outputs": [
        {
          "output_type": "execute_result",
          "data": {
            "text/plain": [
              "'    hi    '"
            ]
          },
          "metadata": {
            "tags": []
          },
          "execution_count": 76
        }
      ]
    },
    {
      "cell_type": "code",
      "metadata": {
        "id": "nx_riaj79kIL",
        "colab_type": "code",
        "outputId": "58d6ed5c-3bb6-4c3b-a508-5e7bd09b2808",
        "colab": {
          "base_uri": "https://localhost:8080/",
          "height": 35
        }
      },
      "source": [
        "\"{0:=^10}\" .format(\"hi\")"
      ],
      "execution_count": 0,
      "outputs": [
        {
          "output_type": "execute_result",
          "data": {
            "text/plain": [
              "'====hi===='"
            ]
          },
          "metadata": {
            "tags": []
          },
          "execution_count": 77
        }
      ]
    },
    {
      "cell_type": "code",
      "metadata": {
        "id": "X18OZxdr9s16",
        "colab_type": "code",
        "outputId": "9bd5d0a2-3da1-48bd-be39-98b76d5bca61",
        "colab": {
          "base_uri": "https://localhost:8080/",
          "height": 35
        }
      },
      "source": [
        "\"{0:=^10}\" .format(\"안녕하세요\")"
      ],
      "execution_count": 0,
      "outputs": [
        {
          "output_type": "execute_result",
          "data": {
            "text/plain": [
              "'==안녕하세요==='"
            ]
          },
          "metadata": {
            "tags": []
          },
          "execution_count": 80
        }
      ]
    },
    {
      "cell_type": "code",
      "metadata": {
        "id": "NT9oekUp962z",
        "colab_type": "code",
        "outputId": "a730fdb7-a104-4d9f-8507-668847533f79",
        "colab": {
          "base_uri": "https://localhost:8080/",
          "height": 35
        }
      },
      "source": [
        "\"{0:!<10}\" .format(\"hi\")"
      ],
      "execution_count": 0,
      "outputs": [
        {
          "output_type": "execute_result",
          "data": {
            "text/plain": [
              "'hi!!!!!!!!'"
            ]
          },
          "metadata": {
            "tags": []
          },
          "execution_count": 81
        }
      ]
    },
    {
      "cell_type": "code",
      "metadata": {
        "id": "LvxWh6---BcK",
        "colab_type": "code",
        "outputId": "b3d70a04-bbba-40f7-d011-1fcb7b2ad701",
        "colab": {
          "base_uri": "https://localhost:8080/",
          "height": 35
        }
      },
      "source": [
        "y = 3.42134234\n",
        "\"{0:0.4f}\".format(y)"
      ],
      "execution_count": 0,
      "outputs": [
        {
          "output_type": "execute_result",
          "data": {
            "text/plain": [
              "'3.4213'"
            ]
          },
          "metadata": {
            "tags": []
          },
          "execution_count": 85
        }
      ]
    },
    {
      "cell_type": "code",
      "metadata": {
        "id": "pKdZ2qrY-UgQ",
        "colab_type": "code",
        "outputId": "e2cc82be-7c2b-4a58-f36c-febca851ac72",
        "colab": {
          "base_uri": "https://localhost:8080/",
          "height": 35
        }
      },
      "source": [
        "\"{{                  and}}\" .format()"
      ],
      "execution_count": 0,
      "outputs": [
        {
          "output_type": "execute_result",
          "data": {
            "text/plain": [
              "'{                  and}'"
            ]
          },
          "metadata": {
            "tags": []
          },
          "execution_count": 88
        }
      ]
    },
    {
      "cell_type": "markdown",
      "metadata": {
        "id": "ScH6ozGZ_zhr",
        "colab_type": "text"
      },
      "source": [
        "###f 문자열 포메팅"
      ]
    },
    {
      "cell_type": "code",
      "metadata": {
        "id": "3k4_wbpv_1vr",
        "colab_type": "code",
        "outputId": "de96ec0d-e8cc-4d3b-9c8f-8a36fd312b61",
        "colab": {
          "base_uri": "https://localhost:8080/",
          "height": 35
        }
      },
      "source": [
        "name =\"이철우\"\n",
        "age=18\n",
        "f'나의 이름은 {name} 입니다. 나의 나이는 {age}입니다. '"
      ],
      "execution_count": 0,
      "outputs": [
        {
          "output_type": "execute_result",
          "data": {
            "text/plain": [
              "'나의 이름은 이철우 입니다., 나의 나이는 18입니다. '"
            ]
          },
          "metadata": {
            "tags": []
          },
          "execution_count": 89
        }
      ]
    },
    {
      "cell_type": "code",
      "metadata": {
        "id": "pI5L3R3sAOON",
        "colab_type": "code",
        "outputId": "7f78b716-e73a-4075-f352-5bed4b3ba8e8",
        "colab": {
          "base_uri": "https://localhost:8080/",
          "height": 35
        }
      },
      "source": [
        "age=18\n",
        "f'나는 내년에 {age+1}살이 된다.'"
      ],
      "execution_count": 0,
      "outputs": [
        {
          "output_type": "execute_result",
          "data": {
            "text/plain": [
              "'나는 내년에 19살이 된다.'"
            ]
          },
          "metadata": {
            "tags": []
          },
          "execution_count": 90
        }
      ]
    },
    {
      "cell_type": "code",
      "metadata": {
        "id": "MfsepPajAXpO",
        "colab_type": "code",
        "outputId": "c4e86fe1-04a7-4820-8f1e-2641b4460508",
        "colab": {
          "base_uri": "https://localhost:8080/",
          "height": 35
        }
      },
      "source": [
        "f'나는 10년 후면 {age+10}살이 된다.'"
      ],
      "execution_count": 0,
      "outputs": [
        {
          "output_type": "execute_result",
          "data": {
            "text/plain": [
              "'나는 10년 후면 28살이 된다.'"
            ]
          },
          "metadata": {
            "tags": []
          },
          "execution_count": 91
        }
      ]
    },
    {
      "cell_type": "code",
      "metadata": {
        "id": "NgwTf12xAggR",
        "colab_type": "code",
        "outputId": "701ae355-3238-429e-dd73-cf46308cb6c1",
        "colab": {
          "base_uri": "https://localhost:8080/",
          "height": 35
        }
      },
      "source": [
        "d={'name':\"이철우\", 'age':\"18\"}\n",
        "f'나의 이름은 {d[\"name\"]}입니다. 나이는 {d[\"age\"]}입니다.'"
      ],
      "execution_count": 0,
      "outputs": [
        {
          "output_type": "execute_result",
          "data": {
            "text/plain": [
              "'나의 이름은 이철우입니다. 나이는 18입니다.'"
            ]
          },
          "metadata": {
            "tags": []
          },
          "execution_count": 97
        }
      ]
    },
    {
      "cell_type": "code",
      "metadata": {
        "id": "-vFeHV9dBkB_",
        "colab_type": "code",
        "colab": {}
      },
      "source": [
        "###문자열 관련 함수들"
      ],
      "execution_count": 0,
      "outputs": []
    },
    {
      "cell_type": "code",
      "metadata": {
        "id": "j0OXPbdNBlkb",
        "colab_type": "code",
        "outputId": "a2b1db68-1a46-4ded-de6d-e8ed421102b9",
        "colab": {
          "base_uri": "https://localhost:8080/",
          "height": 35
        }
      },
      "source": [
        "a = \"hobby\"\n",
        "a.count('b')"
      ],
      "execution_count": 0,
      "outputs": [
        {
          "output_type": "execute_result",
          "data": {
            "text/plain": [
              "2"
            ]
          },
          "metadata": {
            "tags": []
          },
          "execution_count": 102
        }
      ]
    },
    {
      "cell_type": "markdown",
      "metadata": {
        "id": "gJOV32DRCBNJ",
        "colab_type": "text"
      },
      "source": [
        "###위치 알려주기1(find)"
      ]
    },
    {
      "cell_type": "code",
      "metadata": {
        "id": "zLh98qojCDFH",
        "colab_type": "code",
        "outputId": "9c649945-f1d9-4849-daeb-8430d0bd3350",
        "colab": {
          "base_uri": "https://localhost:8080/",
          "height": 53
        }
      },
      "source": [
        "a = \"Python is the best choice\"\n",
        "a.find('b')\n",
        "print(a[14])\n",
        "print(a.find('k'))"
      ],
      "execution_count": 0,
      "outputs": [
        {
          "output_type": "stream",
          "text": [
            "b\n",
            "-1\n"
          ],
          "name": "stdout"
        }
      ]
    },
    {
      "cell_type": "markdown",
      "metadata": {
        "id": "XOSpAiMGCnZr",
        "colab_type": "text"
      },
      "source": [
        "###문자열 삽입(join)"
      ]
    },
    {
      "cell_type": "code",
      "metadata": {
        "id": "R_NLsPrxCrNI",
        "colab_type": "code",
        "outputId": "899cda3b-671b-4d18-f752-13ef3fd8a027",
        "colab": {
          "base_uri": "https://localhost:8080/",
          "height": 35
        }
      },
      "source": [
        "\"9\" .join('abcd')"
      ],
      "execution_count": 0,
      "outputs": [
        {
          "output_type": "execute_result",
          "data": {
            "text/plain": [
              "'a9b9c9d'"
            ]
          },
          "metadata": {
            "tags": []
          },
          "execution_count": 111
        }
      ]
    },
    {
      "cell_type": "markdown",
      "metadata": {
        "id": "2gKoXwsUC6P7",
        "colab_type": "text"
      },
      "source": [
        "###소문자를 대문자로 바꾸기(upper)"
      ]
    },
    {
      "cell_type": "code",
      "metadata": {
        "id": "UI784Q7UC7U9",
        "colab_type": "code",
        "outputId": "8165c761-d032-4e8d-8943-8b05f6dda706",
        "colab": {
          "base_uri": "https://localhost:8080/",
          "height": 35
        }
      },
      "source": [
        "a=\"hi\"\n",
        "a.upper()"
      ],
      "execution_count": 0,
      "outputs": [
        {
          "output_type": "execute_result",
          "data": {
            "text/plain": [
              "'HI'"
            ]
          },
          "metadata": {
            "tags": []
          },
          "execution_count": 112
        }
      ]
    },
    {
      "cell_type": "markdown",
      "metadata": {
        "id": "jppPN2UCDRJY",
        "colab_type": "text"
      },
      "source": [
        "###대문자를 소문자로 바꾸기(lower)\n"
      ]
    },
    {
      "cell_type": "code",
      "metadata": {
        "id": "9bsfewqADWQ9",
        "colab_type": "code",
        "outputId": "9346af75-cd62-4f7f-c03a-fbd11af5c95f",
        "colab": {
          "base_uri": "https://localhost:8080/",
          "height": 35
        }
      },
      "source": [
        "a= \"HI\"\n",
        "a.lower()"
      ],
      "execution_count": 0,
      "outputs": [
        {
          "output_type": "execute_result",
          "data": {
            "text/plain": [
              "'hi'"
            ]
          },
          "metadata": {
            "tags": []
          },
          "execution_count": 113
        }
      ]
    },
    {
      "cell_type": "markdown",
      "metadata": {
        "id": "l_eCff_IDzDL",
        "colab_type": "text"
      },
      "source": [
        "###왼쪽 공백 지우기(lstrip)"
      ]
    },
    {
      "cell_type": "code",
      "metadata": {
        "id": "uDfxkax1D1eQ",
        "colab_type": "code",
        "outputId": "14501a35-6103-4cf6-d6ca-ef58da2847ef",
        "colab": {
          "base_uri": "https://localhost:8080/",
          "height": 35
        }
      },
      "source": [
        "a =\"         Hi     \"\n",
        "a.lstrip()"
      ],
      "execution_count": 0,
      "outputs": [
        {
          "output_type": "execute_result",
          "data": {
            "text/plain": [
              "'Hi     '"
            ]
          },
          "metadata": {
            "tags": []
          },
          "execution_count": 118
        }
      ]
    },
    {
      "cell_type": "markdown",
      "metadata": {
        "id": "91GIeOARDbGD",
        "colab_type": "text"
      },
      "source": [
        "###오른쪽 공백 지우기(rstrip)"
      ]
    },
    {
      "cell_type": "code",
      "metadata": {
        "id": "uilBqucrDeuL",
        "colab_type": "code",
        "outputId": "88ef6656-f578-44a9-f739-8563a7f10c79",
        "colab": {
          "base_uri": "https://localhost:8080/",
          "height": 35
        }
      },
      "source": [
        "a =\"         Hi     \"\n",
        "a.rstrip()"
      ],
      "execution_count": 0,
      "outputs": [
        {
          "output_type": "execute_result",
          "data": {
            "text/plain": [
              "'         Hi'"
            ]
          },
          "metadata": {
            "tags": []
          },
          "execution_count": 117
        }
      ]
    },
    {
      "cell_type": "code",
      "metadata": {
        "id": "1mjpF_t_DetF",
        "colab_type": "code",
        "outputId": "3518fb53-1ab0-4815-9560-6e6bb82bfd06",
        "colab": {
          "base_uri": "https://localhost:8080/",
          "height": 35
        }
      },
      "source": [
        "a=\"      H      \"\n",
        "a.strip()"
      ],
      "execution_count": 0,
      "outputs": [
        {
          "output_type": "execute_result",
          "data": {
            "text/plain": [
              "'H'"
            ]
          },
          "metadata": {
            "tags": []
          },
          "execution_count": 119
        }
      ]
    },
    {
      "cell_type": "markdown",
      "metadata": {
        "id": "820_rDthEDvj",
        "colab_type": "text"
      },
      "source": [
        "###문자열 바꾸기(replace)"
      ]
    },
    {
      "cell_type": "code",
      "metadata": {
        "id": "E4bxv11SEGX1",
        "colab_type": "code",
        "outputId": "8600f8c2-3c49-489a-969d-169c17a27343",
        "colab": {
          "base_uri": "https://localhost:8080/",
          "height": 35
        }
      },
      "source": [
        "a=\"Life is too short\"\n",
        "a.replace(\"Life\", \"your leg\")"
      ],
      "execution_count": 0,
      "outputs": [
        {
          "output_type": "execute_result",
          "data": {
            "text/plain": [
              "'your leg is too short'"
            ]
          },
          "metadata": {
            "tags": []
          },
          "execution_count": 121
        }
      ]
    },
    {
      "cell_type": "markdown",
      "metadata": {
        "id": "IrqwciqwEZbT",
        "colab_type": "text"
      },
      "source": [
        "###문자열 나누기(split)"
      ]
    },
    {
      "cell_type": "code",
      "metadata": {
        "id": "x8F7ksqNEb5-",
        "colab_type": "code",
        "outputId": "5947e1d5-2947-4a6d-d9e0-c90d8e93ced0",
        "colab": {
          "base_uri": "https://localhost:8080/",
          "height": 35
        }
      },
      "source": [
        "a=\"Life,is,too,short\"\n",
        "a.split(',')"
      ],
      "execution_count": 0,
      "outputs": [
        {
          "output_type": "execute_result",
          "data": {
            "text/plain": [
              "['Life', 'is', 'too', 'short']"
            ]
          },
          "metadata": {
            "tags": []
          },
          "execution_count": 123
        }
      ]
    }
  ]
}