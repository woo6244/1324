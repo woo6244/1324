{
  "nbformat": 4,
  "nbformat_minor": 0,
  "metadata": {
    "colab": {
      "name": "방과후5_21217",
      "provenance": [],
      "mount_file_id": "1s9HRYjo-j1kmREmlR2bDS8ijADmc_udn",
      "authorship_tag": "ABX9TyOxd+4jU3yaL5SoKwgbWYuE",
      "include_colab_link": true
    },
    "kernelspec": {
      "name": "python3",
      "display_name": "Python 3"
    }
  },
  "cells": [
    {
      "cell_type": "markdown",
      "metadata": {
        "id": "view-in-github",
        "colab_type": "text"
      },
      "source": [
        "<a href=\"https://colab.research.google.com/github/woo6244/1324/blob/master/%EB%B0%A9%EA%B3%BC%ED%9B%845_21217.ipynb\" target=\"_parent\"><img src=\"https://colab.research.google.com/assets/colab-badge.svg\" alt=\"Open In Colab\"/></a>"
      ]
    },
    {
      "cell_type": "markdown",
      "metadata": {
        "id": "z6j--wPV98ea",
        "colab_type": "text"
      },
      "source": [
        "# 04-1 함수"
      ]
    },
    {
      "cell_type": "markdown",
      "metadata": {
        "id": "KzwH0wIc-AB1",
        "colab_type": "text"
      },
      "source": [
        "## 파이썬 함수의 구조"
      ]
    },
    {
      "cell_type": "code",
      "metadata": {
        "id": "30qYzzFC-Gtb",
        "colab_type": "code",
        "colab": {}
      },
      "source": [
        "def add(a, b):\n",
        "  result = a + b\n",
        "  return result"
      ],
      "execution_count": 0,
      "outputs": []
    },
    {
      "cell_type": "code",
      "metadata": {
        "id": "Rc7dz9Ao_TVs",
        "colab_type": "code",
        "outputId": "f5896e12-4942-446f-902b-08eb7fd3fda7",
        "colab": {
          "base_uri": "https://localhost:8080/",
          "height": 35
        }
      },
      "source": [
        "x = 3 \n",
        "y = 7\n",
        "add_result = add(x, y)\n",
        "print(add_result)"
      ],
      "execution_count": 0,
      "outputs": [
        {
          "output_type": "stream",
          "text": [
            "10\n"
          ],
          "name": "stdout"
        }
      ]
    },
    {
      "cell_type": "markdown",
      "metadata": {
        "id": "IQID4ODJADB4",
        "colab_type": "text"
      },
      "source": [
        "### 입력값이 없는 함수\n"
      ]
    },
    {
      "cell_type": "code",
      "metadata": {
        "id": "zsUC7DeqAFRU",
        "colab_type": "code",
        "colab": {}
      },
      "source": [
        "def say():\n",
        "    return \"Hi\""
      ],
      "execution_count": 0,
      "outputs": []
    },
    {
      "cell_type": "code",
      "metadata": {
        "id": "aGzgwgGQANqD",
        "colab_type": "code",
        "outputId": "be5dad56-e14c-4039-9412-8ddfa20715e8",
        "colab": {
          "base_uri": "https://localhost:8080/",
          "height": 35
        }
      },
      "source": [
        "print(say()*3)"
      ],
      "execution_count": 0,
      "outputs": [
        {
          "output_type": "stream",
          "text": [
            "HiHiHi\n"
          ],
          "name": "stdout"
        }
      ]
    },
    {
      "cell_type": "markdown",
      "metadata": {
        "id": "SahDW4a6Alrr",
        "colab_type": "text"
      },
      "source": [
        "### 결괏값이 없는 함수"
      ]
    },
    {
      "cell_type": "code",
      "metadata": {
        "id": "oQMujEYOAprA",
        "colab_type": "code",
        "colab": {}
      },
      "source": [
        "def add(a, b):\n",
        "  print(\"%d, %d 의 합은 %d 입니다. \" % (a, b, a+b))"
      ],
      "execution_count": 0,
      "outputs": []
    },
    {
      "cell_type": "code",
      "metadata": {
        "id": "RAPY8JOrA936",
        "colab_type": "code",
        "outputId": "2f28106a-458c-4f5f-adfc-558acae7c5da",
        "colab": {
          "base_uri": "https://localhost:8080/",
          "height": 35
        }
      },
      "source": [
        "add(3, 4)"
      ],
      "execution_count": 0,
      "outputs": [
        {
          "output_type": "stream",
          "text": [
            "3, 4 의 합은 7 입니다. \n"
          ],
          "name": "stdout"
        }
      ]
    },
    {
      "cell_type": "code",
      "metadata": {
        "id": "Y1qUysT1BIXy",
        "colab_type": "code",
        "outputId": "1ed28c3b-bd25-4693-cce1-03de3aff5a42",
        "colab": {
          "base_uri": "https://localhost:8080/",
          "height": 35
        }
      },
      "source": [
        "a = add(3, 4)"
      ],
      "execution_count": 0,
      "outputs": [
        {
          "output_type": "stream",
          "text": [
            "3, 4 의 합은 7 입니다. \n"
          ],
          "name": "stdout"
        }
      ]
    },
    {
      "cell_type": "code",
      "metadata": {
        "id": "joOOVdXbBOir",
        "colab_type": "code",
        "colab": {}
      },
      "source": [
        "a"
      ],
      "execution_count": 0,
      "outputs": []
    },
    {
      "cell_type": "markdown",
      "metadata": {
        "id": "4ErQ-1PmBetj",
        "colab_type": "text"
      },
      "source": [
        "###입력값도 결괏값도 없는 함수"
      ]
    },
    {
      "cell_type": "code",
      "metadata": {
        "id": "v6qFXQDRBhKk",
        "colab_type": "code",
        "colab": {}
      },
      "source": [
        "def say():\n",
        "  print( \"Hi\")"
      ],
      "execution_count": 0,
      "outputs": []
    },
    {
      "cell_type": "code",
      "metadata": {
        "id": "3KaWzdV9BqFV",
        "colab_type": "code",
        "outputId": "4f87ab9b-29ab-439d-f563-9586c9716a5d",
        "colab": {
          "base_uri": "https://localhost:8080/",
          "height": 35
        }
      },
      "source": [
        "say()"
      ],
      "execution_count": 0,
      "outputs": [
        {
          "output_type": "stream",
          "text": [
            "Hi\n"
          ],
          "name": "stdout"
        }
      ]
    },
    {
      "cell_type": "markdown",
      "metadata": {
        "id": "_fy6P0sLBtv6",
        "colab_type": "text"
      },
      "source": [
        "##매개변수 지정하여 호출하기"
      ]
    },
    {
      "cell_type": "code",
      "metadata": {
        "id": "_nfTYt8gBwRC",
        "colab_type": "code",
        "colab": {}
      },
      "source": [
        "def add(a, b):\n",
        "  return a+b"
      ],
      "execution_count": 0,
      "outputs": []
    },
    {
      "cell_type": "code",
      "metadata": {
        "id": "AUhn5gOlB6BD",
        "colab_type": "code",
        "outputId": "5e16db09-2514-443a-c521-7959cde3264c",
        "colab": {
          "base_uri": "https://localhost:8080/",
          "height": 35
        }
      },
      "source": [
        "result = add(a = 3, b = 7)\n",
        "print(result)"
      ],
      "execution_count": 0,
      "outputs": [
        {
          "output_type": "stream",
          "text": [
            "10\n"
          ],
          "name": "stdout"
        }
      ]
    },
    {
      "cell_type": "markdown",
      "metadata": {
        "id": "C6z8D0xUCbZS",
        "colab_type": "text"
      },
      "source": [
        "##입력값이 몇 개가 될지 모를 때는 어떻게 해야 할까?"
      ]
    },
    {
      "cell_type": "markdown",
      "metadata": {
        "id": "FQnKmkMjCeH0",
        "colab_type": "text"
      },
      "source": [
        "###여러 개의 입력값을 받는 함수 만들기"
      ]
    },
    {
      "cell_type": "code",
      "metadata": {
        "id": "RcPIhDJtChrc",
        "colab_type": "code",
        "colab": {}
      },
      "source": [
        "def add_many(*args):\n",
        "  result = 0\n",
        "  for i in args:\n",
        "    result = result + i\n",
        "\n",
        "  return result"
      ],
      "execution_count": 0,
      "outputs": []
    },
    {
      "cell_type": "code",
      "metadata": {
        "id": "T5Wxv2NcDMGT",
        "colab_type": "code",
        "outputId": "e42d0e19-ebf6-44fc-cd37-7558cc64b0ea",
        "colab": {
          "base_uri": "https://localhost:8080/",
          "height": 35
        }
      },
      "source": [
        "res = add_many(1, 2)\n",
        "print(res)"
      ],
      "execution_count": 0,
      "outputs": [
        {
          "output_type": "stream",
          "text": [
            "3\n"
          ],
          "name": "stdout"
        }
      ]
    },
    {
      "cell_type": "code",
      "metadata": {
        "id": "kun3jq4HDvKk",
        "colab_type": "code",
        "outputId": "18390e38-2630-4d6e-e759-a87140602368",
        "colab": {
          "base_uri": "https://localhost:8080/",
          "height": 35
        }
      },
      "source": [
        "res = add_many(1, 2, 3, 4, 5, 6, 7, 8, 9, 10)\n",
        "print(res)"
      ],
      "execution_count": 0,
      "outputs": [
        {
          "output_type": "stream",
          "text": [
            "55\n"
          ],
          "name": "stdout"
        }
      ]
    },
    {
      "cell_type": "code",
      "metadata": {
        "id": "xK_SyRpGD-KC",
        "colab_type": "code",
        "colab": {}
      },
      "source": [
        "def add_mul(choice, *args):\n",
        "  if choice == \"add\":\n",
        "    result = 0  \n",
        "    for i in args:\n",
        "      result += i\n",
        "  elif choice == \"mul\":\n",
        "      result = 1\n",
        "      for i in args:\n",
        "        result *= i\n",
        "\n",
        "  return result"
      ],
      "execution_count": 0,
      "outputs": []
    },
    {
      "cell_type": "code",
      "metadata": {
        "id": "2uGA0ssRFHmN",
        "colab_type": "code",
        "outputId": "0fb0a053-ba90-4241-da55-5635a4cf11c2",
        "colab": {
          "base_uri": "https://localhost:8080/",
          "height": 35
        }
      },
      "source": [
        "result = add_mul(\"add\" , 1, 2, 3, 4, 5)\n",
        "print(result)"
      ],
      "execution_count": 0,
      "outputs": [
        {
          "output_type": "stream",
          "text": [
            "15\n"
          ],
          "name": "stdout"
        }
      ]
    },
    {
      "cell_type": "code",
      "metadata": {
        "id": "wDNVI8tXFOtS",
        "colab_type": "code",
        "outputId": "749500ba-2ebc-4a3c-ddef-8310065aa27f",
        "colab": {
          "base_uri": "https://localhost:8080/",
          "height": 35
        }
      },
      "source": [
        "result = add_mul(\"mul\" , 1, 2, 3, 4, 5)\n",
        "print(result)"
      ],
      "execution_count": 0,
      "outputs": [
        {
          "output_type": "stream",
          "text": [
            "120\n"
          ],
          "name": "stdout"
        }
      ]
    },
    {
      "cell_type": "markdown",
      "metadata": {
        "id": "UHX6CL-ZFbvI",
        "colab_type": "text"
      },
      "source": [
        "## 함수의 결괏값은 언제나 하나이다."
      ]
    },
    {
      "cell_type": "code",
      "metadata": {
        "id": "RpdaA69IFfng",
        "colab_type": "code",
        "colab": {}
      },
      "source": [
        "def add_and_mul(a,b):\n",
        "  return a+b, a*b"
      ],
      "execution_count": 0,
      "outputs": []
    },
    {
      "cell_type": "code",
      "metadata": {
        "id": "DGiiW-UKFsPs",
        "colab_type": "code",
        "outputId": "13fefb22-fd5e-4ac0-fdf8-a7b57b4a3b46",
        "colab": {
          "base_uri": "https://localhost:8080/",
          "height": 35
        }
      },
      "source": [
        "result = add_and_mul(3,4)\n",
        "print(result)"
      ],
      "execution_count": 0,
      "outputs": [
        {
          "output_type": "stream",
          "text": [
            "(7, 12)\n"
          ],
          "name": "stdout"
        }
      ]
    },
    {
      "cell_type": "markdown",
      "metadata": {
        "id": "OYhq6OHFF_ED",
        "colab_type": "text"
      },
      "source": [
        "##매개변수에 초깃값 미리 설정하기"
      ]
    },
    {
      "cell_type": "code",
      "metadata": {
        "id": "EMsxrvNfGCHD",
        "colab_type": "code",
        "colab": {}
      },
      "source": [
        "def say_myself(name, old, man=True):\n",
        "  print(\"나의 이름은 %s 입니다. \" % name)\n",
        "  print(\"나의 나이는 %d 살 입니다.\" % old)\n",
        "  if man:\n",
        "    print(\"남자에요\")\n",
        "  else:\n",
        "    print(\"여자에요\")"
      ],
      "execution_count": 0,
      "outputs": []
    },
    {
      "cell_type": "code",
      "metadata": {
        "id": "JhZKlQQlGto9",
        "colab_type": "code",
        "outputId": "3a2b2141-0d05-4626-db8b-94d69b646e7f",
        "colab": {
          "base_uri": "https://localhost:8080/",
          "height": 71
        }
      },
      "source": [
        "say_myself(\"이철우\" , 18)"
      ],
      "execution_count": 0,
      "outputs": [
        {
          "output_type": "stream",
          "text": [
            "나의 이름은 이철우 입니다. \n",
            "나의 나이는 18 살 입니다.\n",
            "남자에요\n"
          ],
          "name": "stdout"
        }
      ]
    },
    {
      "cell_type": "code",
      "metadata": {
        "id": "6wHJJiGqG2Sz",
        "colab_type": "code",
        "outputId": "7c6ab5f7-599a-4743-ad09-baa12dfb06e1",
        "colab": {
          "base_uri": "https://localhost:8080/",
          "height": 71
        }
      },
      "source": [
        "say_myself(\"김순희\" , 43, False)"
      ],
      "execution_count": 0,
      "outputs": [
        {
          "output_type": "stream",
          "text": [
            "나의 이름은 김순희 입니다. \n",
            "나의 나이는 43 살 입니다.\n",
            "여자에요\n"
          ],
          "name": "stdout"
        }
      ]
    },
    {
      "cell_type": "code",
      "metadata": {
        "id": "9RUd0gYNHbys",
        "colab_type": "code",
        "outputId": "c36f2259-a775-43b2-f69d-4e7c10163077",
        "colab": {
          "base_uri": "https://localhost:8080/",
          "height": 35
        }
      },
      "source": [
        "# vartest.py\n",
        "a = 1\n",
        "def vartest(a):\n",
        "    a = a +1\n",
        "\n",
        "vartest(a)\n",
        "print(a)"
      ],
      "execution_count": 0,
      "outputs": [
        {
          "output_type": "stream",
          "text": [
            "1\n"
          ],
          "name": "stdout"
        }
      ]
    },
    {
      "cell_type": "code",
      "metadata": {
        "id": "43c3y7BoIMIs",
        "colab_type": "code",
        "outputId": "f82adbed-0513-4aaf-8b60-9d500766204d",
        "colab": {
          "base_uri": "https://localhost:8080/",
          "height": 35
        }
      },
      "source": [
        "# vartest_return.py\n",
        "a = 1 \n",
        "def vartest(a): \n",
        "    a = a +1 \n",
        "    return a\n",
        "\n",
        "a = vartest(a) \n",
        "print(a)"
      ],
      "execution_count": 0,
      "outputs": [
        {
          "output_type": "stream",
          "text": [
            "2\n"
          ],
          "name": "stdout"
        }
      ]
    },
    {
      "cell_type": "markdown",
      "metadata": {
        "id": "4uiwDXtLIleD",
        "colab_type": "text"
      },
      "source": [
        "###lambda"
      ]
    },
    {
      "cell_type": "code",
      "metadata": {
        "id": "GT2uRhrQIoKj",
        "colab_type": "code",
        "outputId": "302d94cd-05c9-4604-f30d-3588ef1a7770",
        "colab": {
          "base_uri": "https://localhost:8080/",
          "height": 35
        }
      },
      "source": [
        "add = lambda a, b : a + b\n",
        "result = add(3, 4)\n",
        "print (result)"
      ],
      "execution_count": 0,
      "outputs": [
        {
          "output_type": "stream",
          "text": [
            "7\n"
          ],
          "name": "stdout"
        }
      ]
    },
    {
      "cell_type": "markdown",
      "metadata": {
        "id": "fCnpuFPyJZmU",
        "colab_type": "text"
      },
      "source": [
        "#04-2 사용자 입력과 출력"
      ]
    },
    {
      "cell_type": "markdown",
      "metadata": {
        "id": "Pt-1e-dtJcn4",
        "colab_type": "text"
      },
      "source": [
        "## 사용자 입력"
      ]
    },
    {
      "cell_type": "markdown",
      "metadata": {
        "id": "sInmt2rlJiOT",
        "colab_type": "text"
      },
      "source": [
        "### input 함수 사용"
      ]
    },
    {
      "cell_type": "code",
      "metadata": {
        "id": "Q0hK46xqJk45",
        "colab_type": "code",
        "outputId": "db349f82-10e4-484b-c0f2-bce29747072b",
        "colab": {
          "base_uri": "https://localhost:8080/",
          "height": 35
        }
      },
      "source": [
        "a = int(input())"
      ],
      "execution_count": 0,
      "outputs": [
        {
          "output_type": "stream",
          "text": [
            "131234\n"
          ],
          "name": "stdout"
        }
      ]
    },
    {
      "cell_type": "code",
      "metadata": {
        "id": "6AfZSmNbJx-z",
        "colab_type": "code",
        "outputId": "c212b879-0e3e-46df-f7ed-073972f7dea9",
        "colab": {
          "base_uri": "https://localhost:8080/",
          "height": 35
        }
      },
      "source": [
        "type(a)"
      ],
      "execution_count": 0,
      "outputs": [
        {
          "output_type": "execute_result",
          "data": {
            "text/plain": [
              "int"
            ]
          },
          "metadata": {
            "tags": []
          },
          "execution_count": 51
        }
      ]
    },
    {
      "cell_type": "markdown",
      "metadata": {
        "id": "-znGDT9_KbIL",
        "colab_type": "text"
      },
      "source": [
        "###프롬프트를 띄워서 사용자 입력 받기"
      ]
    },
    {
      "cell_type": "code",
      "metadata": {
        "id": "ur8FuQ92KcBj",
        "colab_type": "code",
        "outputId": "4235fbd5-03ec-4a7b-de33-fa88ce8c15e2",
        "colab": {
          "base_uri": "https://localhost:8080/",
          "height": 35
        }
      },
      "source": [
        "number = int(input(\"숫자를 입력하시오 : \"))"
      ],
      "execution_count": 0,
      "outputs": [
        {
          "output_type": "stream",
          "text": [
            "숫자를 입력하시오 : 32097591285\n"
          ],
          "name": "stdout"
        }
      ]
    },
    {
      "cell_type": "code",
      "metadata": {
        "id": "_7o58sk3KtLl",
        "colab_type": "code",
        "outputId": "a3dc1de1-9efb-4e4c-dcfe-cf09382d855a",
        "colab": {
          "base_uri": "https://localhost:8080/",
          "height": 35
        }
      },
      "source": [
        "type(number)"
      ],
      "execution_count": 0,
      "outputs": [
        {
          "output_type": "execute_result",
          "data": {
            "text/plain": [
              "int"
            ]
          },
          "metadata": {
            "tags": []
          },
          "execution_count": 55
        }
      ]
    },
    {
      "cell_type": "markdown",
      "metadata": {
        "id": "91hffKRAK5sM",
        "colab_type": "text"
      },
      "source": [
        "###print 자세히 알기"
      ]
    },
    {
      "cell_type": "code",
      "metadata": {
        "id": "jdouw8OTK66c",
        "colab_type": "code",
        "outputId": "ad7c575e-7b1f-4e91-d689-a91d389d6768",
        "colab": {
          "base_uri": "https://localhost:8080/",
          "height": 35
        }
      },
      "source": [
        "a = 123\n",
        "print(a)"
      ],
      "execution_count": 0,
      "outputs": [
        {
          "output_type": "stream",
          "text": [
            "123\n"
          ],
          "name": "stdout"
        }
      ]
    },
    {
      "cell_type": "code",
      "metadata": {
        "id": "vsEvp25lK_6r",
        "colab_type": "code",
        "outputId": "b5fb49b7-d939-44fc-e171-64c99bf345ea",
        "colab": {
          "base_uri": "https://localhost:8080/",
          "height": 35
        }
      },
      "source": [
        "a = \"python\"\n",
        "print(a)"
      ],
      "execution_count": 0,
      "outputs": [
        {
          "output_type": "stream",
          "text": [
            "python\n"
          ],
          "name": "stdout"
        }
      ]
    },
    {
      "cell_type": "code",
      "metadata": {
        "id": "fo7cReZ2LLPT",
        "colab_type": "code",
        "outputId": "a66686bd-b0af-4ecf-f1c7-7fa7472e836e",
        "colab": {
          "base_uri": "https://localhost:8080/",
          "height": 35
        }
      },
      "source": [
        "a = [1, 2, 3]\n",
        "print(a)"
      ],
      "execution_count": 0,
      "outputs": [
        {
          "output_type": "stream",
          "text": [
            "[1, 2, 3]\n"
          ],
          "name": "stdout"
        }
      ]
    },
    {
      "cell_type": "markdown",
      "metadata": {
        "id": "jkkhaiPSLW1r",
        "colab_type": "text"
      },
      "source": [
        "#04-3 파일 읽고 쓰기"
      ]
    },
    {
      "cell_type": "code",
      "metadata": {
        "id": "OwTqYg9uL-QL",
        "colab_type": "code",
        "outputId": "0a7d7a42-d763-44bc-f5be-de32608ce7cf",
        "colab": {
          "base_uri": "https://localhost:8080/",
          "height": 53
        }
      },
      "source": [
        "!ls - al"
      ],
      "execution_count": 0,
      "outputs": [
        {
          "output_type": "stream",
          "text": [
            "ls: cannot access '-': No such file or directory\n",
            "ls: cannot access 'al': No such file or directory\n"
          ],
          "name": "stdout"
        }
      ]
    },
    {
      "cell_type": "code",
      "metadata": {
        "id": "ccF4cj5pNUza",
        "colab_type": "code",
        "outputId": "777c08b1-c713-4787-8712-f61ade310173",
        "colab": {
          "base_uri": "https://localhost:8080/",
          "height": 143
        }
      },
      "source": [
        "!pwd\n",
        "!ls - al\n",
        "!cd drive/; ls - al;cd 'My Drive' ; ls - al"
      ],
      "execution_count": 0,
      "outputs": [
        {
          "output_type": "stream",
          "text": [
            "/content\n",
            "ls: cannot access '-': No such file or directory\n",
            "ls: cannot access 'al': No such file or directory\n",
            "ls: cannot access '-': No such file or directory\n",
            "ls: cannot access 'al': No such file or directory\n",
            "ls: cannot access '-': No such file or directory\n",
            "ls: cannot access 'al': No such file or directory\n"
          ],
          "name": "stdout"
        }
      ]
    },
    {
      "cell_type": "code",
      "metadata": {
        "id": "S0Zfz8zAOeit",
        "colab_type": "code",
        "colab": {}
      },
      "source": [
        "f = open(\"새파일.txt\", 'w')\n",
        "f.close()"
      ],
      "execution_count": 0,
      "outputs": []
    },
    {
      "cell_type": "code",
      "metadata": {
        "id": "LjTNex62Op4V",
        "colab_type": "code",
        "colab": {}
      },
      "source": [
        "f = open(\"/content/drive/My Drive/pycode/새파일 . txt\" , \"w\")\n",
        "f.close"
      ],
      "execution_count": 0,
      "outputs": []
    },
    {
      "cell_type": "markdown",
      "metadata": {
        "id": "467Imv4mPrXN",
        "colab_type": "text"
      },
      "source": [
        "##파일을 쓰기 모드로 열어 출력값 적기"
      ]
    },
    {
      "cell_type": "code",
      "metadata": {
        "id": "gfJEmlm1PsJc",
        "colab_type": "code",
        "colab": {}
      },
      "source": [
        "f = open(\"/content/drive/My Drive/pycode/새파일 . txt\" , \"w\")\n",
        "\n",
        "for i in range(1, 11) : \n",
        "  data = \"%d번째 줄 입니다. \\n\" % i\n",
        "  f.write(data)\n",
        "f.close()"
      ],
      "execution_count": 0,
      "outputs": []
    },
    {
      "cell_type": "markdown",
      "metadata": {
        "id": "KQ99UaQoQtWV",
        "colab_type": "text"
      },
      "source": [
        "##프로그램의 외부에 저장된 파일을 읽는 여러 가지 방법"
      ]
    },
    {
      "cell_type": "markdown",
      "metadata": {
        "id": "6s718SBZQvD7",
        "colab_type": "text"
      },
      "source": [
        "###readline() 함수 이용하기"
      ]
    },
    {
      "cell_type": "code",
      "metadata": {
        "id": "dODaVxBhQw8p",
        "colab_type": "code",
        "colab": {}
      },
      "source": [
        "f = open(\"/content/drive/My Drive/pycode/새파일 . txt\"'r')\n",
        "line = f.readline()\n",
        "print(line)\n",
        "f.close()"
      ],
      "execution_count": 0,
      "outputs": []
    },
    {
      "cell_type": "code",
      "metadata": {
        "id": "3DG_dTNgRped",
        "colab_type": "code",
        "colab": {}
      },
      "source": [
        "f = open(\"/content/drive/My Drive/pycode/새파일 . txt\"'r')\n",
        "while True:\n",
        "  line = f.readline()\n",
        "  if not line: break\n",
        "  print(line)\n",
        "\n",
        "f.close()"
      ],
      "execution_count": 0,
      "outputs": []
    },
    {
      "cell_type": "markdown",
      "metadata": {
        "id": "IOHcfuMCSNMF",
        "colab_type": "text"
      },
      "source": [
        "###readlines 함수 사용하기"
      ]
    },
    {
      "cell_type": "code",
      "metadata": {
        "id": "igDdT01oSN5b",
        "colab_type": "code",
        "colab": {}
      },
      "source": [
        "f =open(\"/content/drive/My Drive/pycode/새파일 . txt\", \"r\")\n",
        "lines = f.readlines()\n",
        "for line in lines:\n",
        "  print(lines)\n",
        "f.close"
      ],
      "execution_count": 0,
      "outputs": []
    },
    {
      "cell_type": "markdown",
      "metadata": {
        "id": "-HRcE2HPSmdV",
        "colab_type": "text"
      },
      "source": [
        "###read"
      ]
    },
    {
      "cell_type": "code",
      "metadata": {
        "id": "IwGTnAJTSnt8",
        "colab_type": "code",
        "colab": {}
      },
      "source": [
        "  f = open(\"/content/drive/My Drive/pycode/새파일 . txt\" , \"r\")\n",
        "  data = f.read()\n",
        "  print(data)"
      ],
      "execution_count": 0,
      "outputs": []
    },
    {
      "cell_type": "markdown",
      "metadata": {
        "id": "cOx7PzrGS07L",
        "colab_type": "text"
      },
      "source": [
        "##파일에 새로운 내용 추가하기"
      ]
    },
    {
      "cell_type": "code",
      "metadata": {
        "id": "TYyv1g6ES6MM",
        "colab_type": "code",
        "colab": {}
      },
      "source": [
        "f = open(\"/content/drive/My Drive/pycode/새파일 . txt\" , \"r\")\n",
        "for i in range(11, 20):\n",
        "  data = \"%d 번째 줄입니다. \\n\" % i\n",
        "  f.write(data)\n",
        "f.close()"
      ],
      "execution_count": 0,
      "outputs": []
    },
    {
      "cell_type": "markdown",
      "metadata": {
        "id": "JG6rPJoLTp6N",
        "colab_type": "text"
      },
      "source": [
        "###with문과 함께 사용하기"
      ]
    },
    {
      "cell_type": "code",
      "metadata": {
        "id": "LJ83DUmZTqvr",
        "colab_type": "code",
        "colab": {}
      },
      "source": [
        "with open(\"/content/drive/My Drive/pycode/새파일 . txt\" , \"w\") as f:\n",
        "  f.write(\"Life is too short, you need python\")"
      ],
      "execution_count": 0,
      "outputs": []
    },
    {
      "cell_type": "markdown",
      "metadata": {
        "id": "HuA_pwpiUtsu",
        "colab_type": "text"
      },
      "source": [
        "###sys 모듈로 매개변수 주기"
      ]
    },
    {
      "cell_type": "code",
      "metadata": {
        "id": "BzhUb5_rUudD",
        "colab_type": "code",
        "outputId": "93fa12cb-2c28-42a3-a56b-e509bb74bb98",
        "colab": {
          "base_uri": "https://localhost:8080/",
          "height": 53
        }
      },
      "source": [
        "import sys\n",
        "\n",
        "args = sys.argv[1:]\n",
        "for i in args:\n",
        "    print(i)"
      ],
      "execution_count": 0,
      "outputs": [
        {
          "output_type": "stream",
          "text": [
            "-f\n",
            "/root/.local/share/jupyter/runtime/kernel-040ed2d7-f779-4501-966a-4f9d711b887e.json\n"
          ],
          "name": "stdout"
        }
      ]
    },
    {
      "cell_type": "code",
      "metadata": {
        "id": "JbpzFXuuU-l9",
        "colab_type": "code",
        "colab": {}
      },
      "source": [
        "!python/content/drive/My Drive/pycode/sys1.py aaa bbb ccc"
      ],
      "execution_count": 0,
      "outputs": []
    }
  ]
}