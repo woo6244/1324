{
  "nbformat": 4,
  "nbformat_minor": 0,
  "metadata": {
    "colab": {
      "name": "방과후7_21217.ipynb",
      "provenance": [],
      "authorship_tag": "ABX9TyN+RpzWnw2Dd7+qmRb3iESW",
      "include_colab_link": true
    },
    "kernelspec": {
      "name": "python3",
      "display_name": "Python 3"
    }
  },
  "cells": [
    {
      "cell_type": "markdown",
      "metadata": {
        "id": "view-in-github",
        "colab_type": "text"
      },
      "source": [
        "<a href=\"https://colab.research.google.com/github/woo6244/1324/blob/master/%EB%B0%A9%EA%B3%BC%ED%9B%847_21217.ipynb\" target=\"_parent\"><img src=\"https://colab.research.google.com/assets/colab-badge.svg\" alt=\"Open In Colab\"/></a>"
      ]
    },
    {
      "cell_type": "markdown",
      "metadata": {
        "id": "ktHsEYhnRXQR",
        "colab_type": "text"
      },
      "source": [
        "#05-1 클래스"
      ]
    },
    {
      "cell_type": "markdown",
      "metadata": {
        "id": "FuNJYZqrRY-w",
        "colab_type": "text"
      },
      "source": [
        "## 1. 클래스는 왜 필요한가?"
      ]
    },
    {
      "cell_type": "code",
      "metadata": {
        "id": "jVCogE9DSML4",
        "colab_type": "code",
        "outputId": "582dcdd5-3236-4850-8c82-ebad4e5746be",
        "colab": {
          "base_uri": "https://localhost:8080/",
          "height": 53
        }
      },
      "source": [
        "result = 0\n",
        "\n",
        "def add(num):\n",
        "  global result\n",
        "  result += num\n",
        "  return result\n",
        "\n",
        "print(add(3))\n",
        "## 결과가 누적되기 때문에 7이 나온다.\n",
        "print(add(4))"
      ],
      "execution_count": 0,
      "outputs": [
        {
          "output_type": "stream",
          "text": [
            "3\n",
            "7\n"
          ],
          "name": "stdout"
        }
      ]
    },
    {
      "cell_type": "code",
      "metadata": {
        "id": "zobLpJGqTIU4",
        "colab_type": "code",
        "outputId": "303160af-bf47-4d7c-ed7d-d669cecdb126",
        "colab": {
          "base_uri": "https://localhost:8080/",
          "height": 35
        }
      },
      "source": [
        "print(add(3))\n",
        "##또한 결과가 누적 되기 때문에 7 + 3인 10이 나온다.\n",
        "##두개의 add 를 쓸때에는 add1, add2 와 같이 함수 이름만 바꾼다. 10개를 만들려고 하면 add10 까지 되는 것이다."
      ],
      "execution_count": 0,
      "outputs": [
        {
          "output_type": "stream",
          "text": [
            "10\n"
          ],
          "name": "stdout"
        }
      ]
    },
    {
      "cell_type": "code",
      "metadata": {
        "id": "gej8mbwcTol5",
        "colab_type": "code",
        "outputId": "f95eea55-6144-4840-a02a-a608e5b32dbb",
        "colab": {
          "base_uri": "https://localhost:8080/",
          "height": 89
        }
      },
      "source": [
        "result1 = 0\n",
        "result2 = 0\n",
        "\n",
        "def add1(num):\n",
        "    global result1\n",
        "    result1 += num\n",
        "    return result1\n",
        "\n",
        "def add2(num):\n",
        "    global result2\n",
        "    result2 += num\n",
        "    return result2\n",
        "\n",
        "print(add1(3))\n",
        "print(add1(4))\n",
        "print(add2(3))\n",
        "print(add2(7))"
      ],
      "execution_count": 0,
      "outputs": [
        {
          "output_type": "stream",
          "text": [
            "3\n",
            "7\n",
            "3\n",
            "10\n"
          ],
          "name": "stdout"
        }
      ]
    },
    {
      "cell_type": "code",
      "metadata": {
        "id": "AZ5KTbvHTv-Z",
        "colab_type": "code",
        "outputId": "4552dd1d-5234-4798-9228-e5c262a5b8a5",
        "colab": {
          "base_uri": "https://localhost:8080/",
          "height": 107
        }
      },
      "source": [
        "class Calculator : \n",
        "  def __init__(self) : \n",
        "    self.result = 0 \n",
        "\n",
        "  def add(self, num):\n",
        "    self.result += num\n",
        "    return self.result\n",
        "\n",
        "##self가 cal 대신 cal이 많아지면 result 가 많아 지므로 self 로 대신\n",
        "cal1 = Calculator()\n",
        "cal2 = Calculator()\n",
        "\n",
        "print(cal1.add(3))\n",
        "print(cal1.add(4))\n",
        "print(cal2.add(3))\n",
        "print(cal2.add(7))\n",
        "\n",
        "cal3 = Calculator()\n",
        "print(cal3.add(8))\n",
        "##cal1 ,cal2 ,cla3 끼리는 서로 영향을 주지 않는다."
      ],
      "execution_count": 0,
      "outputs": [
        {
          "output_type": "stream",
          "text": [
            "3\n",
            "7\n",
            "3\n",
            "10\n",
            "8\n"
          ],
          "name": "stdout"
        }
      ]
    },
    {
      "cell_type": "markdown",
      "metadata": {
        "id": "ue2-vJ0CW4wB",
        "colab_type": "text"
      },
      "source": [
        "##사칙연산 클래스 만들기"
      ]
    },
    {
      "cell_type": "markdown",
      "metadata": {
        "id": "9pRIOU8VW8-y",
        "colab_type": "text"
      },
      "source": [
        "###클래스를 어떻게 만들지 먼저 구상하기"
      ]
    },
    {
      "cell_type": "markdown",
      "metadata": {
        "id": "Kb9OOE30XWzA",
        "colab_type": "text"
      },
      "source": [
        "####클래스 구조 만들기"
      ]
    },
    {
      "cell_type": "code",
      "metadata": {
        "id": "eqddysQ8XX64",
        "colab_type": "code",
        "colab": {}
      },
      "source": [
        "class FourCal :\n",
        "  pass"
      ],
      "execution_count": 0,
      "outputs": []
    },
    {
      "cell_type": "code",
      "metadata": {
        "id": "cen4vXrTXcnB",
        "colab_type": "code",
        "outputId": "6ae7c035-6f88-4966-92cf-e5993611e869",
        "colab": {
          "base_uri": "https://localhost:8080/",
          "height": 35
        }
      },
      "source": [
        "a = FourCal()\n",
        "type(a)"
      ],
      "execution_count": 0,
      "outputs": [
        {
          "output_type": "execute_result",
          "data": {
            "text/plain": [
              "__main__.FourCal"
            ]
          },
          "metadata": {
            "tags": []
          },
          "execution_count": 19
        }
      ]
    },
    {
      "cell_type": "markdown",
      "metadata": {
        "id": "1qbCCecSXlDJ",
        "colab_type": "text"
      },
      "source": [
        "###객체에 숫자 지정할 수 있게 만들기"
      ]
    },
    {
      "cell_type": "markdown",
      "metadata": {
        "id": "4BHKWtNvY9W4",
        "colab_type": "text"
      },
      "source": [
        "![대체 텍스트](https://wikidocs.net/images/page/12392/setdata.png)"
      ]
    },
    {
      "cell_type": "code",
      "metadata": {
        "id": "ySHhgTApXnMG",
        "colab_type": "code",
        "colab": {}
      },
      "source": [
        "class FourCal : \n",
        "  def setdata(self, frist, second):\n",
        "    self.first = frist\n",
        "    self.second = second\n"
      ],
      "execution_count": 0,
      "outputs": []
    },
    {
      "cell_type": "code",
      "metadata": {
        "id": "wIwSduWWYgaJ",
        "colab_type": "code",
        "colab": {}
      },
      "source": [
        "a = FourCal()"
      ],
      "execution_count": 0,
      "outputs": []
    },
    {
      "cell_type": "code",
      "metadata": {
        "id": "T948rCwQYlJ4",
        "colab_type": "code",
        "colab": {}
      },
      "source": [
        "a.setdata(4, 2)"
      ],
      "execution_count": 0,
      "outputs": []
    },
    {
      "cell_type": "code",
      "metadata": {
        "id": "333hBl58Ys-4",
        "colab_type": "code",
        "outputId": "310ec260-7fe1-4b1a-8353-df7ba6174b58",
        "colab": {
          "base_uri": "https://localhost:8080/",
          "height": 35
        }
      },
      "source": [
        "a.first, a.second"
      ],
      "execution_count": 0,
      "outputs": [
        {
          "output_type": "execute_result",
          "data": {
            "text/plain": [
              "(4, 2)"
            ]
          },
          "metadata": {
            "tags": []
          },
          "execution_count": 24
        }
      ]
    },
    {
      "cell_type": "code",
      "metadata": {
        "id": "MaVN9WetZh3o",
        "colab_type": "code",
        "outputId": "995e3c31-bc6f-41c1-a8cc-83092606cc01",
        "colab": {
          "base_uri": "https://localhost:8080/",
          "height": 53
        }
      },
      "source": [
        "print(a.first)\n",
        "print(a.second)"
      ],
      "execution_count": 0,
      "outputs": [
        {
          "output_type": "stream",
          "text": [
            "4\n",
            "2\n"
          ],
          "name": "stdout"
        }
      ]
    },
    {
      "cell_type": "code",
      "metadata": {
        "id": "T5aFA0glZsLS",
        "colab_type": "code",
        "outputId": "330496e4-d047-4001-bfb2-4794ce95e665",
        "colab": {
          "base_uri": "https://localhost:8080/",
          "height": 35
        }
      },
      "source": [
        "id(a.first)"
      ],
      "execution_count": 0,
      "outputs": [
        {
          "output_type": "execute_result",
          "data": {
            "text/plain": [
              "10914592"
            ]
          },
          "metadata": {
            "tags": []
          },
          "execution_count": 26
        }
      ]
    },
    {
      "cell_type": "code",
      "metadata": {
        "id": "oQtD56pgZuUw",
        "colab_type": "code",
        "outputId": "9a8fd1cd-95ed-4532-dc6c-1efeedaf7ae1",
        "colab": {
          "base_uri": "https://localhost:8080/",
          "height": 35
        }
      },
      "source": [
        "id(a.second)"
      ],
      "execution_count": 0,
      "outputs": [
        {
          "output_type": "execute_result",
          "data": {
            "text/plain": [
              "10914528"
            ]
          },
          "metadata": {
            "tags": []
          },
          "execution_count": 27
        }
      ]
    },
    {
      "cell_type": "markdown",
      "metadata": {
        "id": "15vJuFbNaBpu",
        "colab_type": "text"
      },
      "source": [
        "###더하기 기능 만들기"
      ]
    },
    {
      "cell_type": "code",
      "metadata": {
        "id": "XTUVBMzHaEPB",
        "colab_type": "code",
        "colab": {}
      },
      "source": [
        "class FourCal : \n",
        "  def setdata(self, first, second):\n",
        "    self.first = first\n",
        "    self.second = second\n",
        "\n",
        "  def add(self):\n",
        "    result = self.first + self.second\n",
        "    return result"
      ],
      "execution_count": 0,
      "outputs": []
    },
    {
      "cell_type": "code",
      "metadata": {
        "id": "ZhrUQ4MMal-2",
        "colab_type": "code",
        "colab": {}
      },
      "source": [
        "a = FourCal() #객체 선언"
      ],
      "execution_count": 0,
      "outputs": []
    },
    {
      "cell_type": "code",
      "metadata": {
        "id": "4lTxC4BJavUH",
        "colab_type": "code",
        "outputId": "293b55ec-7f09-4a64-91e2-ad786feed2a7",
        "colab": {
          "base_uri": "https://localhost:8080/",
          "height": 35
        }
      },
      "source": [
        "a.setdata(4, 2)\n",
        "print(a.add())  "
      ],
      "execution_count": 0,
      "outputs": [
        {
          "output_type": "stream",
          "text": [
            "6\n"
          ],
          "name": "stdout"
        }
      ]
    },
    {
      "cell_type": "code",
      "metadata": {
        "id": "2GE_JrWga82h",
        "colab_type": "code",
        "outputId": "b61296f1-801a-494f-e877-5876489e5dba",
        "colab": {
          "base_uri": "https://localhost:8080/",
          "height": 35
        }
      },
      "source": [
        "b = FourCal() #위 에꺼랑 상관 X\n",
        "b.setdata(3, 5)\n",
        "print(b.add())"
      ],
      "execution_count": 0,
      "outputs": [
        {
          "output_type": "stream",
          "text": [
            "8\n"
          ],
          "name": "stdout"
        }
      ]
    },
    {
      "cell_type": "markdown",
      "metadata": {
        "id": "vFV9G7U9bLvg",
        "colab_type": "text"
      },
      "source": [
        "### 곱하기, 빼기, 나누기 기능 만들기 "
      ]
    },
    {
      "cell_type": "code",
      "metadata": {
        "id": "RkYYsmlVbX-J",
        "colab_type": "code",
        "colab": {}
      },
      "source": [
        "class FourCal : \n",
        "  def setdata(self, first, second):\n",
        "    self.first = first\n",
        "    self.second = second\n",
        "\n",
        "  def add(self):\n",
        "    result = self.first + self.second\n",
        "    return result\n",
        "\n",
        "  def mul(self):\n",
        "    result = self.first * self.second\n",
        "    return result\n",
        "\n",
        "  def sub(self):\n",
        "    result = self.first  - self.second\n",
        "    return result\n",
        "\n",
        "  def div(self):\n",
        "    result = self.first / self.second\n",
        "    return result"
      ],
      "execution_count": 0,
      "outputs": []
    },
    {
      "cell_type": "code",
      "metadata": {
        "id": "CYjBZa6jcSXa",
        "colab_type": "code",
        "colab": {}
      },
      "source": [
        "a = FourCal()\n",
        "b = FourCal()\n",
        "\n",
        "a.setdata(4, 2)\n",
        "b.setdata(3, 8)"
      ],
      "execution_count": 0,
      "outputs": []
    },
    {
      "cell_type": "code",
      "metadata": {
        "id": "CH6POsFscVKw",
        "colab_type": "code",
        "outputId": "71a3249b-9965-41c5-b4bd-7bec6327bec9",
        "colab": {
          "base_uri": "https://localhost:8080/",
          "height": 89
        }
      },
      "source": [
        "print(b.add())\n",
        "print(b.mul())\n",
        "print(b.sub())\n",
        "print(b.div())\n"
      ],
      "execution_count": 0,
      "outputs": [
        {
          "output_type": "stream",
          "text": [
            "11\n",
            "24\n",
            "-5\n",
            "0.375\n"
          ],
          "name": "stdout"
        }
      ]
    },
    {
      "cell_type": "markdown",
      "metadata": {
        "id": "6am9Z5hKc3R6",
        "colab_type": "text"
      },
      "source": [
        "## 생성자(Constructor)"
      ]
    },
    {
      "cell_type": "code",
      "metadata": {
        "id": "Pk9OUvfKc8Qi",
        "colab_type": "code",
        "outputId": "1ee20352-636d-4ef4-b67a-65ea53124ec2",
        "colab": {
          "base_uri": "https://localhost:8080/",
          "height": 316
        }
      },
      "source": [
        "a = FourCal()\n",
        "a.add()"
      ],
      "execution_count": 0,
      "outputs": [
        {
          "output_type": "error",
          "ename": "AttributeError",
          "evalue": "ignored",
          "traceback": [
            "\u001b[0;31m---------------------------------------------------------------------------\u001b[0m",
            "\u001b[0;31mAttributeError\u001b[0m                            Traceback (most recent call last)",
            "\u001b[0;32m<ipython-input-39-93d8790fe05f>\u001b[0m in \u001b[0;36m<module>\u001b[0;34m()\u001b[0m\n\u001b[1;32m      1\u001b[0m \u001b[0ma\u001b[0m \u001b[0;34m=\u001b[0m \u001b[0mFourCal\u001b[0m\u001b[0;34m(\u001b[0m\u001b[0;34m)\u001b[0m\u001b[0;34m\u001b[0m\u001b[0;34m\u001b[0m\u001b[0m\n\u001b[0;32m----> 2\u001b[0;31m \u001b[0ma\u001b[0m\u001b[0;34m.\u001b[0m\u001b[0madd\u001b[0m\u001b[0;34m(\u001b[0m\u001b[0;34m)\u001b[0m\u001b[0;34m\u001b[0m\u001b[0;34m\u001b[0m\u001b[0m\n\u001b[0m",
            "\u001b[0;32m<ipython-input-34-607817133f22>\u001b[0m in \u001b[0;36madd\u001b[0;34m(self)\u001b[0m\n\u001b[1;32m      5\u001b[0m \u001b[0;34m\u001b[0m\u001b[0m\n\u001b[1;32m      6\u001b[0m   \u001b[0;32mdef\u001b[0m \u001b[0madd\u001b[0m\u001b[0;34m(\u001b[0m\u001b[0mself\u001b[0m\u001b[0;34m)\u001b[0m\u001b[0;34m:\u001b[0m\u001b[0;34m\u001b[0m\u001b[0;34m\u001b[0m\u001b[0m\n\u001b[0;32m----> 7\u001b[0;31m     \u001b[0mresult\u001b[0m \u001b[0;34m=\u001b[0m \u001b[0mself\u001b[0m\u001b[0;34m.\u001b[0m\u001b[0mfirst\u001b[0m \u001b[0;34m+\u001b[0m \u001b[0mself\u001b[0m\u001b[0;34m.\u001b[0m\u001b[0msecond\u001b[0m\u001b[0;34m\u001b[0m\u001b[0;34m\u001b[0m\u001b[0m\n\u001b[0m\u001b[1;32m      8\u001b[0m     \u001b[0;32mreturn\u001b[0m \u001b[0mresult\u001b[0m\u001b[0;34m\u001b[0m\u001b[0;34m\u001b[0m\u001b[0m\n\u001b[1;32m      9\u001b[0m \u001b[0;34m\u001b[0m\u001b[0m\n",
            "\u001b[0;31mAttributeError\u001b[0m: 'FourCal' object has no attribute 'first'"
          ]
        }
      ]
    },
    {
      "cell_type": "code",
      "metadata": {
        "id": "BjV4NsfbdKKP",
        "colab_type": "code",
        "colab": {}
      },
      "source": [
        "class FourCal:\n",
        "  def __init__(self, first, second):\n",
        "    self.first = first\n",
        "    self.second = second\n",
        "\n",
        "  def setdata(self, first, second):\n",
        "    self.first = first\n",
        "    self.second = second\n",
        "\n",
        "  def add(self):\n",
        "    result = self.first + self.second\n",
        "    return result\n",
        "\n",
        "  def mul(self):\n",
        "    result = self.first * self.second\n",
        "    return result\n",
        "\n",
        "  def sub(self):\n",
        "    result = self.first  - self.second\n",
        "    return result\n",
        "\n",
        "  def div(self):\n",
        "    result = self.first / self.second\n",
        "    return result"
      ],
      "execution_count": 0,
      "outputs": []
    },
    {
      "cell_type": "code",
      "metadata": {
        "id": "bdVACzfidpNe",
        "colab_type": "code",
        "outputId": "5b4bc94f-36fb-42d1-84ae-694bb63a2d57",
        "colab": {
          "base_uri": "https://localhost:8080/",
          "height": 53
        }
      },
      "source": [
        "a = FourCal(3, 4)\n",
        "print(a.first)\n",
        "print(a.second)"
      ],
      "execution_count": 0,
      "outputs": [
        {
          "output_type": "stream",
          "text": [
            "3\n",
            "4\n"
          ],
          "name": "stdout"
        }
      ]
    },
    {
      "cell_type": "code",
      "metadata": {
        "id": "N-SX5LPhe1tx",
        "colab_type": "code",
        "colab": {}
      },
      "source": [
        "class MoreFourCal(FourCal):\n",
        "  def pow(self):\n",
        "    result = self.first ** self.second\n",
        "    return result\n",
        "##FourCal 이 가지고 있는 곱하기 나누기 더하기 빼기 기능 부여 "
      ],
      "execution_count": 0,
      "outputs": []
    },
    {
      "cell_type": "code",
      "metadata": {
        "id": "OIFV591KfRW5",
        "colab_type": "code",
        "outputId": "baac75d6-6531-4a76-d036-9e820f0f923f",
        "colab": {
          "base_uri": "https://localhost:8080/",
          "height": 35
        }
      },
      "source": [
        "a = MoreFourCal(4, 2)\n",
        "a.pow()"
      ],
      "execution_count": 0,
      "outputs": [
        {
          "output_type": "execute_result",
          "data": {
            "text/plain": [
              "16"
            ]
          },
          "metadata": {
            "tags": []
          },
          "execution_count": 45
        }
      ]
    },
    {
      "cell_type": "code",
      "metadata": {
        "id": "t3XOUNoufoP5",
        "colab_type": "code",
        "outputId": "3fefc507-2e29-46ba-eb35-fd4646062eb7",
        "colab": {
          "base_uri": "https://localhost:8080/",
          "height": 35
        }
      },
      "source": [
        "a.add()"
      ],
      "execution_count": 0,
      "outputs": [
        {
          "output_type": "execute_result",
          "data": {
            "text/plain": [
              "6"
            ]
          },
          "metadata": {
            "tags": []
          },
          "execution_count": 46
        }
      ]
    },
    {
      "cell_type": "code",
      "metadata": {
        "id": "6YB4PD4gf-AB",
        "colab_type": "code",
        "outputId": "a5c7fb2b-40d9-4841-eeaa-18a35e057770",
        "colab": {
          "base_uri": "https://localhost:8080/",
          "height": 35
        }
      },
      "source": [
        "a.sub()"
      ],
      "execution_count": 0,
      "outputs": [
        {
          "output_type": "execute_result",
          "data": {
            "text/plain": [
              "2"
            ]
          },
          "metadata": {
            "tags": []
          },
          "execution_count": 47
        }
      ]
    },
    {
      "cell_type": "markdown",
      "metadata": {
        "id": "Tjc7x3KrhGVR",
        "colab_type": "text"
      },
      "source": [
        "### 클래스 변수"
      ]
    },
    {
      "cell_type": "code",
      "metadata": {
        "id": "uUjZ7OM1hHgu",
        "colab_type": "code",
        "colab": {}
      },
      "source": [
        "class Family:\n",
        "  lastname = \"이\"   "
      ],
      "execution_count": 0,
      "outputs": []
    },
    {
      "cell_type": "code",
      "metadata": {
        "id": "ZG7gzVeshP3g",
        "colab_type": "code",
        "outputId": "8f559606-c1ba-4342-ba18-15a5f0e04b6b",
        "colab": {
          "base_uri": "https://localhost:8080/",
          "height": 35
        }
      },
      "source": [
        " a= Family()\n",
        " a.lastname"
      ],
      "execution_count": 0,
      "outputs": [
        {
          "output_type": "execute_result",
          "data": {
            "text/plain": [
              "'이'"
            ]
          },
          "metadata": {
            "tags": []
          },
          "execution_count": 51
        }
      ]
    },
    {
      "cell_type": "markdown",
      "metadata": {
        "id": "8jMxgnswhcVC",
        "colab_type": "text"
      },
      "source": [
        "# 05-2 모듈"
      ]
    },
    {
      "cell_type": "markdown",
      "metadata": {
        "id": "oWrZ2l7ahfJY",
        "colab_type": "text"
      },
      "source": [
        "##모듈 만들기"
      ]
    },
    {
      "cell_type": "code",
      "metadata": {
        "id": "hDPFKWY0hgQJ",
        "colab_type": "code",
        "outputId": "3316e2d8-83a6-432f-f521-e3dd13fd25c6",
        "colab": {
          "base_uri": "https://localhost:8080/",
          "height": 143
        }
      },
      "source": [
        "!ls -al"
      ],
      "execution_count": 0,
      "outputs": [
        {
          "output_type": "stream",
          "text": [
            "total 24\n",
            "drwxr-xr-x 1 root root 4096 May  8 09:18 .\n",
            "drwxr-xr-x 1 root root 4096 May  8 07:52 ..\n",
            "drwxr-xr-x 1 root root 4096 May  5 16:13 .config\n",
            "drwxr-xr-x 2 root root 4096 May  8 09:04 .ipynb_checkpoints\n",
            "-rw-r--r-- 1 root root  119 May  8 09:18 mod1.py\n",
            "drwxr-xr-x 1 root root 4096 May  4 16:26 sample_data\n"
          ],
          "name": "stdout"
        }
      ]
    },
    {
      "cell_type": "code",
      "metadata": {
        "id": "YEJe4CFqinyh",
        "colab_type": "code",
        "colab": {}
      },
      "source": [
        "import mod1\n",
        "print(mod1.add(3, 4))\n"
      ],
      "execution_count": 0,
      "outputs": []
    },
    {
      "cell_type": "code",
      "metadata": {
        "id": "bS7lmyQqjYAy",
        "colab_type": "code",
        "colab": {}
      },
      "source": [
        "from mod1 import add\n",
        "print(add(3, 4)\n",
        "print(sub(4, 3))"
      ],
      "execution_count": 0,
      "outputs": []
    },
    {
      "cell_type": "code",
      "metadata": {
        "id": "JqXEhJbkj1sp",
        "colab_type": "code",
        "colab": {}
      },
      "source": [
        "from mod1 import add as a\n",
        "from mod1 import sub as b\n",
        "\n",
        "print(a(3,4))\n",
        "print(b(3,4))"
      ],
      "execution_count": 0,
      "outputs": []
    },
    {
      "cell_type": "code",
      "metadata": {
        "id": "S5OM7a9fkp4j",
        "colab_type": "code",
        "colab": {}
      },
      "source": [
        "import mod1"
      ],
      "execution_count": 0,
      "outputs": []
    },
    {
      "cell_type": "code",
      "metadata": {
        "id": "ctO_T7dWlAN5",
        "colab_type": "code",
        "outputId": "ef45dea6-13eb-4fa6-a931-e0c7919fd1fd",
        "colab": {
          "base_uri": "https://localhost:8080/",
          "height": 89
        }
      },
      "source": [
        "!python mod1.py"
      ],
      "execution_count": 0,
      "outputs": [
        {
          "output_type": "stream",
          "text": [
            "  File \"mod1.py\", line 5\n",
            "    retrun a-b\n",
            "           ^\n",
            "SyntaxError: invalid syntax\n"
          ],
          "name": "stdout"
        }
      ]
    },
    {
      "cell_type": "markdown",
      "metadata": {
        "id": "aH8hdPUolJfn",
        "colab_type": "text"
      },
      "source": [
        "## 클래스나 변수 등을 포함한 모듈"
      ]
    },
    {
      "cell_type": "code",
      "metadata": {
        "id": "9-EFW0NMlRTP",
        "colab_type": "code",
        "outputId": "7660999b-9b9a-404d-90f2-91a741a29012",
        "colab": {
          "base_uri": "https://localhost:8080/",
          "height": 53
        }
      },
      "source": [
        "import mod2\n",
        "\n",
        "a = mod2.Math()\n",
        "print(a.solv(2))\n",
        "\n",
        "print(mod2.add(2,4))"
      ],
      "execution_count": 0,
      "outputs": [
        {
          "output_type": "stream",
          "text": [
            "12.566368\n",
            "6\n"
          ],
          "name": "stdout"
        }
      ]
    },
    {
      "cell_type": "markdown",
      "metadata": {
        "id": "Sq9CpE6zmZ6y",
        "colab_type": "text"
      },
      "source": [
        "# 05-3 패키지 "
      ]
    },
    {
      "cell_type": "code",
      "metadata": {
        "id": "axqI6Zgin7t8",
        "colab_type": "code",
        "colab": {}
      },
      "source": [
        "import game.sound."
      ],
      "execution_count": 0,
      "outputs": []
    }
  ]
}