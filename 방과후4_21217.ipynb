{
  "nbformat": 4,
  "nbformat_minor": 0,
  "metadata": {
    "colab": {
      "name": "방과후4_21217.ipynb",
      "provenance": [],
      "toc_visible": true,
      "mount_file_id": "1cn8cHvfIv-mxzNOigUHR5o6M2_uZmGXd",
      "authorship_tag": "ABX9TyPJaLaii/o/48uYvPlyjORq",
      "include_colab_link": true
    },
    "kernelspec": {
      "name": "python3",
      "display_name": "Python 3"
    }
  },
  "cells": [
    {
      "cell_type": "markdown",
      "metadata": {
        "id": "view-in-github",
        "colab_type": "text"
      },
      "source": [
        "<a href=\"https://colab.research.google.com/github/woo6244/1324/blob/master/%EB%B0%A9%EA%B3%BC%ED%9B%844_21217.ipynb\" target=\"_parent\"><img src=\"https://colab.research.google.com/assets/colab-badge.svg\" alt=\"Open In Colab\"/></a>"
      ]
    },
    {
      "cell_type": "markdown",
      "metadata": {
        "id": "el_xAEAMpyms",
        "colab_type": "text"
      },
      "source": [
        "#02-6 집합 자료형"
      ]
    },
    {
      "cell_type": "markdown",
      "metadata": {
        "id": "2kD-CEBYqIQD",
        "colab_type": "text"
      },
      "source": [
        "## 1.집합 자료형은 어떻게 만들까?"
      ]
    },
    {
      "cell_type": "code",
      "metadata": {
        "id": "EfsDyvDhqLnV",
        "colab_type": "code",
        "outputId": "7f3adfd4-b904-4db9-825a-b73400b7bafa",
        "colab": {
          "base_uri": "https://localhost:8080/",
          "height": 53
        }
      },
      "source": [
        "s1 = set([1, 2, 3])\n",
        "print(s1)\n",
        "type(s1)"
      ],
      "execution_count": 0,
      "outputs": [
        {
          "output_type": "stream",
          "text": [
            "{1, 2, 3}\n"
          ],
          "name": "stdout"
        },
        {
          "output_type": "execute_result",
          "data": {
            "text/plain": [
              "set"
            ]
          },
          "metadata": {
            "tags": []
          },
          "execution_count": 3
        }
      ]
    },
    {
      "cell_type": "code",
      "metadata": {
        "id": "foCg9oawqmwk",
        "colab_type": "code",
        "outputId": "c34dcd04-0bb6-45ed-d374-35d21f1bdb43",
        "colab": {
          "base_uri": "https://localhost:8080/",
          "height": 35
        }
      },
      "source": [
        "s2 = set(\"Hello\")\n",
        "s2"
      ],
      "execution_count": 0,
      "outputs": [
        {
          "output_type": "execute_result",
          "data": {
            "text/plain": [
              "{'H', 'e', 'l', 'o'}"
            ]
          },
          "metadata": {
            "tags": []
          },
          "execution_count": 5
        }
      ]
    },
    {
      "cell_type": "markdown",
      "metadata": {
        "id": "zVscabs6q7AL",
        "colab_type": "text"
      },
      "source": [
        "## 2. 집합 자료형의 특징\n",
        "\n",
        "``` \n",
        "중복을 허용하지 않는다.\n",
        "순서가 없다(Unordered).\n",
        "\n",
        "```\n",
        "\n"
      ]
    },
    {
      "cell_type": "code",
      "metadata": {
        "id": "ZSMAcU5bq9Kr",
        "colab_type": "code",
        "outputId": "2bca3da3-4db6-4722-e209-36c09308df86",
        "colab": {
          "base_uri": "https://localhost:8080/",
          "height": 35
        }
      },
      "source": [
        "s1 = set([1, 2, 3])\n",
        "list1 =  list(s1)\n",
        "list1"
      ],
      "execution_count": 0,
      "outputs": [
        {
          "output_type": "execute_result",
          "data": {
            "text/plain": [
              "[1, 2, 3]"
            ]
          },
          "metadata": {
            "tags": []
          },
          "execution_count": 6
        }
      ]
    },
    {
      "cell_type": "code",
      "metadata": {
        "id": "De1tGl7IsBAV",
        "colab_type": "code",
        "outputId": "13e14133-09cd-47c1-ea31-89483d09330e",
        "colab": {
          "base_uri": "https://localhost:8080/",
          "height": 35
        }
      },
      "source": [
        "list1[0]"
      ],
      "execution_count": 0,
      "outputs": [
        {
          "output_type": "execute_result",
          "data": {
            "text/plain": [
              "1"
            ]
          },
          "metadata": {
            "tags": []
          },
          "execution_count": 10
        }
      ]
    },
    {
      "cell_type": "code",
      "metadata": {
        "id": "IYWl3z4gsWmT",
        "colab_type": "code",
        "outputId": "e584a09e-17b3-4dfa-9758-a4229b833d14",
        "colab": {
          "base_uri": "https://localhost:8080/",
          "height": 35
        }
      },
      "source": [
        "t1 = tuple(s1)\n",
        "t1"
      ],
      "execution_count": 0,
      "outputs": [
        {
          "output_type": "execute_result",
          "data": {
            "text/plain": [
              "(1, 2, 3)"
            ]
          },
          "metadata": {
            "tags": []
          },
          "execution_count": 12
        }
      ]
    },
    {
      "cell_type": "markdown",
      "metadata": {
        "id": "2D4R18RjsfZR",
        "colab_type": "text"
      },
      "source": [
        "## 3.교집합, 합집합, 차집합 구하기"
      ]
    },
    {
      "cell_type": "markdown",
      "metadata": {
        "id": "pQ8CGKKBslwk",
        "colab_type": "text"
      },
      "source": [
        "### 1.교집합"
      ]
    },
    {
      "cell_type": "code",
      "metadata": {
        "id": "RTV1Jzt_sm2s",
        "colab_type": "code",
        "colab": {}
      },
      "source": [
        "s1 = set([1, 2, 3, 4, 5, 6])\n",
        "s2 = set([4, 5, 6, 7, 8, 9])"
      ],
      "execution_count": 0,
      "outputs": []
    },
    {
      "cell_type": "code",
      "metadata": {
        "id": "KP_rDUc3tFrU",
        "colab_type": "code",
        "outputId": "2b040db5-f35c-441f-e3c7-68bfd7292895",
        "colab": {
          "base_uri": "https://localhost:8080/",
          "height": 35
        }
      },
      "source": [
        "s1 & s2"
      ],
      "execution_count": 0,
      "outputs": [
        {
          "output_type": "execute_result",
          "data": {
            "text/plain": [
              "{4, 5, 6}"
            ]
          },
          "metadata": {
            "tags": []
          },
          "execution_count": 16
        }
      ]
    },
    {
      "cell_type": "code",
      "metadata": {
        "id": "wIfVwWtatXpU",
        "colab_type": "code",
        "outputId": "813eb551-1714-4a34-da57-fd720db38c15",
        "colab": {
          "base_uri": "https://localhost:8080/",
          "height": 35
        }
      },
      "source": [
        "s1.intersection(s2)"
      ],
      "execution_count": 0,
      "outputs": [
        {
          "output_type": "execute_result",
          "data": {
            "text/plain": [
              "{4, 5, 6}"
            ]
          },
          "metadata": {
            "tags": []
          },
          "execution_count": 17
        }
      ]
    },
    {
      "cell_type": "markdown",
      "metadata": {
        "id": "5lqx81QLtaeT",
        "colab_type": "text"
      },
      "source": [
        "### 2. 합집합"
      ]
    },
    {
      "cell_type": "code",
      "metadata": {
        "id": "VxRVkZHDtcf7",
        "colab_type": "code",
        "outputId": "52533378-9224-4434-8aa7-6dcc089f18fa",
        "colab": {
          "base_uri": "https://localhost:8080/",
          "height": 35
        }
      },
      "source": [
        "s1 | s2"
      ],
      "execution_count": 0,
      "outputs": [
        {
          "output_type": "execute_result",
          "data": {
            "text/plain": [
              "{1, 2, 3, 4, 5, 6, 7, 8, 9}"
            ]
          },
          "metadata": {
            "tags": []
          },
          "execution_count": 18
        }
      ]
    },
    {
      "cell_type": "code",
      "metadata": {
        "id": "Uh3Kl-OhtrDZ",
        "colab_type": "code",
        "outputId": "8140c69b-8a13-424a-bb51-c807c0150389",
        "colab": {
          "base_uri": "https://localhost:8080/",
          "height": 35
        }
      },
      "source": [
        "s1.union(s2)"
      ],
      "execution_count": 0,
      "outputs": [
        {
          "output_type": "execute_result",
          "data": {
            "text/plain": [
              "{1, 2, 3, 4, 5, 6, 7, 8, 9}"
            ]
          },
          "metadata": {
            "tags": []
          },
          "execution_count": 19
        }
      ]
    },
    {
      "cell_type": "markdown",
      "metadata": {
        "id": "fx6LJX7st3OU",
        "colab_type": "text"
      },
      "source": [
        "### 3. 차집합"
      ]
    },
    {
      "cell_type": "code",
      "metadata": {
        "id": "aa0jODkdt4v5",
        "colab_type": "code",
        "outputId": "6eb64106-d3a8-4ac5-92a2-1d77ff5b8988",
        "colab": {
          "base_uri": "https://localhost:8080/",
          "height": 35
        }
      },
      "source": [
        "s1 - s2"
      ],
      "execution_count": 0,
      "outputs": [
        {
          "output_type": "execute_result",
          "data": {
            "text/plain": [
              "{1, 2, 3}"
            ]
          },
          "metadata": {
            "tags": []
          },
          "execution_count": 20
        }
      ]
    },
    {
      "cell_type": "code",
      "metadata": {
        "id": "oeS6aDPmt9CF",
        "colab_type": "code",
        "outputId": "8d0b6655-9e6a-4532-a9fb-4784d081a177",
        "colab": {
          "base_uri": "https://localhost:8080/",
          "height": 35
        }
      },
      "source": [
        "s2 - s1"
      ],
      "execution_count": 0,
      "outputs": [
        {
          "output_type": "execute_result",
          "data": {
            "text/plain": [
              "{7, 8, 9}"
            ]
          },
          "metadata": {
            "tags": []
          },
          "execution_count": 21
        }
      ]
    },
    {
      "cell_type": "code",
      "metadata": {
        "id": "2ANNDHOBuAr0",
        "colab_type": "code",
        "outputId": "5fe7809e-84f1-4c54-a21c-05d61981b769",
        "colab": {
          "base_uri": "https://localhost:8080/",
          "height": 35
        }
      },
      "source": [
        "s1.difference(s2)"
      ],
      "execution_count": 0,
      "outputs": [
        {
          "output_type": "execute_result",
          "data": {
            "text/plain": [
              "{1, 2, 3}"
            ]
          },
          "metadata": {
            "tags": []
          },
          "execution_count": 22
        }
      ]
    },
    {
      "cell_type": "code",
      "metadata": {
        "id": "EZDXrllXuEIZ",
        "colab_type": "code",
        "outputId": "81479dcc-27f8-471a-be36-d5b80d18b924",
        "colab": {
          "base_uri": "https://localhost:8080/",
          "height": 35
        }
      },
      "source": [
        "s2.difference(s1)"
      ],
      "execution_count": 0,
      "outputs": [
        {
          "output_type": "execute_result",
          "data": {
            "text/plain": [
              "{7, 8, 9}"
            ]
          },
          "metadata": {
            "tags": []
          },
          "execution_count": 23
        }
      ]
    },
    {
      "cell_type": "markdown",
      "metadata": {
        "id": "WldhdpKKuQ6a",
        "colab_type": "text"
      },
      "source": [
        "## 4. 집합 자료형 관련 함수들"
      ]
    },
    {
      "cell_type": "markdown",
      "metadata": {
        "id": "yeB8C21auVeD",
        "colab_type": "text"
      },
      "source": [
        "### 1. 값 1개 추가하기(add)"
      ]
    },
    {
      "cell_type": "code",
      "metadata": {
        "id": "YVCVwFeJuYHx",
        "colab_type": "code",
        "outputId": "a4cd56d1-6f45-4c79-eab0-697c9304eeae",
        "colab": {
          "base_uri": "https://localhost:8080/",
          "height": 35
        }
      },
      "source": [
        "s1 = set([1, 2, 3, 'e'])\n",
        "s1.add(4)\n",
        "s1"
      ],
      "execution_count": 0,
      "outputs": [
        {
          "output_type": "execute_result",
          "data": {
            "text/plain": [
              "{1, 2, 3, 4, 'e'}"
            ]
          },
          "metadata": {
            "tags": []
          },
          "execution_count": 29
        }
      ]
    },
    {
      "cell_type": "code",
      "metadata": {
        "id": "1J2UNvqpu8Bk",
        "colab_type": "code",
        "outputId": "fdc645b1-ef4a-4d90-cf3c-d3082fe953e4",
        "colab": {
          "base_uri": "https://localhost:8080/",
          "height": 35
        }
      },
      "source": [
        "s1 = set([1, 2, 3])\n",
        "s1.update([4, 5, 6])\n",
        "s1"
      ],
      "execution_count": 0,
      "outputs": [
        {
          "output_type": "execute_result",
          "data": {
            "text/plain": [
              "{1, 2, 3, 4, 5, 6}"
            ]
          },
          "metadata": {
            "tags": []
          },
          "execution_count": 37
        }
      ]
    },
    {
      "cell_type": "code",
      "metadata": {
        "id": "u0edY50IvSuN",
        "colab_type": "code",
        "outputId": "0ebb9b6b-ef4d-4287-ef55-188405abda74",
        "colab": {
          "base_uri": "https://localhost:8080/",
          "height": 35
        }
      },
      "source": [
        "s1 = set([1, 2, 3])\n",
        "s1.remove(2)\n",
        "s1"
      ],
      "execution_count": 0,
      "outputs": [
        {
          "output_type": "execute_result",
          "data": {
            "text/plain": [
              "{1, 3}"
            ]
          },
          "metadata": {
            "tags": []
          },
          "execution_count": 35
        }
      ]
    },
    {
      "cell_type": "markdown",
      "metadata": {
        "id": "pwFYFUPxvYlU",
        "colab_type": "text"
      },
      "source": [
        "#02-7 불 자료형"
      ]
    },
    {
      "cell_type": "markdown",
      "metadata": {
        "id": "E1NhHe60vd1M",
        "colab_type": "text"
      },
      "source": [
        "##1. 불자료형 이란"
      ]
    },
    {
      "cell_type": "code",
      "metadata": {
        "id": "pQp8-euQvfxc",
        "colab_type": "code",
        "colab": {}
      },
      "source": [
        "a = True\n",
        "#(0이외의 값)\n",
        "b = False\n",
        "#(0)"
      ],
      "execution_count": 0,
      "outputs": []
    },
    {
      "cell_type": "code",
      "metadata": {
        "id": "y6bac-pZwYd6",
        "colab_type": "code",
        "outputId": "f0afff00-bd14-4065-ba56-6937d5813c50",
        "colab": {
          "base_uri": "https://localhost:8080/",
          "height": 35
        }
      },
      "source": [
        "type(a)"
      ],
      "execution_count": 0,
      "outputs": [
        {
          "output_type": "execute_result",
          "data": {
            "text/plain": [
              "bool"
            ]
          },
          "metadata": {
            "tags": []
          },
          "execution_count": 41
        }
      ]
    },
    {
      "cell_type": "code",
      "metadata": {
        "id": "Bci3xr4XwZ1U",
        "colab_type": "code",
        "outputId": "1874d912-6567-4acc-ab3a-6503db2ef5e3",
        "colab": {
          "base_uri": "https://localhost:8080/",
          "height": 35
        }
      },
      "source": [
        "type(b)"
      ],
      "execution_count": 0,
      "outputs": [
        {
          "output_type": "execute_result",
          "data": {
            "text/plain": [
              "bool"
            ]
          },
          "metadata": {
            "tags": []
          },
          "execution_count": 42
        }
      ]
    },
    {
      "cell_type": "code",
      "metadata": {
        "id": "E5OMyITbwfxM",
        "colab_type": "code",
        "outputId": "44520170-a776-415d-bf3a-f9a432af2644",
        "colab": {
          "base_uri": "https://localhost:8080/",
          "height": 35
        }
      },
      "source": [
        "1 == 1"
      ],
      "execution_count": 0,
      "outputs": [
        {
          "output_type": "execute_result",
          "data": {
            "text/plain": [
              "True"
            ]
          },
          "metadata": {
            "tags": []
          },
          "execution_count": 43
        }
      ]
    },
    {
      "cell_type": "code",
      "metadata": {
        "id": "GRQrM45Xwgtk",
        "colab_type": "code",
        "outputId": "273307d5-160b-4bd3-e27b-a9574ee17224",
        "colab": {
          "base_uri": "https://localhost:8080/",
          "height": 35
        }
      },
      "source": [
        "1 != 1"
      ],
      "execution_count": 0,
      "outputs": [
        {
          "output_type": "execute_result",
          "data": {
            "text/plain": [
              "False"
            ]
          },
          "metadata": {
            "tags": []
          },
          "execution_count": 44
        }
      ]
    },
    {
      "cell_type": "code",
      "metadata": {
        "id": "_CdU6MQdwj_D",
        "colab_type": "code",
        "outputId": "b61d7048-4c4e-4563-9258-20c04621bc61",
        "colab": {
          "base_uri": "https://localhost:8080/",
          "height": 35
        }
      },
      "source": [
        "2 > 1"
      ],
      "execution_count": 0,
      "outputs": [
        {
          "output_type": "execute_result",
          "data": {
            "text/plain": [
              "True"
            ]
          },
          "metadata": {
            "tags": []
          },
          "execution_count": 45
        }
      ]
    },
    {
      "cell_type": "code",
      "metadata": {
        "id": "zDXA-4ZgwllZ",
        "colab_type": "code",
        "outputId": "cd7e1d01-f42c-4773-a6b1-5264fa0eb2ba",
        "colab": {
          "base_uri": "https://localhost:8080/",
          "height": 35
        }
      },
      "source": [
        "\"python\""
      ],
      "execution_count": 0,
      "outputs": [
        {
          "output_type": "execute_result",
          "data": {
            "text/plain": [
              "'python'"
            ]
          },
          "metadata": {
            "tags": []
          },
          "execution_count": 47
        }
      ]
    },
    {
      "cell_type": "code",
      "metadata": {
        "id": "9CsRvwfow5X5",
        "colab_type": "code",
        "outputId": "2c1a5c90-d038-4794-c0ae-6b0a5d3591e1",
        "colab": {
          "base_uri": "https://localhost:8080/",
          "height": 89
        }
      },
      "source": [
        "a = [1, 2, 3, 4]\n",
        "while a:\n",
        "  print(a.pop())"
      ],
      "execution_count": 0,
      "outputs": [
        {
          "output_type": "stream",
          "text": [
            "4\n",
            "3\n",
            "2\n",
            "1\n"
          ],
          "name": "stdout"
        }
      ]
    },
    {
      "cell_type": "markdown",
      "metadata": {
        "id": "CmHcp0Hvx04S",
        "colab_type": "text"
      },
      "source": [
        "#02-8 자료형의 값을 저장하는 공간, 변수"
      ]
    },
    {
      "cell_type": "markdown",
      "metadata": {
        "id": "5SOg9Jxfx1n0",
        "colab_type": "text"
      },
      "source": [
        "##변수는 어떻게 만들까?"
      ]
    },
    {
      "cell_type": "code",
      "metadata": {
        "id": "t4jmQs3lx6bU",
        "colab_type": "code",
        "colab": {}
      },
      "source": [
        "a = 1\n",
        "b = \"python\"\n",
        "c = [1, 2, 3]"
      ],
      "execution_count": 0,
      "outputs": []
    },
    {
      "cell_type": "markdown",
      "metadata": {
        "id": "QYKc7R6xyV2M",
        "colab_type": "text"
      },
      "source": [
        "#03-1 If 문"
      ]
    },
    {
      "cell_type": "markdown",
      "metadata": {
        "id": "e4mFOen3yZFE",
        "colab_type": "text"
      },
      "source": [
        "##if문은 왜 필요할까?"
      ]
    },
    {
      "cell_type": "code",
      "metadata": {
        "id": "d6Hdt8wRyfvN",
        "colab_type": "code",
        "outputId": "02ece5e3-8a84-4320-ba12-eec37dae977b",
        "colab": {
          "base_uri": "https://localhost:8080/",
          "height": 35
        }
      },
      "source": [
        "money = 10\n",
        "if money == 100:\n",
        "  print(\"택시를 타고 가라\")\n",
        "elif money == 50:\n",
        "  print(\"돈을 빌리면 택시를 탈수 있다.\")\n",
        "else:\n",
        "  print(\"걸어가라\")"
      ],
      "execution_count": 0,
      "outputs": [
        {
          "output_type": "stream",
          "text": [
            "걸어가라\n"
          ],
          "name": "stdout"
        }
      ]
    },
    {
      "cell_type": "code",
      "metadata": {
        "id": "-JXVi8mU0Fs-",
        "colab_type": "code",
        "outputId": "204e554c-166d-4a69-98f4-80d6597dfc43",
        "colab": {
          "base_uri": "https://localhost:8080/",
          "height": 35
        }
      },
      "source": [
        "money = 2000\n",
        "card = True\n",
        "\n",
        "if money >= 3000 or card:\n",
        "  print(\"택시를 타라\")\n",
        "else :\n",
        "  print(\"걸어가라\")"
      ],
      "execution_count": 0,
      "outputs": [
        {
          "output_type": "stream",
          "text": [
            "택시를 타라\n"
          ],
          "name": "stdout"
        }
      ]
    },
    {
      "cell_type": "code",
      "metadata": {
        "id": "45ihvN360hna",
        "colab_type": "code",
        "outputId": "13f7bc17-dbc0-4515-faea-e1497810a7de",
        "colab": {
          "base_uri": "https://localhost:8080/",
          "height": 35
        }
      },
      "source": [
        "4 not in [1, 2, 3]"
      ],
      "execution_count": 0,
      "outputs": [
        {
          "output_type": "execute_result",
          "data": {
            "text/plain": [
              "True"
            ]
          },
          "metadata": {
            "tags": []
          },
          "execution_count": 60
        }
      ]
    },
    {
      "cell_type": "code",
      "metadata": {
        "id": "j2xjsaLm1KSE",
        "colab_type": "code",
        "outputId": "f2ff1bc5-2ea7-45d9-e520-15e29badf89a",
        "colab": {
          "base_uri": "https://localhost:8080/",
          "height": 35
        }
      },
      "source": [
        "poket = ['paper', 'card', 'smartphone']\n",
        "if money in poket : pass\n",
        "else : print(\"카드를 꺼내라\")"
      ],
      "execution_count": 0,
      "outputs": [
        {
          "output_type": "stream",
          "text": [
            "카드를 꺼내라\n"
          ],
          "name": "stdout"
        }
      ]
    },
    {
      "cell_type": "markdown",
      "metadata": {
        "id": "DWyCIGBS1q97",
        "colab_type": "text"
      },
      "source": [
        "##조건부 표현식"
      ]
    },
    {
      "cell_type": "code",
      "metadata": {
        "id": "00qbSGna1sFc",
        "colab_type": "code",
        "outputId": "a02bc793-7711-4fc2-a60d-c18d3f47380e",
        "colab": {
          "base_uri": "https://localhost:8080/",
          "height": 35
        }
      },
      "source": [
        "score = 50\n",
        "if score >= 60 :\n",
        "  message = \"suceed\"\n",
        "else :\n",
        "  message = \"failure\"\n",
        "print(message)"
      ],
      "execution_count": 0,
      "outputs": [
        {
          "output_type": "stream",
          "text": [
            "failure\n"
          ],
          "name": "stdout"
        }
      ]
    },
    {
      "cell_type": "markdown",
      "metadata": {
        "id": "LAnLp5OU2I38",
        "colab_type": "text"
      },
      "source": [
        "#03-2 while문"
      ]
    },
    {
      "cell_type": "markdown",
      "metadata": {
        "id": "JpiLsm_G2Lm8",
        "colab_type": "text"
      },
      "source": [
        "##while문의 기본 구조"
      ]
    },
    {
      "cell_type": "code",
      "metadata": {
        "id": "l4rzwon92NDj",
        "colab_type": "code",
        "outputId": "116e9390-9442-4791-ba58-1158baea235f",
        "colab": {
          "base_uri": "https://localhost:8080/",
          "height": 215
        }
      },
      "source": [
        "treehit = 0\n",
        "while treehit < 10 : \n",
        "  treehit = treehit + 1\n",
        "  print(\"나무를 %d번 찍었습니다.\" % treehit)\n",
        "if treehit == 10 :\n",
        "  print(\"나무가 넘어갑니다.\")"
      ],
      "execution_count": 0,
      "outputs": [
        {
          "output_type": "stream",
          "text": [
            "나무를 1번 찍었습니다.\n",
            "나무를 2번 찍었습니다.\n",
            "나무를 3번 찍었습니다.\n",
            "나무를 4번 찍었습니다.\n",
            "나무를 5번 찍었습니다.\n",
            "나무를 6번 찍었습니다.\n",
            "나무를 7번 찍었습니다.\n",
            "나무를 8번 찍었습니다.\n",
            "나무를 9번 찍었습니다.\n",
            "나무를 10번 찍었습니다.\n",
            "나무가 넘어갑니다.\n"
          ],
          "name": "stdout"
        }
      ]
    },
    {
      "cell_type": "markdown",
      "metadata": {
        "id": "ac3pw4Ow4LEY",
        "colab_type": "text"
      },
      "source": [
        "## while 문 만들기"
      ]
    },
    {
      "cell_type": "code",
      "metadata": {
        "id": "mWMIGAuI4NhE",
        "colab_type": "code",
        "colab": {}
      },
      "source": [
        "prompt = \"\"\"\n",
        "1. Add\n",
        "2. Del\n",
        "3. List\n",
        "4. Qult\n",
        "\n",
        "enternumber :\n",
        "\"\"\""
      ],
      "execution_count": 0,
      "outputs": []
    },
    {
      "cell_type": "code",
      "metadata": {
        "id": "NJBtnKZs4oXi",
        "colab_type": "code",
        "outputId": "fa2bba89-fba9-4d67-e36d-46894640f81c",
        "colab": {
          "base_uri": "https://localhost:8080/",
          "height": 665
        }
      },
      "source": [
        "number = 0\n",
        "while number != 4:\n",
        "  print(prompt)\n",
        "  number = int(input())"
      ],
      "execution_count": 0,
      "outputs": [
        {
          "output_type": "stream",
          "text": [
            "\n",
            "1. Add\n",
            "2. Del\n",
            "3. List\n",
            "4. Qult\n",
            "\n",
            "enternumber :\n",
            "\n",
            "1\n",
            "\n",
            "1. Add\n",
            "2. Del\n",
            "3. List\n",
            "4. Qult\n",
            "\n",
            "enternumber :\n",
            "\n",
            "2\n",
            "\n",
            "1. Add\n",
            "2. Del\n",
            "3. List\n",
            "4. Qult\n",
            "\n",
            "enternumber :\n",
            "\n",
            "3\n",
            "\n",
            "1. Add\n",
            "2. Del\n",
            "3. List\n",
            "4. Qult\n",
            "\n",
            "enternumber :\n",
            "\n",
            "4\n"
          ],
          "name": "stdout"
        }
      ]
    },
    {
      "cell_type": "markdown",
      "metadata": {
        "id": "dRW2hcG55rJt",
        "colab_type": "text"
      },
      "source": [
        "##while문 강제로 빠져나가기"
      ]
    },
    {
      "cell_type": "code",
      "metadata": {
        "id": "rW_RDuzS5syV",
        "colab_type": "code",
        "outputId": "5efaa317-20f0-41b5-de8f-add0456c33bb",
        "colab": {
          "base_uri": "https://localhost:8080/",
          "height": 136
        }
      },
      "source": [
        "coffee = 10\n",
        "money = 300\n",
        "while money :\n",
        "  print(\"돈을 받았으니 커피를 줍니다.\")\n",
        "  coffee = coffee - 1\n",
        "  print(\"남은 커피는 %d 개 입니다.\" % coffee)\n",
        "  if coffee == 0 :\n",
        "  print(\"커피가 다 떨어졌습니다. 판매를 중지합니다. \")\n",
        "  break"
      ],
      "execution_count": 0,
      "outputs": [
        {
          "output_type": "error",
          "ename": "IndentationError",
          "evalue": "ignored",
          "traceback": [
            "\u001b[0;36m  File \u001b[0;32m\"<ipython-input-82-eb4902ad0aac>\"\u001b[0;36m, line \u001b[0;32m8\u001b[0m\n\u001b[0;31m    print(\"커피가 다 떨어졌습니다. 판매를 중지합니다. \")\u001b[0m\n\u001b[0m        ^\u001b[0m\n\u001b[0;31mIndentationError\u001b[0m\u001b[0;31m:\u001b[0m expected an indented block\n"
          ]
        }
      ]
    },
    {
      "cell_type": "code",
      "metadata": {
        "id": "7RilIAUr6p_3",
        "colab_type": "code",
        "outputId": "b981f913-0a2c-460b-fc0a-e1c4372ed978",
        "colab": {
          "base_uri": "https://localhost:8080/",
          "height": 125
        }
      },
      "source": [
        "!ls -al"
      ],
      "execution_count": 0,
      "outputs": [
        {
          "output_type": "stream",
          "text": [
            "total 24\n",
            "drwxr-xr-x 1 root root 4096 May  4 09:04 .\n",
            "drwxr-xr-x 1 root root 4096 May  4 07:49 ..\n",
            "drwxr-xr-x 1 root root 4096 Apr 29 16:14 .config\n",
            "drwx------ 3 root root 4096 May  4 09:04 drive\n",
            "drwxr-xr-x 1 root root 4096 May  4 09:04 sample_data\n"
          ],
          "name": "stdout"
        }
      ]
    },
    {
      "cell_type": "code",
      "metadata": {
        "id": "RFUO5hFM6uoL",
        "colab_type": "code",
        "outputId": "b5db6a97-753b-4c22-8ee5-c93fbacfb26f",
        "colab": {
          "base_uri": "https://localhost:8080/",
          "height": 35
        }
      },
      "source": [
        "!pwd"
      ],
      "execution_count": 0,
      "outputs": [
        {
          "output_type": "stream",
          "text": [
            "/content\n"
          ],
          "name": "stdout"
        }
      ]
    },
    {
      "cell_type": "code",
      "metadata": {
        "id": "aM78P6bU8GWt",
        "colab_type": "code",
        "colab": {}
      },
      "source": [
        "coffee = 10\n",
        "while True:\n",
        "    money = int(input(\"돈을 넣어 주세요: \"))\n",
        "    if money == 300:\n",
        "        print(\"커피를 줍니다.\")\n",
        "        coffee = coffee -1\n",
        "    elif money > 300:\n",
        "        print(\"거스름돈 %d를 주고 커피를 줍니다.\" % (money -300))\n",
        "        coffee = coffee -1\n",
        "    else:\n",
        "        print(\"돈을 다시 돌려주고 커피를 주지 않습니다.\")\n",
        "        print(\"남은 커피의 양은 %d개 입니다.\" % coffee)\n",
        "    if coffee == 0:\n",
        "        print(\"커피가 다 떨어졌습니다. 판매를 중지 합니다.\")\n",
        "        break"
      ],
      "execution_count": 0,
      "outputs": []
    },
    {
      "cell_type": "markdown",
      "metadata": {
        "id": "ykVyTZjT8QSU",
        "colab_type": "text"
      },
      "source": [
        "##while문의 맨 처음으로 돌아가기"
      ]
    },
    {
      "cell_type": "code",
      "metadata": {
        "id": "m_lq2qtT8SF-",
        "colab_type": "code",
        "outputId": "8f5452f4-13c8-4a05-e37a-492256bdc8f0",
        "colab": {
          "base_uri": "https://localhost:8080/",
          "height": 35
        }
      },
      "source": [
        "a = 0\n",
        "while a < 10:\n",
        "  a = a+1 \n",
        "  if a % 2 == 0: continue\n",
        "  print(a, end = \" \")"
      ],
      "execution_count": 0,
      "outputs": [
        {
          "output_type": "stream",
          "text": [
            "1 3 5 7 9 "
          ],
          "name": "stdout"
        }
      ]
    },
    {
      "cell_type": "markdown",
      "metadata": {
        "id": "020gb4mo9g96",
        "colab_type": "text"
      },
      "source": [
        "#03-3 for문\n"
      ]
    },
    {
      "cell_type": "markdown",
      "metadata": {
        "id": "QFh5KZB89hz9",
        "colab_type": "text"
      },
      "source": [
        "##for문의 기본 구조 \n",
        "\n",
        "```\n",
        "for 변수 in 리스트(또는 튜플, 문자열):\n",
        "    수행할 문장1\n",
        "    수행할 문장2\n",
        "```\n",
        "\n"
      ]
    },
    {
      "cell_type": "markdown",
      "metadata": {
        "id": "DlY9rnFa924F",
        "colab_type": "text"
      },
      "source": [
        "###예제를 통해 for문 이해하기"
      ]
    },
    {
      "cell_type": "markdown",
      "metadata": {
        "id": "u03KCcU295Bc",
        "colab_type": "text"
      },
      "source": [
        "####1. 전형적인 for문"
      ]
    },
    {
      "cell_type": "code",
      "metadata": {
        "id": "hjT967C19-Sd",
        "colab_type": "code",
        "outputId": "1bba6c03-0c05-4e1f-9a4a-bf0e0e9a3809",
        "colab": {
          "base_uri": "https://localhost:8080/",
          "height": 71
        }
      },
      "source": [
        "test_list = ['one', 'two', 'three']\n",
        "for i in test_list:\n",
        "  print(i)"
      ],
      "execution_count": 0,
      "outputs": [
        {
          "output_type": "stream",
          "text": [
            "one\n",
            "two\n",
            "three\n"
          ],
          "name": "stdout"
        }
      ]
    },
    {
      "cell_type": "markdown",
      "metadata": {
        "id": "1WauK4eu-eeS",
        "colab_type": "text"
      },
      "source": [
        "###다양한 for문의 사용"
      ]
    },
    {
      "cell_type": "code",
      "metadata": {
        "id": "Q9idyd1k-g2d",
        "colab_type": "code",
        "outputId": "7dba3fe9-15ba-4bea-957f-2db987722b6e",
        "colab": {
          "base_uri": "https://localhost:8080/",
          "height": 71
        }
      },
      "source": [
        "a = [(1,2), (3,4), (5,6)]\n",
        "for (first, last) in a:\n",
        "  print(first + last)"
      ],
      "execution_count": 0,
      "outputs": [
        {
          "output_type": "stream",
          "text": [
            "3\n",
            "7\n",
            "11\n"
          ],
          "name": "stdout"
        }
      ]
    },
    {
      "cell_type": "markdown",
      "metadata": {
        "id": "0sYkprqW_A7U",
        "colab_type": "text"
      },
      "source": [
        "###for문의 응용"
      ]
    },
    {
      "cell_type": "code",
      "metadata": {
        "id": "TLBUOwpL_DH9",
        "colab_type": "code",
        "outputId": "c6d4b3c9-12d8-4c74-fdee-74bbdd1c1c95",
        "colab": {
          "base_uri": "https://localhost:8080/",
          "height": 107
        }
      },
      "source": [
        "marks = [90, 25, 67, 45, 80]\n",
        "number = 0\n",
        "for mark in marks:\n",
        "  number = number +1 \n",
        "  if mark >= 60: \n",
        "      print(\"%d번 학생은 합격입니다.\" % number)\n",
        "  else: \n",
        "      print(\"%d번 학생은 불합격입니다.\" % number)"
      ],
      "execution_count": 0,
      "outputs": [
        {
          "output_type": "stream",
          "text": [
            "1번 학생은 합격입니다.\n",
            "2번 학생은 불합격입니다.\n",
            "3번 학생은 합격입니다.\n",
            "4번 학생은 불합격입니다.\n",
            "5번 학생은 합격입니다.\n"
          ],
          "name": "stdout"
        }
      ]
    },
    {
      "cell_type": "markdown",
      "metadata": {
        "id": "CAkpNG1X_yS6",
        "colab_type": "text"
      },
      "source": [
        "###for문과 continue"
      ]
    },
    {
      "cell_type": "code",
      "metadata": {
        "id": "-seSyAAu_zUK",
        "colab_type": "code",
        "outputId": "09c4bcda-a7b6-4d0d-d28a-b5641fbdcb48",
        "colab": {
          "base_uri": "https://localhost:8080/",
          "height": 71
        }
      },
      "source": [
        "marks = [90, 25, 67, 45, 80]\n",
        "\n",
        "number = 0 \n",
        "for mark in marks: \n",
        "    number = number +1 \n",
        "    if mark < 60:\n",
        "        continue \n",
        "    print(\"%d번 학생 축하합니다. 취업에 성공입니다. \" % number)"
      ],
      "execution_count": 0,
      "outputs": [
        {
          "output_type": "stream",
          "text": [
            "1번 학생 축하합니다. 합격입니다. \n",
            "3번 학생 축하합니다. 합격입니다. \n",
            "5번 학생 축하합니다. 합격입니다. \n"
          ],
          "name": "stdout"
        }
      ]
    },
    {
      "cell_type": "markdown",
      "metadata": {
        "id": "SNEWxG4oAFEj",
        "colab_type": "text"
      },
      "source": [
        "###for문과 함께 자주 사용하는 range 함수"
      ]
    },
    {
      "cell_type": "code",
      "metadata": {
        "id": "sa5OJV7IAJPF",
        "colab_type": "code",
        "outputId": "779979d1-3686-4cd7-ff4e-7c5278246019",
        "colab": {
          "base_uri": "https://localhost:8080/",
          "height": 35
        }
      },
      "source": [
        "a = range(1, 11)\n",
        "a"
      ],
      "execution_count": 0,
      "outputs": [
        {
          "output_type": "execute_result",
          "data": {
            "text/plain": [
              "range(1, 11)"
            ]
          },
          "metadata": {
            "tags": []
          },
          "execution_count": 92
        }
      ]
    },
    {
      "cell_type": "code",
      "metadata": {
        "id": "lO7d6vQ-AXI9",
        "colab_type": "code",
        "outputId": "ca92c7b0-3f89-413d-9255-81d840479c45",
        "colab": {
          "base_uri": "https://localhost:8080/",
          "height": 35
        }
      },
      "source": [
        "add = 0 \n",
        "for i in range(1, 10000001):\n",
        "  add = add + i\n",
        "\n",
        "print(add)"
      ],
      "execution_count": 0,
      "outputs": [
        {
          "output_type": "stream",
          "text": [
            "50000005000000\n"
          ],
          "name": "stdout"
        }
      ]
    },
    {
      "cell_type": "code",
      "metadata": {
        "id": "bVcZWkAGA13P",
        "colab_type": "code",
        "outputId": "a565a0ac-a9a3-4018-f0a8-867fbbeabc6a",
        "colab": {
          "base_uri": "https://localhost:8080/",
          "height": 71
        }
      },
      "source": [
        "marks = [90, 25, 67, 45, 80]"
      ],
      "execution_count": 0,
      "outputs": [
        {
          "output_type": "stream",
          "text": [
            "1번 학생 축하합니다. 합격입니다.\n",
            "3번 학생 축하합니다. 합격입니다.\n",
            "5번 학생 축하합니다. 합격입니다.\n"
          ],
          "name": "stdout"
        }
      ]
    },
    {
      "cell_type": "code",
      "metadata": {
        "id": "tJ8i_XLqA_RE",
        "colab_type": "code",
        "outputId": "5bee2825-6c50-4fc3-e67e-0d7277649c8b",
        "colab": {
          "base_uri": "https://localhost:8080/",
          "height": 35
        }
      },
      "source": [
        "len(marks)"
      ],
      "execution_count": 0,
      "outputs": [
        {
          "output_type": "execute_result",
          "data": {
            "text/plain": [
              "5"
            ]
          },
          "metadata": {
            "tags": []
          },
          "execution_count": 98
        }
      ]
    },
    {
      "cell_type": "code",
      "metadata": {
        "id": "pZNZLNR5A8pt",
        "colab_type": "code",
        "colab": {}
      },
      "source": [
        "for number in range(len(marks)):\n",
        "    if marks[number] < 60: \n",
        "        continue\n",
        "    print(\"%d번 학생 축하합니다. 합격입니다.\" % (number+1))"
      ],
      "execution_count": 0,
      "outputs": []
    },
    {
      "cell_type": "code",
      "metadata": {
        "id": "-qWiFGKPBWmF",
        "colab_type": "code",
        "outputId": "e41c7cb7-cdf1-4742-d5c4-8afadf600578",
        "colab": {
          "base_uri": "https://localhost:8080/",
          "height": 161
        }
      },
      "source": [
        "for i in range(2,10):\n",
        "  for j in range(1, 10):\n",
        "    print(i*j, end=\" \")\n",
        "  print('')"
      ],
      "execution_count": 0,
      "outputs": [
        {
          "output_type": "stream",
          "text": [
            "2 4 6 8 10 12 14 16 18 \n",
            "3 6 9 12 15 18 21 24 27 \n",
            "4 8 12 16 20 24 28 32 36 \n",
            "5 10 15 20 25 30 35 40 45 \n",
            "6 12 18 24 30 36 42 48 54 \n",
            "7 14 21 28 35 42 49 56 63 \n",
            "8 16 24 32 40 48 56 64 72 \n",
            "9 18 27 36 45 54 63 72 81 \n"
          ],
          "name": "stdout"
        }
      ]
    }
  ]
}