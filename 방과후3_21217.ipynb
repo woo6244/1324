{
  "nbformat": 4,
  "nbformat_minor": 0,
  "metadata": {
    "colab": {
      "name": "방과후3_21217",
      "provenance": [],
      "authorship_tag": "ABX9TyPT/m0c/qDJmm0G9EWa8DQ9",
      "include_colab_link": true
    },
    "kernelspec": {
      "name": "python3",
      "display_name": "Python 3"
    }
  },
  "cells": [
    {
      "cell_type": "markdown",
      "metadata": {
        "id": "view-in-github",
        "colab_type": "text"
      },
      "source": [
        "<a href=\"https://colab.research.google.com/github/woo6244/1324/blob/master/%EB%B0%A9%EA%B3%BC%ED%9B%843_21217.ipynb\" target=\"_parent\"><img src=\"https://colab.research.google.com/assets/colab-badge.svg\" alt=\"Open In Colab\"/></a>"
      ]
    },
    {
      "cell_type": "markdown",
      "metadata": {
        "id": "XBxlDOfw5RUk",
        "colab_type": "text"
      },
      "source": [
        "# 02-3리스트 자료형"
      ]
    },
    {
      "cell_type": "markdown",
      "metadata": {
        "id": "AWM9aLyw5aeu",
        "colab_type": "text"
      },
      "source": [
        "##리스트는 어떻게 만들고 사용할까?"
      ]
    },
    {
      "cell_type": "code",
      "metadata": {
        "id": "uPVeo3uO5bh7",
        "colab_type": "code",
        "outputId": "376ead60-81ee-457f-fffe-af403c83452a",
        "colab": {
          "base_uri": "https://localhost:8080/",
          "height": 35
        }
      },
      "source": [
        "odd = [1, 3, 5, 7, 9]\n",
        "odd"
      ],
      "execution_count": 0,
      "outputs": [
        {
          "output_type": "execute_result",
          "data": {
            "text/plain": [
              "[1, 3, 5, 7, 9]"
            ]
          },
          "metadata": {
            "tags": []
          },
          "execution_count": 2
        }
      ]
    },
    {
      "cell_type": "code",
      "metadata": {
        "id": "nrBI3-K45sZt",
        "colab_type": "code",
        "outputId": "4408b534-6f61-41b7-c4b5-57c914adf617",
        "colab": {
          "base_uri": "https://localhost:8080/",
          "height": 35
        }
      },
      "source": [
        "type(odd)"
      ],
      "execution_count": 0,
      "outputs": [
        {
          "output_type": "execute_result",
          "data": {
            "text/plain": [
              "list"
            ]
          },
          "metadata": {
            "tags": []
          },
          "execution_count": 4
        }
      ]
    },
    {
      "cell_type": "code",
      "metadata": {
        "id": "uA7oKFGr5wOg",
        "colab_type": "code",
        "outputId": "ba0ceef2-72d4-439e-e99b-5161e6458186",
        "colab": {
          "base_uri": "https://localhost:8080/",
          "height": 35
        }
      },
      "source": [
        "a = 1\n",
        "type(a)"
      ],
      "execution_count": 0,
      "outputs": [
        {
          "output_type": "execute_result",
          "data": {
            "text/plain": [
              "int"
            ]
          },
          "metadata": {
            "tags": []
          },
          "execution_count": 7
        }
      ]
    },
    {
      "cell_type": "code",
      "metadata": {
        "id": "3XQBkMuB6M8P",
        "colab_type": "code",
        "colab": {}
      },
      "source": [
        "a = []"
      ],
      "execution_count": 0,
      "outputs": []
    },
    {
      "cell_type": "markdown",
      "metadata": {
        "id": "Hq_8Rii_6PWW",
        "colab_type": "text"
      },
      "source": [
        "b = [1, 2, 3]"
      ]
    },
    {
      "cell_type": "code",
      "metadata": {
        "id": "dLeHgStG6ee-",
        "colab_type": "code",
        "outputId": "43cf80e6-6978-437e-805f-947e44a18d06",
        "colab": {
          "base_uri": "https://localhost:8080/",
          "height": 35
        }
      },
      "source": [
        "c = ['Life', 'is', 'short']\n",
        "c"
      ],
      "execution_count": 0,
      "outputs": [
        {
          "output_type": "execute_result",
          "data": {
            "text/plain": [
              "['Life', 'is', 'short']"
            ]
          },
          "metadata": {
            "tags": []
          },
          "execution_count": 10
        }
      ]
    },
    {
      "cell_type": "code",
      "metadata": {
        "id": "wv80_Jsa7djm",
        "colab_type": "code",
        "outputId": "c33316e1-f121-471e-bcee-322ed7cbce7a",
        "colab": {
          "base_uri": "https://localhost:8080/",
          "height": 35
        }
      },
      "source": [
        "d = [1, 2 ,'Life', 'is']\n",
        "d"
      ],
      "execution_count": 0,
      "outputs": [
        {
          "output_type": "execute_result",
          "data": {
            "text/plain": [
              "[1, 2, 'Life', 'is']"
            ]
          },
          "metadata": {
            "tags": []
          },
          "execution_count": 11
        }
      ]
    },
    {
      "cell_type": "code",
      "metadata": {
        "id": "qai83iQk7j5G",
        "colab_type": "code",
        "outputId": "70b939c9-edbb-41df-ab0d-f909bcb0e798",
        "colab": {
          "base_uri": "https://localhost:8080/",
          "height": 35
        }
      },
      "source": [
        "e = [1, 2, 'life', 'is']\n",
        "e"
      ],
      "execution_count": 0,
      "outputs": [
        {
          "output_type": "execute_result",
          "data": {
            "text/plain": [
              "[1, 2, 'life', 'is']"
            ]
          },
          "metadata": {
            "tags": []
          },
          "execution_count": 12
        }
      ]
    },
    {
      "cell_type": "markdown",
      "metadata": {
        "id": "3EhSrqU37s0Y",
        "colab_type": "text"
      },
      "source": [
        "##리스트의 인덱싱과 슬라이싱"
      ]
    },
    {
      "cell_type": "markdown",
      "metadata": {
        "id": "I8zPhuBR7x-t",
        "colab_type": "text"
      },
      "source": [
        "###리스트의 인덱싱"
      ]
    },
    {
      "cell_type": "code",
      "metadata": {
        "id": "EOIF2hbk70Au",
        "colab_type": "code",
        "outputId": "307d2ca9-22cb-4c75-83ea-8ed109391472",
        "colab": {
          "base_uri": "https://localhost:8080/",
          "height": 35
        }
      },
      "source": [
        "a = [1, 2 ,3]\n",
        "a"
      ],
      "execution_count": 0,
      "outputs": [
        {
          "output_type": "execute_result",
          "data": {
            "text/plain": [
              "[1, 2, 3]"
            ]
          },
          "metadata": {
            "tags": []
          },
          "execution_count": 22
        }
      ]
    },
    {
      "cell_type": "code",
      "metadata": {
        "id": "2q5clhFz77zL",
        "colab_type": "code",
        "outputId": "716d313e-7415-4485-87c1-9238359f423e",
        "colab": {
          "base_uri": "https://localhost:8080/",
          "height": 35
        }
      },
      "source": [
        "a[0]"
      ],
      "execution_count": 0,
      "outputs": [
        {
          "output_type": "execute_result",
          "data": {
            "text/plain": [
              "1"
            ]
          },
          "metadata": {
            "tags": []
          },
          "execution_count": 14
        }
      ]
    },
    {
      "cell_type": "code",
      "metadata": {
        "id": "0iGAu-BA8GOM",
        "colab_type": "code",
        "outputId": "a7a06574-7673-4dab-d7a4-740c38c17643",
        "colab": {
          "base_uri": "https://localhost:8080/",
          "height": 35
        }
      },
      "source": [
        "a[0] + a[2]"
      ],
      "execution_count": 0,
      "outputs": [
        {
          "output_type": "execute_result",
          "data": {
            "text/plain": [
              "4"
            ]
          },
          "metadata": {
            "tags": []
          },
          "execution_count": 15
        }
      ]
    },
    {
      "cell_type": "code",
      "metadata": {
        "id": "GhsEIDgZ8I6P",
        "colab_type": "code",
        "outputId": "f5fea63d-5fc4-4312-82c5-b2f008ec6761",
        "colab": {
          "base_uri": "https://localhost:8080/",
          "height": 35
        }
      },
      "source": [
        "a[-1]"
      ],
      "execution_count": 0,
      "outputs": [
        {
          "output_type": "execute_result",
          "data": {
            "text/plain": [
              "3"
            ]
          },
          "metadata": {
            "tags": []
          },
          "execution_count": 23
        }
      ]
    },
    {
      "cell_type": "code",
      "metadata": {
        "id": "GfzngA9t8USV",
        "colab_type": "code",
        "outputId": "d98c8800-a6fa-42ab-c54a-2ca1e4cf236a",
        "colab": {
          "base_uri": "https://localhost:8080/",
          "height": 35
        }
      },
      "source": [
        "a = [1, 2, 3, ['a', 'b', 'c']]\n",
        "a"
      ],
      "execution_count": 0,
      "outputs": [
        {
          "output_type": "execute_result",
          "data": {
            "text/plain": [
              "[1, 2, 3, ['a', 'b', 'c']]"
            ]
          },
          "metadata": {
            "tags": []
          },
          "execution_count": 24
        }
      ]
    },
    {
      "cell_type": "code",
      "metadata": {
        "id": "-7epMdZL8cLK",
        "colab_type": "code",
        "outputId": "1812ac52-5a0a-4916-aaaf-de63477ef5ab",
        "colab": {
          "base_uri": "https://localhost:8080/",
          "height": 35
        }
      },
      "source": [
        "a[0]"
      ],
      "execution_count": 0,
      "outputs": [
        {
          "output_type": "execute_result",
          "data": {
            "text/plain": [
              "1"
            ]
          },
          "metadata": {
            "tags": []
          },
          "execution_count": 25
        }
      ]
    },
    {
      "cell_type": "code",
      "metadata": {
        "id": "ilehh7z68fnl",
        "colab_type": "code",
        "outputId": "16cf1f57-9333-4217-9540-baa1b34b6a8c",
        "colab": {
          "base_uri": "https://localhost:8080/",
          "height": 35
        }
      },
      "source": [
        "a[1]"
      ],
      "execution_count": 0,
      "outputs": [
        {
          "output_type": "execute_result",
          "data": {
            "text/plain": [
              "2"
            ]
          },
          "metadata": {
            "tags": []
          },
          "execution_count": 26
        }
      ]
    },
    {
      "cell_type": "code",
      "metadata": {
        "id": "e5oixYnI8hyl",
        "colab_type": "code",
        "outputId": "85a19f99-c2b0-4106-a167-e0b8e4247b0c",
        "colab": {
          "base_uri": "https://localhost:8080/",
          "height": 35
        }
      },
      "source": [
        "a[2]"
      ],
      "execution_count": 0,
      "outputs": [
        {
          "output_type": "execute_result",
          "data": {
            "text/plain": [
              "3"
            ]
          },
          "metadata": {
            "tags": []
          },
          "execution_count": 27
        }
      ]
    },
    {
      "cell_type": "code",
      "metadata": {
        "id": "WFblDClR8jW-",
        "colab_type": "code",
        "outputId": "5f15c3a1-0174-4039-c46e-920dd2189d15",
        "colab": {
          "base_uri": "https://localhost:8080/",
          "height": 35
        }
      },
      "source": [
        "a[-1]"
      ],
      "execution_count": 0,
      "outputs": [
        {
          "output_type": "execute_result",
          "data": {
            "text/plain": [
              "['a', 'b', 'c']"
            ]
          },
          "metadata": {
            "tags": []
          },
          "execution_count": 28
        }
      ]
    },
    {
      "cell_type": "code",
      "metadata": {
        "id": "c8KjMRuB8mqV",
        "colab_type": "code",
        "outputId": "2470ca61-1638-4b8a-c7f4-87db355dbaac",
        "colab": {
          "base_uri": "https://localhost:8080/",
          "height": 35
        }
      },
      "source": [
        "a[3]"
      ],
      "execution_count": 0,
      "outputs": [
        {
          "output_type": "execute_result",
          "data": {
            "text/plain": [
              "['a', 'b', 'c']"
            ]
          },
          "metadata": {
            "tags": []
          },
          "execution_count": 29
        }
      ]
    },
    {
      "cell_type": "code",
      "metadata": {
        "id": "tgl5Z8mS8uQX",
        "colab_type": "code",
        "outputId": "aac15cfa-28fc-4c2f-eb43-96b9521ff1da",
        "colab": {
          "base_uri": "https://localhost:8080/",
          "height": 35
        }
      },
      "source": [
        "a[3][0], a[3][1], a[3][2]"
      ],
      "execution_count": 0,
      "outputs": [
        {
          "output_type": "execute_result",
          "data": {
            "text/plain": [
              "('a', 'b', 'c')"
            ]
          },
          "metadata": {
            "tags": []
          },
          "execution_count": 34
        }
      ]
    },
    {
      "cell_type": "markdown",
      "metadata": {
        "id": "7-qgPF2X9WiA",
        "colab_type": "text"
      },
      "source": [
        "###리스트의 슬라이싱"
      ]
    },
    {
      "cell_type": "code",
      "metadata": {
        "id": "NG5_VU_c9Zoc",
        "colab_type": "code",
        "outputId": "e8455777-bf6c-40a6-acf4-3ced9e435169",
        "colab": {
          "base_uri": "https://localhost:8080/",
          "height": 35
        }
      },
      "source": [
        "a=[1, 2, 3 ,4, 5]\n",
        "a[0:2]"
      ],
      "execution_count": 0,
      "outputs": [
        {
          "output_type": "execute_result",
          "data": {
            "text/plain": [
              "[1, 2]"
            ]
          },
          "metadata": {
            "tags": []
          },
          "execution_count": 39
        }
      ]
    },
    {
      "cell_type": "code",
      "metadata": {
        "id": "SQzqzxyD9uwu",
        "colab_type": "code",
        "outputId": "5555c871-4b37-4814-d4f1-19d8d690eacd",
        "colab": {
          "base_uri": "https://localhost:8080/",
          "height": 35
        }
      },
      "source": [
        "a= [1, 2, 3, 4, 5]\n",
        "b= a[:2]\n",
        "c= a[2:]\n",
        "b,c"
      ],
      "execution_count": 0,
      "outputs": [
        {
          "output_type": "execute_result",
          "data": {
            "text/plain": [
              "([1, 2], [3, 4, 5])"
            ]
          },
          "metadata": {
            "tags": []
          },
          "execution_count": 48
        }
      ]
    },
    {
      "cell_type": "markdown",
      "metadata": {
        "id": "te5Lrxxg-SWX",
        "colab_type": "text"
      },
      "source": [
        "### 리스트 연산하기"
      ]
    },
    {
      "cell_type": "markdown",
      "metadata": {
        "id": "bzVVhatT-Uqm",
        "colab_type": "text"
      },
      "source": [
        "####리스트 더하기(+)"
      ]
    },
    {
      "cell_type": "code",
      "metadata": {
        "id": "I5TacSX3-YlW",
        "colab_type": "code",
        "outputId": "19564c28-4818-4735-8876-9e4ec56a3283",
        "colab": {
          "base_uri": "https://localhost:8080/",
          "height": 35
        }
      },
      "source": [
        "a = [1, 2, 3]\n",
        "b = [4, 5, 6]\n",
        "\n",
        "b+a"
      ],
      "execution_count": 0,
      "outputs": [
        {
          "output_type": "execute_result",
          "data": {
            "text/plain": [
              "[4, 5, 6, 1, 2, 3]"
            ]
          },
          "metadata": {
            "tags": []
          },
          "execution_count": 46
        }
      ]
    },
    {
      "cell_type": "markdown",
      "metadata": {
        "id": "5UINj2uX-2Wc",
        "colab_type": "text"
      },
      "source": [
        "####리스트 반복하기(*)"
      ]
    },
    {
      "cell_type": "code",
      "metadata": {
        "id": "leCLRuBB-5uX",
        "colab_type": "code",
        "outputId": "ab31aa5e-05f5-4eb5-a87f-7d28b04a8e8f",
        "colab": {
          "base_uri": "https://localhost:8080/",
          "height": 35
        }
      },
      "source": [
        "a = [1, 2, 3]\n",
        "a * 3"
      ],
      "execution_count": 0,
      "outputs": [
        {
          "output_type": "execute_result",
          "data": {
            "text/plain": [
              "[1, 2, 3, 1, 2, 3, 1, 2, 3]"
            ]
          },
          "metadata": {
            "tags": []
          },
          "execution_count": 49
        }
      ]
    },
    {
      "cell_type": "markdown",
      "metadata": {
        "id": "xTGnusc2_H4U",
        "colab_type": "text"
      },
      "source": [
        "#### 리스트 길이 구하기"
      ]
    },
    {
      "cell_type": "code",
      "metadata": {
        "id": "ofGySg6t_J6E",
        "colab_type": "code",
        "outputId": "1ef923f9-8983-4f81-e898-34c595737ba7",
        "colab": {
          "base_uri": "https://localhost:8080/",
          "height": 35
        }
      },
      "source": [
        "a = [1, 2, 3]\n",
        "len(a)"
      ],
      "execution_count": 0,
      "outputs": [
        {
          "output_type": "execute_result",
          "data": {
            "text/plain": [
              "3"
            ]
          },
          "metadata": {
            "tags": []
          },
          "execution_count": 50
        }
      ]
    },
    {
      "cell_type": "markdown",
      "metadata": {
        "id": "Oy2-ZDdF_7j1",
        "colab_type": "text"
      },
      "source": [
        "## 리스트의 수정과 삭제"
      ]
    },
    {
      "cell_type": "code",
      "metadata": {
        "id": "wBMa5qni__kG",
        "colab_type": "code",
        "colab": {}
      },
      "source": [
        "###리스트에서 값 수정하기"
      ],
      "execution_count": 0,
      "outputs": []
    },
    {
      "cell_type": "code",
      "metadata": {
        "id": "rZea_9M0ADPv",
        "colab_type": "code",
        "outputId": "1b21bf6e-f5af-421f-8634-0d3abbe900b1",
        "colab": {
          "base_uri": "https://localhost:8080/",
          "height": 35
        }
      },
      "source": [
        "a = [1, 2, 3]\n",
        "a[2] = 4\n",
        "a"
      ],
      "execution_count": 0,
      "outputs": [
        {
          "output_type": "execute_result",
          "data": {
            "text/plain": [
              "[1, 2, 4]"
            ]
          },
          "metadata": {
            "tags": []
          },
          "execution_count": 51
        }
      ]
    },
    {
      "cell_type": "markdown",
      "metadata": {
        "id": "cdd01FK9Apgu",
        "colab_type": "text"
      },
      "source": [
        "###del 함수 사용해 리스트 요소 삭제하기"
      ]
    },
    {
      "cell_type": "code",
      "metadata": {
        "id": "8DmJWaBtAsYv",
        "colab_type": "code",
        "outputId": "4c28100a-dabc-4cd3-c174-4d00b42f683e",
        "colab": {
          "base_uri": "https://localhost:8080/",
          "height": 35
        }
      },
      "source": [
        "a = [1, 2, 3]\n",
        "del a[1]\n",
        "a[1]"
      ],
      "execution_count": 0,
      "outputs": [
        {
          "output_type": "execute_result",
          "data": {
            "text/plain": [
              "3"
            ]
          },
          "metadata": {
            "tags": []
          },
          "execution_count": 54
        }
      ]
    },
    {
      "cell_type": "code",
      "metadata": {
        "id": "q06cVcYDBWoM",
        "colab_type": "code",
        "outputId": "e0a383ef-3958-4f7b-a5d7-13c08b10a1e7",
        "colab": {
          "base_uri": "https://localhost:8080/",
          "height": 35
        }
      },
      "source": [
        "a = [1, 2, 3, 4, 5]\n",
        "del a[2:]\n",
        "a"
      ],
      "execution_count": 0,
      "outputs": [
        {
          "output_type": "execute_result",
          "data": {
            "text/plain": [
              "[1, 2]"
            ]
          },
          "metadata": {
            "tags": []
          },
          "execution_count": 55
        }
      ]
    },
    {
      "cell_type": "markdown",
      "metadata": {
        "id": "VE6eG0P7Bbf2",
        "colab_type": "text"
      },
      "source": [
        "## 리스트 관련 함수들"
      ]
    },
    {
      "cell_type": "markdown",
      "metadata": {
        "id": "ub2OYqkOBkO-",
        "colab_type": "text"
      },
      "source": [
        "###리스트에 요소 추가(append)"
      ]
    },
    {
      "cell_type": "code",
      "metadata": {
        "id": "pxbCtEA1BmzW",
        "colab_type": "code",
        "outputId": "92be2884-1592-4ac4-fa92-e496c79c56a1",
        "colab": {
          "base_uri": "https://localhost:8080/",
          "height": 35
        }
      },
      "source": [
        "a = [1, 2, 3]\n",
        "a.append(4)\n",
        "a"
      ],
      "execution_count": 0,
      "outputs": [
        {
          "output_type": "execute_result",
          "data": {
            "text/plain": [
              "[1, 2, 3, 4]"
            ]
          },
          "metadata": {
            "tags": []
          },
          "execution_count": 56
        }
      ]
    },
    {
      "cell_type": "code",
      "metadata": {
        "id": "0yL6roC5CTwG",
        "colab_type": "code",
        "outputId": "c4d0fb9f-727c-48c4-8ede-57bf0ce6a0b2",
        "colab": {
          "base_uri": "https://localhost:8080/",
          "height": 35
        }
      },
      "source": [
        "a.append([5,6])\n",
        "a"
      ],
      "execution_count": 0,
      "outputs": [
        {
          "output_type": "execute_result",
          "data": {
            "text/plain": [
              "[1, 2, 3, 4, [5, 6]]"
            ]
          },
          "metadata": {
            "tags": []
          },
          "execution_count": 57
        }
      ]
    },
    {
      "cell_type": "code",
      "metadata": {
        "id": "DG4Mbf3CCaOX",
        "colab_type": "code",
        "outputId": "d41f3c88-35c2-450a-c82c-261195a4692f",
        "colab": {
          "base_uri": "https://localhost:8080/",
          "height": 269
        }
      },
      "source": [
        "a.append([\"안녕\"])\n",
        "a"
      ],
      "execution_count": 0,
      "outputs": [
        {
          "output_type": "execute_result",
          "data": {
            "text/plain": [
              "[1,\n",
              " 2,\n",
              " 3,\n",
              " 4,\n",
              " [5, 6],\n",
              " ['안녕'],\n",
              " ['안녕'],\n",
              " ['안녕'],\n",
              " ['안녕'],\n",
              " ['안녕'],\n",
              " ['안녕'],\n",
              " ['안녕'],\n",
              " ['안녕'],\n",
              " ['안녕']]"
            ]
          },
          "metadata": {
            "tags": []
          },
          "execution_count": 66
        }
      ]
    },
    {
      "cell_type": "markdown",
      "metadata": {
        "id": "TOh3snjnClpm",
        "colab_type": "text"
      },
      "source": [
        "### 리스트의 정렬(sort)"
      ]
    },
    {
      "cell_type": "code",
      "metadata": {
        "id": "_uioB0QPCo68",
        "colab_type": "code",
        "outputId": "de7c5e9a-92a8-42a8-9038-1f7ba40501b2",
        "colab": {
          "base_uri": "https://localhost:8080/",
          "height": 35
        }
      },
      "source": [
        "a = [1, 4, 2, 3]\n",
        "a.sort()\n",
        "a"
      ],
      "execution_count": 0,
      "outputs": [
        {
          "output_type": "execute_result",
          "data": {
            "text/plain": [
              "[1, 2, 3, 4]"
            ]
          },
          "metadata": {
            "tags": []
          },
          "execution_count": 68
        }
      ]
    },
    {
      "cell_type": "markdown",
      "metadata": {
        "id": "BWdV2iQ8DW2f",
        "colab_type": "text"
      },
      "source": [
        "### 리스트 뒤집기(reverse)"
      ]
    },
    {
      "cell_type": "code",
      "metadata": {
        "id": "rOjSK0FfDdTI",
        "colab_type": "code",
        "outputId": "76564b27-2fa9-439f-eaa3-0392fedd360d",
        "colab": {
          "base_uri": "https://localhost:8080/",
          "height": 35
        }
      },
      "source": [
        "a = ['a', 'b', 'c']\n",
        "a.reverse()\n",
        "a"
      ],
      "execution_count": 0,
      "outputs": [
        {
          "output_type": "execute_result",
          "data": {
            "text/plain": [
              "['c', 'b', 'a']"
            ]
          },
          "metadata": {
            "tags": []
          },
          "execution_count": 69
        }
      ]
    },
    {
      "cell_type": "markdown",
      "metadata": {
        "id": "VfKFIdl8DlZS",
        "colab_type": "text"
      },
      "source": [
        "###위치 반환(index)"
      ]
    },
    {
      "cell_type": "code",
      "metadata": {
        "id": "Aob2zyB9DmK2",
        "colab_type": "code",
        "outputId": "436bdde6-044f-4c93-89fe-bc833a0589db",
        "colab": {
          "base_uri": "https://localhost:8080/",
          "height": 35
        }
      },
      "source": [
        "a = ['a', 'b', 'c']\n",
        "a.index('c')\n",
        "a[2]"
      ],
      "execution_count": 0,
      "outputs": [
        {
          "output_type": "execute_result",
          "data": {
            "text/plain": [
              "'c'"
            ]
          },
          "metadata": {
            "tags": []
          },
          "execution_count": 72
        }
      ]
    },
    {
      "cell_type": "markdown",
      "metadata": {
        "id": "f-MBvJ9iEPtW",
        "colab_type": "text"
      },
      "source": [
        "###리스트에 요소 삽입(insert)"
      ]
    },
    {
      "cell_type": "code",
      "metadata": {
        "id": "jrSAm28WEQqc",
        "colab_type": "code",
        "outputId": "6f7142d9-1bab-4a96-9e9b-2f7df4dea89a",
        "colab": {
          "base_uri": "https://localhost:8080/",
          "height": 35
        }
      },
      "source": [
        "a=[1, 2, 3]\n",
        "a.insert(0, 4)\n",
        "a"
      ],
      "execution_count": 0,
      "outputs": [
        {
          "output_type": "execute_result",
          "data": {
            "text/plain": [
              "[4, 1, 2, 3]"
            ]
          },
          "metadata": {
            "tags": []
          },
          "execution_count": 75
        }
      ]
    },
    {
      "cell_type": "code",
      "metadata": {
        "id": "XNc9XbqCE3Te",
        "colab_type": "code",
        "outputId": "11de6726-524d-462b-93ad-d4ac770c3412",
        "colab": {
          "base_uri": "https://localhost:8080/",
          "height": 35
        }
      },
      "source": [
        "a.insert(3, 5)\n",
        "a"
      ],
      "execution_count": 0,
      "outputs": [
        {
          "output_type": "execute_result",
          "data": {
            "text/plain": [
              "[4, 1, 2, 5, 3]"
            ]
          },
          "metadata": {
            "tags": []
          },
          "execution_count": 76
        }
      ]
    },
    {
      "cell_type": "markdown",
      "metadata": {
        "id": "39_0T5NmE-sW",
        "colab_type": "text"
      },
      "source": [
        "###리스트 요소 제거(remove)"
      ]
    },
    {
      "cell_type": "code",
      "metadata": {
        "id": "A_N76sFxFC0G",
        "colab_type": "code",
        "outputId": "31574331-f87e-4d9e-ac38-ed7f8236654a",
        "colab": {
          "base_uri": "https://localhost:8080/",
          "height": 35
        }
      },
      "source": [
        "a = [1, 2, 3]\n",
        "a = a*2\n",
        "a"
      ],
      "execution_count": 0,
      "outputs": [
        {
          "output_type": "execute_result",
          "data": {
            "text/plain": [
              "[1, 2, 3, 1, 2, 3]"
            ]
          },
          "metadata": {
            "tags": []
          },
          "execution_count": 79
        }
      ]
    },
    {
      "cell_type": "code",
      "metadata": {
        "id": "koffSgozFbe2",
        "colab_type": "code",
        "outputId": "8d885e2f-c23b-4231-c3a9-2e7c6425f8f7",
        "colab": {
          "base_uri": "https://localhost:8080/",
          "height": 35
        }
      },
      "source": [
        "a.remove(3)\n",
        "a"
      ],
      "execution_count": 0,
      "outputs": [
        {
          "output_type": "execute_result",
          "data": {
            "text/plain": [
              "[1, 2, 1, 2, 3]"
            ]
          },
          "metadata": {
            "tags": []
          },
          "execution_count": 80
        }
      ]
    },
    {
      "cell_type": "markdown",
      "metadata": {
        "id": "1ZWAIF3aF7VP",
        "colab_type": "text"
      },
      "source": [
        "###리스트 요소 끄집어내기(pop)"
      ]
    },
    {
      "cell_type": "code",
      "metadata": {
        "id": "-ccga7ClF-qu",
        "colab_type": "code",
        "outputId": "dab8e518-719d-4f62-e2b0-44d0a8689de3",
        "colab": {
          "base_uri": "https://localhost:8080/",
          "height": 35
        }
      },
      "source": [
        "a = [1, 2, 3]\n",
        "a.pop()\n",
        "a"
      ],
      "execution_count": 0,
      "outputs": [
        {
          "output_type": "execute_result",
          "data": {
            "text/plain": [
              "[1, 2]"
            ]
          },
          "metadata": {
            "tags": []
          },
          "execution_count": 81
        }
      ]
    },
    {
      "cell_type": "code",
      "metadata": {
        "id": "kdZIya2pG2V-",
        "colab_type": "code",
        "outputId": "98b36fa5-3d8c-46cd-9b5f-492b1ab77ef1",
        "colab": {
          "base_uri": "https://localhost:8080/",
          "height": 35
        }
      },
      "source": [
        "a = [1, 2, 3]\n",
        "a.pop(0)\n",
        "a"
      ],
      "execution_count": 0,
      "outputs": [
        {
          "output_type": "execute_result",
          "data": {
            "text/plain": [
              "[2, 3]"
            ]
          },
          "metadata": {
            "tags": []
          },
          "execution_count": 85
        }
      ]
    },
    {
      "cell_type": "markdown",
      "metadata": {
        "id": "0AaKD1-3HJGo",
        "colab_type": "text"
      },
      "source": [
        "###리스트에 포함된 요소 x의 개수 세기(count)"
      ]
    },
    {
      "cell_type": "code",
      "metadata": {
        "id": "U0xhJxH-HQO_",
        "colab_type": "code",
        "outputId": "94a767b6-e27a-4a8f-80da-bf7d2605b50f",
        "colab": {
          "base_uri": "https://localhost:8080/",
          "height": 35
        }
      },
      "source": [
        "a = [1, 2, 3, 1, 1, 1, 2, 3, 4,2,3, 3,2]\n",
        "a.count(1)"
      ],
      "execution_count": 0,
      "outputs": [
        {
          "output_type": "execute_result",
          "data": {
            "text/plain": [
              "4"
            ]
          },
          "metadata": {
            "tags": []
          },
          "execution_count": 88
        }
      ]
    },
    {
      "cell_type": "code",
      "metadata": {
        "id": "GMQ55_trHaAe",
        "colab_type": "code",
        "outputId": "d7551afc-2843-49b4-c85d-7040ebb3f696",
        "colab": {
          "base_uri": "https://localhost:8080/",
          "height": 35
        }
      },
      "source": [
        "a.count(2)"
      ],
      "execution_count": 0,
      "outputs": [
        {
          "output_type": "execute_result",
          "data": {
            "text/plain": [
              "4"
            ]
          },
          "metadata": {
            "tags": []
          },
          "execution_count": 90
        }
      ]
    },
    {
      "cell_type": "code",
      "metadata": {
        "id": "nvve573AHgcO",
        "colab_type": "code",
        "outputId": "f52bbb91-b0eb-4226-cbbb-73e62ec075ba",
        "colab": {
          "base_uri": "https://localhost:8080/",
          "height": 35
        }
      },
      "source": [
        "a.count(3)"
      ],
      "execution_count": 0,
      "outputs": [
        {
          "output_type": "execute_result",
          "data": {
            "text/plain": [
              "4"
            ]
          },
          "metadata": {
            "tags": []
          },
          "execution_count": 89
        }
      ]
    },
    {
      "cell_type": "markdown",
      "metadata": {
        "id": "poES5u4ZHu2e",
        "colab_type": "text"
      },
      "source": [
        "###리스트 확장(extend)"
      ]
    },
    {
      "cell_type": "code",
      "metadata": {
        "id": "pXE2xEivHw83",
        "colab_type": "code",
        "outputId": "54712030-22bb-4ef0-86a0-62fd367461a0",
        "colab": {
          "base_uri": "https://localhost:8080/",
          "height": 35
        }
      },
      "source": [
        "a = [1, 2, 3]\n",
        "a.extend([4, 5])\n",
        "a"
      ],
      "execution_count": 0,
      "outputs": [
        {
          "output_type": "execute_result",
          "data": {
            "text/plain": [
              "[1, 2, 3, 4, 5]"
            ]
          },
          "metadata": {
            "tags": []
          },
          "execution_count": 93
        }
      ]
    },
    {
      "cell_type": "code",
      "metadata": {
        "id": "xAOwBx9KIM_o",
        "colab_type": "code",
        "outputId": "ad305f97-405e-4958-cce1-c6b4d7db4262",
        "colab": {
          "base_uri": "https://localhost:8080/",
          "height": 35
        }
      },
      "source": [
        "b = [6, 7]\n",
        "a.extend(b)\n",
        "a"
      ],
      "execution_count": 0,
      "outputs": [
        {
          "output_type": "execute_result",
          "data": {
            "text/plain": [
              "[1, 2, 3, 4, 5, 6, 7]"
            ]
          },
          "metadata": {
            "tags": []
          },
          "execution_count": 94
        }
      ]
    },
    {
      "cell_type": "markdown",
      "metadata": {
        "id": "lkWqIQ7LIR7f",
        "colab_type": "text"
      },
      "source": [
        "#02-4 듀플 자료형"
      ]
    },
    {
      "cell_type": "markdown",
      "metadata": {
        "id": "7DIC4grxIfRW",
        "colab_type": "text"
      },
      "source": [
        "##튜플(tuple)은 어떻게 만들까?"
      ]
    },
    {
      "cell_type": "code",
      "metadata": {
        "id": "4evzdecHIjAf",
        "colab_type": "code",
        "outputId": "c38f8386-5d5c-4985-b0eb-1ef39e4a6d74",
        "colab": {
          "base_uri": "https://localhost:8080/",
          "height": 35
        }
      },
      "source": [
        "t1 = ()\n",
        "t1 = list(t1)\n",
        "type(t1)\n",
        "t1 = tuple(t1)\n",
        "type (t1)"
      ],
      "execution_count": 0,
      "outputs": [
        {
          "output_type": "execute_result",
          "data": {
            "text/plain": [
              "tuple"
            ]
          },
          "metadata": {
            "tags": []
          },
          "execution_count": 102
        }
      ]
    },
    {
      "cell_type": "code",
      "metadata": {
        "id": "FCDAzmgZIyBW",
        "colab_type": "code",
        "outputId": "2bfcb344-004b-4b75-a828-af94b478f35f",
        "colab": {
          "base_uri": "https://localhost:8080/",
          "height": 35
        }
      },
      "source": [
        "a = 1\n",
        "type(1)"
      ],
      "execution_count": 0,
      "outputs": [
        {
          "output_type": "execute_result",
          "data": {
            "text/plain": [
              "int"
            ]
          },
          "metadata": {
            "tags": []
          },
          "execution_count": 97
        }
      ]
    },
    {
      "cell_type": "markdown",
      "metadata": {
        "id": "Vb3l1yAmKHmQ",
        "colab_type": "text"
      },
      "source": [
        "##튜플 다루기"
      ]
    },
    {
      "cell_type": "markdown",
      "metadata": {
        "id": "VU61-kidKJ7u",
        "colab_type": "text"
      },
      "source": [
        "### 인덱싱 하기"
      ]
    },
    {
      "cell_type": "code",
      "metadata": {
        "id": "M3rv9aUNKLbX",
        "colab_type": "code",
        "outputId": "584a7318-4839-4a6f-91e1-a099d30bba95",
        "colab": {
          "base_uri": "https://localhost:8080/",
          "height": 35
        }
      },
      "source": [
        "t1 = (1, 2, 'a', 'b')\n",
        "c= t1[0], t1[1], t1[2], t1[3]\n",
        "type(c)"
      ],
      "execution_count": 0,
      "outputs": [
        {
          "output_type": "execute_result",
          "data": {
            "text/plain": [
              "tuple"
            ]
          },
          "metadata": {
            "tags": []
          },
          "execution_count": 107
        }
      ]
    },
    {
      "cell_type": "markdown",
      "metadata": {
        "id": "r94XAIKzK9uI",
        "colab_type": "text"
      },
      "source": [
        "### 슬라이싱 하기"
      ]
    },
    {
      "cell_type": "code",
      "metadata": {
        "id": "kruux3n_K_Mw",
        "colab_type": "code",
        "outputId": "4731550a-650d-4404-c0ce-2e3a238b9e6f",
        "colab": {
          "base_uri": "https://localhost:8080/",
          "height": 35
        }
      },
      "source": [
        "t1 = [1, 2, 'a', 'b']\n",
        "t1[1:]"
      ],
      "execution_count": 0,
      "outputs": [
        {
          "output_type": "execute_result",
          "data": {
            "text/plain": [
              "[2, 'a', 'b']"
            ]
          },
          "metadata": {
            "tags": []
          },
          "execution_count": 108
        }
      ]
    },
    {
      "cell_type": "code",
      "metadata": {
        "id": "AxoE7movLNrU",
        "colab_type": "code",
        "outputId": "e1b3604b-b7b2-4e2e-d7a0-cb8dba76ce66",
        "colab": {
          "base_uri": "https://localhost:8080/",
          "height": 35
        }
      },
      "source": [
        "t1 = 1, 2, 'a', 'b'\n",
        "t2 = 3, 4\n",
        "\n",
        "t1 = t1 + t2\n",
        "t1"
      ],
      "execution_count": 0,
      "outputs": [
        {
          "output_type": "execute_result",
          "data": {
            "text/plain": [
              "(1, 2, 'a', 'b', 3, 4)"
            ]
          },
          "metadata": {
            "tags": []
          },
          "execution_count": 111
        }
      ]
    },
    {
      "cell_type": "code",
      "metadata": {
        "id": "UzMMfPA5Lrke",
        "colab_type": "code",
        "outputId": "3d993b5a-f8f0-4611-bc0e-f8694a21b508",
        "colab": {
          "base_uri": "https://localhost:8080/",
          "height": 35
        }
      },
      "source": [
        "t2 = (3, 4)\n",
        "t2 * 3"
      ],
      "execution_count": 0,
      "outputs": [
        {
          "output_type": "execute_result",
          "data": {
            "text/plain": [
              "(3, 4, 3, 4, 3, 4)"
            ]
          },
          "metadata": {
            "tags": []
          },
          "execution_count": 116
        }
      ]
    },
    {
      "cell_type": "markdown",
      "metadata": {
        "id": "BfBazVdBL1VX",
        "colab_type": "text"
      },
      "source": [
        "#02-. 딕셔너리 자료형"
      ]
    },
    {
      "cell_type": "markdown",
      "metadata": {
        "id": "lPub9znEL4ZG",
        "colab_type": "text"
      },
      "source": [
        "## 딕셔너리 어떻게 만들까"
      ]
    },
    {
      "cell_type": "code",
      "metadata": {
        "id": "aCBpPoRSMZjf",
        "colab_type": "code",
        "outputId": "bb5fa3f7-dd5c-4db6-aa66-6cd2fd4a3199",
        "colab": {
          "base_uri": "https://localhost:8080/",
          "height": 35
        }
      },
      "source": [
        "dic = { 'name' : \"이철우\", 'phone' : \"01022676244\", 'bith' : '0905'  }\n",
        "dic"
      ],
      "execution_count": 0,
      "outputs": [
        {
          "output_type": "execute_result",
          "data": {
            "text/plain": [
              "{'bith': '0905', 'name': '이철우', 'phone': '01022676244'}"
            ]
          },
          "metadata": {
            "tags": []
          },
          "execution_count": 117
        }
      ]
    },
    {
      "cell_type": "markdown",
      "metadata": {
        "id": "mjIXHwBgNMOl",
        "colab_type": "text"
      },
      "source": [
        "##딕셔너리 쌍 추가, 삭제하기"
      ]
    },
    {
      "cell_type": "markdown",
      "metadata": {
        "id": "b8kz-YxWNREX",
        "colab_type": "text"
      },
      "source": [
        "###딕셔너리 쌍 추가하기"
      ]
    },
    {
      "cell_type": "code",
      "metadata": {
        "id": "INN9R89MNR9w",
        "colab_type": "code",
        "outputId": "e87a5d84-dc82-4f61-86be-fcdc6ea7a664",
        "colab": {
          "base_uri": "https://localhost:8080/",
          "height": 35
        }
      },
      "source": [
        "a = {1:'a'}\n",
        "a[2] = 'b'\n",
        "a['name'] = \"이철우\"\n",
        "a['list'] = 'a', 'b', 'c'\n",
        "a"
      ],
      "execution_count": 0,
      "outputs": [
        {
          "output_type": "execute_result",
          "data": {
            "text/plain": [
              "{1: 'a', 2: 'b', 'list': ('a', 'b', 'c'), 'name': '이철우'}"
            ]
          },
          "metadata": {
            "tags": []
          },
          "execution_count": 122
        }
      ]
    },
    {
      "cell_type": "markdown",
      "metadata": {
        "id": "uRGhf2FLNti2",
        "colab_type": "text"
      },
      "source": [
        "##딕셔너리 요소 삭제하기"
      ]
    },
    {
      "cell_type": "code",
      "metadata": {
        "id": "9pxVhfQRN-qu",
        "colab_type": "code",
        "outputId": "406895c3-dc0d-4f53-95a1-be88779b99d3",
        "colab": {
          "base_uri": "https://localhost:8080/",
          "height": 35
        }
      },
      "source": [
        "del a['name']\n",
        "a"
      ],
      "execution_count": 0,
      "outputs": [
        {
          "output_type": "execute_result",
          "data": {
            "text/plain": [
              "{2: 'b', 'list': ('a', 'b', 'c')}"
            ]
          },
          "metadata": {
            "tags": []
          },
          "execution_count": 125
        }
      ]
    },
    {
      "cell_type": "code",
      "metadata": {
        "id": "hF1D880_OQne",
        "colab_type": "code",
        "colab": {}
      },
      "source": [
        "grade = { '이철우' : 100, '아베' : 0 }"
      ],
      "execution_count": 0,
      "outputs": []
    },
    {
      "cell_type": "code",
      "metadata": {
        "id": "B6DCCsQROYDc",
        "colab_type": "code",
        "outputId": "4e433b5d-e4b2-4636-cf74-8f40d8d26652",
        "colab": {
          "base_uri": "https://localhost:8080/",
          "height": 35
        }
      },
      "source": [
        "grade[\"이철우\"]"
      ],
      "execution_count": 0,
      "outputs": [
        {
          "output_type": "execute_result",
          "data": {
            "text/plain": [
              "100"
            ]
          },
          "metadata": {
            "tags": []
          },
          "execution_count": 132
        }
      ]
    },
    {
      "cell_type": "markdown",
      "metadata": {
        "id": "_Qn38ntsO3KZ",
        "colab_type": "text"
      },
      "source": [
        "## dictunary 함수"
      ]
    },
    {
      "cell_type": "code",
      "metadata": {
        "id": "Z_FXFBTkO8f-",
        "colab_type": "code",
        "outputId": "d6f1663a-9725-42e9-832b-0f2be05f132f",
        "colab": {
          "base_uri": "https://localhost:8080/",
          "height": 35
        }
      },
      "source": [
        "a = {'name' : '이철우', 'phone' : \"01022676244\", 'birth' : '0429' }\n",
        "a.keys()"
      ],
      "execution_count": 0,
      "outputs": [
        {
          "output_type": "execute_result",
          "data": {
            "text/plain": [
              "dict_keys(['name', 'phone', 'birth'])"
            ]
          },
          "metadata": {
            "tags": []
          },
          "execution_count": 133
        }
      ]
    },
    {
      "cell_type": "code",
      "metadata": {
        "id": "5hOZRn-mPRwU",
        "colab_type": "code",
        "outputId": "e5c6f2d0-4232-4694-a004-b774b08c4ab8",
        "colab": {
          "base_uri": "https://localhost:8080/",
          "height": 71
        }
      },
      "source": [
        "for k in a.keys() : \n",
        "  print(k)"
      ],
      "execution_count": 0,
      "outputs": [
        {
          "output_type": "stream",
          "text": [
            "name\n",
            "phone\n",
            "birth\n"
          ],
          "name": "stdout"
        }
      ]
    },
    {
      "cell_type": "code",
      "metadata": {
        "id": "5tgQiJ3BPuYs",
        "colab_type": "code",
        "outputId": "0320c6fc-7e45-4bf9-afde-c0c010687970",
        "colab": {
          "base_uri": "https://localhost:8080/",
          "height": 190
        }
      },
      "source": [
        "list(a.keys())\n"
      ],
      "execution_count": 0,
      "outputs": [
        {
          "output_type": "error",
          "ename": "AttributeError",
          "evalue": "ignored",
          "traceback": [
            "\u001b[0;31m---------------------------------------------------------------------------\u001b[0m",
            "\u001b[0;31mAttributeError\u001b[0m                            Traceback (most recent call last)",
            "\u001b[0;32m<ipython-input-137-eff59a6377ff>\u001b[0m in \u001b[0;36m<module>\u001b[0;34m()\u001b[0m\n\u001b[1;32m      1\u001b[0m \u001b[0mlist\u001b[0m\u001b[0;34m(\u001b[0m\u001b[0ma\u001b[0m\u001b[0;34m.\u001b[0m\u001b[0mkeys\u001b[0m\u001b[0;34m(\u001b[0m\u001b[0;34m)\u001b[0m\u001b[0;34m)\u001b[0m\u001b[0;34m\u001b[0m\u001b[0;34m\u001b[0m\u001b[0m\n\u001b[0;32m----> 2\u001b[0;31m \u001b[0ma\u001b[0m\u001b[0;34m.\u001b[0m\u001b[0mvelues\u001b[0m\u001b[0;34m(\u001b[0m\u001b[0;34m)\u001b[0m\u001b[0;34m\u001b[0m\u001b[0;34m\u001b[0m\u001b[0m\n\u001b[0m",
            "\u001b[0;31mAttributeError\u001b[0m: 'dict' object has no attribute 'velues'"
          ]
        }
      ]
    },
    {
      "cell_type": "code",
      "metadata": {
        "id": "HLOKSaODP2pe",
        "colab_type": "code",
        "outputId": "c389e2a6-c2a5-47c9-af33-e1a1c8f30da8",
        "colab": {
          "base_uri": "https://localhost:8080/",
          "height": 35
        }
      },
      "source": [
        "a.values()"
      ],
      "execution_count": 0,
      "outputs": [
        {
          "output_type": "execute_result",
          "data": {
            "text/plain": [
              "dict_values(['이철우', '01022676244', '0429'])"
            ]
          },
          "metadata": {
            "tags": []
          },
          "execution_count": 139
        }
      ]
    },
    {
      "cell_type": "code",
      "metadata": {
        "id": "AN-UkAjGP50P",
        "colab_type": "code",
        "outputId": "6364a68e-7816-49b2-de15-956c0f98dccf",
        "colab": {
          "base_uri": "https://localhost:8080/",
          "height": 35
        }
      },
      "source": [
        "a.items()"
      ],
      "execution_count": 0,
      "outputs": [
        {
          "output_type": "execute_result",
          "data": {
            "text/plain": [
              "dict_items([('name', '이철우'), ('phone', '01022676244'), ('birth', '0429')])"
            ]
          },
          "metadata": {
            "tags": []
          },
          "execution_count": 141
        }
      ]
    },
    {
      "cell_type": "code",
      "metadata": {
        "id": "TJZb-5s2P8ye",
        "colab_type": "code",
        "outputId": "26bc2175-88d9-4c03-9f19-7b84a892425b",
        "colab": {
          "base_uri": "https://localhost:8080/",
          "height": 35
        }
      },
      "source": [
        "a.clear()\n",
        "a"
      ],
      "execution_count": 0,
      "outputs": [
        {
          "output_type": "execute_result",
          "data": {
            "text/plain": [
              "{}"
            ]
          },
          "metadata": {
            "tags": []
          },
          "execution_count": 142
        }
      ]
    },
    {
      "cell_type": "code",
      "metadata": {
        "id": "lZE6R8kDQH-9",
        "colab_type": "code",
        "outputId": "c6a3093d-755f-4a9e-8891-f14abfaedd00",
        "colab": {
          "base_uri": "https://localhost:8080/",
          "height": 35
        }
      },
      "source": [
        "a = {'name':'pey', 'phone':'0119993323', 'birth': '1118'}\n",
        "a.get('name')"
      ],
      "execution_count": 0,
      "outputs": [
        {
          "output_type": "execute_result",
          "data": {
            "text/plain": [
              "'pey'"
            ]
          },
          "metadata": {
            "tags": []
          },
          "execution_count": 147
        }
      ]
    },
    {
      "cell_type": "code",
      "metadata": {
        "id": "Blpt5zFHQQyo",
        "colab_type": "code",
        "outputId": "a2e7809c-44a4-4c48-f368-caac24beaf8b",
        "colab": {
          "base_uri": "https://localhost:8080/",
          "height": 35
        }
      },
      "source": [
        "a.get('phone')"
      ],
      "execution_count": 0,
      "outputs": [
        {
          "output_type": "execute_result",
          "data": {
            "text/plain": [
              "'0119993323'"
            ]
          },
          "metadata": {
            "tags": []
          },
          "execution_count": 148
        }
      ]
    },
    {
      "cell_type": "markdown",
      "metadata": {
        "id": "KXbrVcHhQZaP",
        "colab_type": "text"
      },
      "source": [
        ""
      ]
    },
    {
      "cell_type": "code",
      "metadata": {
        "id": "awrBP3CZQRz_",
        "colab_type": "code",
        "colab": {}
      },
      "source": [
        "a = {'name':'pey', '이철우':'0119993323', 'birth': '1118'}"
      ],
      "execution_count": 0,
      "outputs": []
    },
    {
      "cell_type": "code",
      "metadata": {
        "id": "ZracTCPQQfso",
        "colab_type": "code",
        "outputId": "20a94ea5-c5c7-43e9-f847-ebefa04f066e",
        "colab": {
          "base_uri": "https://localhost:8080/",
          "height": 35
        }
      },
      "source": [
        "'money' in a"
      ],
      "execution_count": 0,
      "outputs": [
        {
          "output_type": "execute_result",
          "data": {
            "text/plain": [
              "False"
            ]
          },
          "metadata": {
            "tags": []
          },
          "execution_count": 149
        }
      ]
    }
  ]
}